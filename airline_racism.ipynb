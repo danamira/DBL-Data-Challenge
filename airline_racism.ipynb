{
 "cells": [
  {
   "cell_type": "code",
   "execution_count": 9,
   "metadata": {},
   "outputs": [
    {
     "ename": "ImportError",
     "evalue": "\nAutoModelForSequenceClassification requires the PyTorch library but it was not found in your environment. Checkout the instructions on the\ninstallation page: https://pytorch.org/get-started/locally/ and follow the ones that match your environment.\nPlease note that you may need to restart your runtime after installation.\n",
     "output_type": "error",
     "traceback": [
      "\u001b[1;31m---------------------------------------------------------------------------\u001b[0m",
      "\u001b[1;31mImportError\u001b[0m                               Traceback (most recent call last)",
      "\u001b[1;32mc:\\Users\\andre\\Desktop\\DBL-Data-Challenge\\airline_racism.ipynb Cell 1\u001b[0m in \u001b[0;36m<cell line: 2>\u001b[1;34m()\u001b[0m\n\u001b[0;32m      <a href='vscode-notebook-cell:/c%3A/Users/andre/Desktop/DBL-Data-Challenge/airline_racism.ipynb#W0sZmlsZQ%3D%3D?line=0'>1</a>\u001b[0m \u001b[39mfrom\u001b[39;00m \u001b[39mdatabase\u001b[39;00m\u001b[39m.\u001b[39;00m\u001b[39mconnect\u001b[39;00m \u001b[39mimport\u001b[39;00m getConnection\n\u001b[1;32m----> <a href='vscode-notebook-cell:/c%3A/Users/andre/Desktop/DBL-Data-Challenge/airline_racism.ipynb#W0sZmlsZQ%3D%3D?line=1'>2</a>\u001b[0m \u001b[39mimport\u001b[39;00m \u001b[39mJsonHandler\u001b[39;00m \u001b[39mas\u001b[39;00m \u001b[39mjh\u001b[39;00m\n\u001b[0;32m      <a href='vscode-notebook-cell:/c%3A/Users/andre/Desktop/DBL-Data-Challenge/airline_racism.ipynb#W0sZmlsZQ%3D%3D?line=2'>3</a>\u001b[0m \u001b[39mimport\u001b[39;00m \u001b[39mmysql\u001b[39;00m\n\u001b[0;32m      <a href='vscode-notebook-cell:/c%3A/Users/andre/Desktop/DBL-Data-Challenge/airline_racism.ipynb#W0sZmlsZQ%3D%3D?line=3'>4</a>\u001b[0m \u001b[39mimport\u001b[39;00m \u001b[39mpandas\u001b[39;00m \u001b[39mas\u001b[39;00m \u001b[39mpd\u001b[39;00m\n",
      "File \u001b[1;32mc:\\Users\\andre\\Desktop\\DBL-Data-Challenge\\JsonHandler.py:6\u001b[0m, in \u001b[0;36m<module>\u001b[1;34m\u001b[0m\n\u001b[0;32m      4\u001b[0m \u001b[39mfrom\u001b[39;00m \u001b[39mpathlib\u001b[39;00m \u001b[39mimport\u001b[39;00m Path\n\u001b[0;32m      5\u001b[0m \u001b[39mimport\u001b[39;00m \u001b[39mre\u001b[39;00m\n\u001b[1;32m----> 6\u001b[0m \u001b[39mfrom\u001b[39;00m \u001b[39mprocesses\u001b[39;00m\u001b[39m.\u001b[39;00m\u001b[39msentiment\u001b[39;00m \u001b[39mimport\u001b[39;00m sentiment_score, vader_score\n\u001b[0;32m      8\u001b[0m airlines_list \u001b[39m=\u001b[39m [\u001b[39m'\u001b[39m\u001b[39mklm\u001b[39m\u001b[39m'\u001b[39m,\n\u001b[0;32m      9\u001b[0m                 \u001b[39m'\u001b[39m\u001b[39mairfrance\u001b[39m\u001b[39m'\u001b[39m,\n\u001b[0;32m     10\u001b[0m                 \u001b[39m'\u001b[39m\u001b[39mair france\u001b[39m\u001b[39m'\u001b[39m,\n\u001b[1;32m   (...)\u001b[0m\n\u001b[0;32m     30\u001b[0m                 \u001b[39m'\u001b[39m\u001b[39mvirginatlantic\u001b[39m\u001b[39m'\u001b[39m,\n\u001b[0;32m     31\u001b[0m                 ]\n\u001b[0;32m     33\u001b[0m languages_list \u001b[39m=\u001b[39m [\u001b[39m'\u001b[39m\u001b[39mar\u001b[39m\u001b[39m'\u001b[39m,\n\u001b[0;32m     34\u001b[0m                 \u001b[39m'\u001b[39m\u001b[39men\u001b[39m\u001b[39m'\u001b[39m,\n\u001b[0;32m     35\u001b[0m                 \u001b[39m'\u001b[39m\u001b[39mfr\u001b[39m\u001b[39m'\u001b[39m,\n\u001b[1;32m   (...)\u001b[0m\n\u001b[0;32m     40\u001b[0m                 \u001b[39m'\u001b[39m\u001b[39mhi\u001b[39m\u001b[39m'\u001b[39m,\n\u001b[0;32m     41\u001b[0m                 ]\n",
      "File \u001b[1;32mc:\\Users\\andre\\Desktop\\DBL-Data-Challenge\\processes\\sentiment.py:24\u001b[0m, in \u001b[0;36m<module>\u001b[1;34m\u001b[0m\n\u001b[0;32m     21\u001b[0m MODEL \u001b[39m=\u001b[39m \u001b[39m\"\u001b[39m\u001b[39mcardiffnlp/twitter-roberta-base-sentiment-latest\u001b[39m\u001b[39m\"\u001b[39m\n\u001b[0;32m     22\u001b[0m tokenizer \u001b[39m=\u001b[39m AutoTokenizer\u001b[39m.\u001b[39mfrom_pretrained(MODEL)\n\u001b[1;32m---> 24\u001b[0m model \u001b[39m=\u001b[39m AutoModelForSequenceClassification\u001b[39m.\u001b[39;49mfrom_pretrained(MODEL)\n\u001b[0;32m     25\u001b[0m \u001b[39m#model.save_pretrained(MODEL)\u001b[39;00m\n\u001b[0;32m     28\u001b[0m \u001b[39mdef\u001b[39;00m \u001b[39msentiment_score\u001b[39m(text):\n",
      "File \u001b[1;32md:\\Anaconda3\\envs\\dbl\\lib\\site-packages\\transformers\\utils\\import_utils.py:1112\u001b[0m, in \u001b[0;36mDummyObject.__getattribute__\u001b[1;34m(cls, key)\u001b[0m\n\u001b[0;32m   1110\u001b[0m \u001b[39mif\u001b[39;00m key\u001b[39m.\u001b[39mstartswith(\u001b[39m\"\u001b[39m\u001b[39m_\u001b[39m\u001b[39m\"\u001b[39m) \u001b[39mand\u001b[39;00m key \u001b[39m!=\u001b[39m \u001b[39m\"\u001b[39m\u001b[39m_from_config\u001b[39m\u001b[39m\"\u001b[39m:\n\u001b[0;32m   1111\u001b[0m     \u001b[39mreturn\u001b[39;00m \u001b[39msuper\u001b[39m()\u001b[39m.\u001b[39m\u001b[39m__getattribute__\u001b[39m(key)\n\u001b[1;32m-> 1112\u001b[0m requires_backends(\u001b[39mcls\u001b[39;49m, \u001b[39mcls\u001b[39;49m\u001b[39m.\u001b[39;49m_backends)\n",
      "File \u001b[1;32md:\\Anaconda3\\envs\\dbl\\lib\\site-packages\\transformers\\utils\\import_utils.py:1100\u001b[0m, in \u001b[0;36mrequires_backends\u001b[1;34m(obj, backends)\u001b[0m\n\u001b[0;32m   1098\u001b[0m failed \u001b[39m=\u001b[39m [msg\u001b[39m.\u001b[39mformat(name) \u001b[39mfor\u001b[39;00m available, msg \u001b[39min\u001b[39;00m checks \u001b[39mif\u001b[39;00m \u001b[39mnot\u001b[39;00m available()]\n\u001b[0;32m   1099\u001b[0m \u001b[39mif\u001b[39;00m failed:\n\u001b[1;32m-> 1100\u001b[0m     \u001b[39mraise\u001b[39;00m \u001b[39mImportError\u001b[39;00m(\u001b[39m\"\u001b[39m\u001b[39m\"\u001b[39m\u001b[39m.\u001b[39mjoin(failed))\n",
      "\u001b[1;31mImportError\u001b[0m: \nAutoModelForSequenceClassification requires the PyTorch library but it was not found in your environment. Checkout the instructions on the\ninstallation page: https://pytorch.org/get-started/locally/ and follow the ones that match your environment.\nPlease note that you may need to restart your runtime after installation.\n"
     ]
    }
   ],
   "source": [
    "from database.connect import getConnection\n",
    "import JsonHandler as jh\n",
    "import mysql\n",
    "import pandas as pd\n",
    "from pathlib import Path\n",
    "import csv"
   ]
  },
  {
   "cell_type": "code",
   "execution_count": 6,
   "metadata": {},
   "outputs": [],
   "source": [
    "try:\n",
    "    connection = getConnection()\n",
    "except Exception:\n",
    "    print(\"✖️ Error while connecting to MySQL engine database.\")\n",
    "    print(\"ℹ️ Please make sure the environment file `.env` is located at\"+\n",
    "        \"the project root directory and contains proper configuration.\")\n",
    "    raise\n",
    "\n",
    "cursor = connection.cursor()"
   ]
  },
  {
   "cell_type": "code",
   "execution_count": 7,
   "metadata": {},
   "outputs": [
    {
     "ename": "NameError",
     "evalue": "name 'jh' is not defined",
     "output_type": "error",
     "traceback": [
      "\u001b[1;31m---------------------------------------------------------------------------\u001b[0m",
      "\u001b[1;31mNameError\u001b[0m                                 Traceback (most recent call last)",
      "\u001b[1;32mc:\\Users\\andre\\Desktop\\DBL-Data-Challenge\\airline_racism.ipynb Cell 3\u001b[0m in \u001b[0;36m<cell line: 1>\u001b[1;34m()\u001b[0m\n\u001b[1;32m----> <a href='vscode-notebook-cell:/c%3A/Users/andre/Desktop/DBL-Data-Challenge/airline_racism.ipynb#W2sZmlsZQ%3D%3D?line=0'>1</a>\u001b[0m \u001b[39mprint\u001b[39m(jh\u001b[39m.\u001b[39mlanguages_list)\n",
      "\u001b[1;31mNameError\u001b[0m: name 'jh' is not defined"
     ]
    }
   ],
   "source": [
    "print(jh.languages_list)\n"
   ]
  },
  {
   "cell_type": "code",
   "execution_count": 7,
   "metadata": {},
   "outputs": [],
   "source": [
    "airlines_dict = {'KLM': ['klm'],\n",
    "                'AirFrance':['airfrance',\n",
    "                            'air france'],\n",
    "                'British_Airways': ['british_airways',\n",
    "                                    'british airways'],\n",
    "                'AmericanAir': ['americanair',\n",
    "                                'american airlines'],\n",
    "                'Lufthansa': ['lufthansa'],\n",
    "                'AirBerlin': ['airberlin',\n",
    "                                'air berlin'],\n",
    "                'AirBerlin assist': ['airberlin assist',\n",
    "                                    'air berlin assist',\n",
    "                                    'airberlinassist'],\n",
    "                'easyJet': ['easyjet'],\n",
    "                'RyanAir': ['ryanair'],\n",
    "                'SingaporeAir': ['singaporeair',\n",
    "                                'singapore airlines'],\n",
    "                'Qantas': ['qantas'],\n",
    "                'EtihadAirways': ['etihad airways',\n",
    "                                'etihadairways',\n",
    "                                'etihad'],\n",
    "                'VirginAtlantic': ['virgin atlantic',\n",
    "                                    'virginatlantic'],\n",
    "            }"
   ]
  },
  {
   "cell_type": "code",
   "execution_count": 8,
   "metadata": {},
   "outputs": [],
   "source": [
    "# Create a cursor to execute SQL queries\n",
    "cursor = connection.cursor()\n",
    "\n",
    "# open the csv file\n",
    "with open(Path('output/airline_racism.csv'), 'w') as f:\n",
    "    f.write(\"Airline,Language,ParticipatedPercentage,TotalConversations,ParticipatedConversations\\n\")\n",
    "    for key, value in airlines_dict.items():\n",
    "        query = f\"\"\"\n",
    "            SELECT\n",
    "                t.language AS Language,\n",
    "                (SUM(CASE WHEN c.Airline LIKE '%{key}%' THEN 1 ELSE 0 END) / COUNT(*)) * 100 AS ParticipatedPercentage,\n",
    "                COUNT(*) AS TotalConversations,\n",
    "                SUM(CASE WHEN c.Airline LIKE '%{key}%' THEN 1 ELSE 0 END) AS ParticipatedConversations\n",
    "            FROM\n",
    "                conversations c\n",
    "                INNER JOIN part_of p ON c.id = p.cID\n",
    "                INNER JOIN tweets t ON t.id = p.tID\n",
    "            WHERE\n",
    "                (t.airlines LIKE '%lazy_query_strat_ignore_this%'\n",
    "        \"\"\"\n",
    "        for airline in value:\n",
    "            query += f\" OR t.airlines LIKE '%{airline}%'\"\n",
    "\n",
    "        query += \"\"\"\n",
    "            )\n",
    "            GROUP BY Language\n",
    "        \"\"\"\n",
    "\n",
    "        cursor.execute(query)\n",
    "        result = cursor.fetchall()\n",
    "        # save the results to a csv file\n",
    "        airline = key\n",
    "        print(airline)\n",
    "        for row in result:\n",
    "            language = row[0]\n",
    "            participated_percentage = row[1]\n",
    "            total_conversations = row[2]\n",
    "            participated_conversations = row[3]\n",
    "            f.write(f\"{airline},{language},{participated_percentage},{total_conversations},{participated_conversations}\\n\")\n",
    "\n",
    "\n"
   ]
  },
  {
   "cell_type": "code",
   "execution_count": 9,
   "metadata": {},
   "outputs": [],
   "source": [
    "# create the dataframe to store the language counts\n",
    "df = pd.DataFrame(columns=['language', 'sentiment'])\n",
    "\n",
    "# get all the sentiment scores per language\n",
    "for language in jh.languages_list:\n",
    "    query = \"\"\"\n",
    "    SELECT sentiment\n",
    "    FROM tweets\n",
    "    WHERE language = %s\n",
    "    \"\"\"\n",
    "    cursor.execute(query, (language,))\n",
    "    sentiments = cursor.fetchall()\n",
    "    sentiment_list = [sentiment[0] for sentiment in sentiments]\n",
    "\n",
    "    # add the language and the sentiment to the dataframe\n",
    "    df.loc[len(df.index)] = [language, sentiment_list]\n",
    "\n",
    "# save the dataframe to a csv file\n",
    "df.to_csv(Path('output/sentiment_per_language.csv'), index=False)"
   ]
  },
  {
   "cell_type": "code",
   "execution_count": null,
   "metadata": {},
   "outputs": [],
   "source": [
    "# Close the cursor and connection\n",
    "cursor.close()\n",
    "connection.close()\n"
   ]
  }
 ],
 "metadata": {
  "kernelspec": {
   "display_name": "dbl",
   "language": "python",
   "name": "python3"
  },
  "language_info": {
   "codemirror_mode": {
    "name": "ipython",
    "version": 3
   },
   "file_extension": ".py",
   "mimetype": "text/x-python",
   "name": "python",
   "nbconvert_exporter": "python",
   "pygments_lexer": "ipython3",
   "version": "3.8.16"
  },
  "orig_nbformat": 4
 },
 "nbformat": 4,
 "nbformat_minor": 2
}
