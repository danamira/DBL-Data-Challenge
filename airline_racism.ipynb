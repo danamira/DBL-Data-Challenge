{
 "cells": [
  {
   "cell_type": "code",
   "execution_count": 4,
   "metadata": {},
   "outputs": [],
   "source": [
    "from database.connect import getConnection\n",
    "import JsonHandler as jh\n",
    "import mysql\n",
    "import pandas as pd\n",
    "from pathlib import Path\n",
    "import csv"
   ]
  },
  {
   "cell_type": "code",
   "execution_count": 5,
   "metadata": {},
   "outputs": [],
   "source": [
    "try:\n",
    "    connection = getConnection()\n",
    "except Exception:\n",
    "    print(\"✖️ Error while connecting to MySQL engine database.\")\n",
    "    print(\"ℹ️ Please make sure the environment file `.env` is located at\"+\n",
    "        \"the project root directory and contains proper configuration.\")\n",
    "    raise\n",
    "\n",
    "cursor = connection.cursor()"
   ]
  },
  {
   "cell_type": "code",
   "execution_count": 6,
   "metadata": {},
   "outputs": [
    {
     "name": "stdout",
     "output_type": "stream",
     "text": [
      "['ar', 'en', 'fr', 'pt', 'es', 'it', 'de', 'hi']\n"
     ]
    }
   ],
   "source": [
    "print(jh.languages_list)\n"
   ]
  },
  {
   "cell_type": "code",
   "execution_count": 7,
   "metadata": {},
   "outputs": [],
   "source": [
    "airlines_dict = {'KLM': ['klm'],\n",
    "                'AirFrance':['airfrance',\n",
    "                            'air france'],\n",
    "                'British_Airways': ['british_airways',\n",
    "                                    'british airways'],\n",
    "                'AmericanAir': ['americanair',\n",
    "                                'american airlines'],\n",
    "                'Lufthansa': ['lufthansa'],\n",
    "                'AirBerlin': ['airberlin',\n",
    "                                'air berlin'],\n",
    "                'AirBerlin assist': ['airberlin assist',\n",
    "                                    'air berlin assist',\n",
    "                                    'airberlinassist'],\n",
    "                'easyJet': ['easyjet'],\n",
    "                'RyanAir': ['ryanair'],\n",
    "                'SingaporeAir': ['singaporeair',\n",
    "                                'singapore airlines'],\n",
    "                'Qantas': ['qantas'],\n",
    "                'EtihadAirways': ['etihad airways',\n",
    "                                'etihadairways',\n",
    "                                'etihad'],\n",
    "                'VirginAtlantic': ['virgin atlantic',\n",
    "                                    'virginatlantic'],\n",
    "            }"
   ]
  },
  {
   "cell_type": "code",
   "execution_count": 8,
   "metadata": {},
   "outputs": [],
   "source": [
    "# Create a cursor to execute SQL queries\n",
    "cursor = connection.cursor()\n",
    "\n",
    "# open the csv file\n",
    "with open(Path('output/airline_racism.csv'), 'w') as f:\n",
    "    f.write(\"Airline,Language,ParticipatedPercentage,TotalConversations,ParticipatedConversations\\n\")\n",
    "    for key, value in airlines_dict.items():\n",
    "        query = f\"\"\"\n",
    "            SELECT\n",
    "                t.language AS Language,\n",
    "                (SUM(CASE WHEN c.Airline LIKE '%{key}%' THEN 1 ELSE 0 END) / COUNT(*)) * 100 AS ParticipatedPercentage,\n",
    "                COUNT(*) AS TotalConversations,\n",
    "                SUM(CASE WHEN c.Airline LIKE '%{key}%' THEN 1 ELSE 0 END) AS ParticipatedConversations\n",
    "            FROM\n",
    "                conversations c\n",
    "                INNER JOIN part_of p ON c.id = p.cID\n",
    "                INNER JOIN tweets t ON t.id = p.tID\n",
    "            WHERE\n",
    "                (t.airlines LIKE '%lazy_query_strat_ignore_this%'\n",
    "        \"\"\"\n",
    "        for airline in value:\n",
    "            query += f\" OR t.airlines LIKE '%{airline}%'\"\n",
    "\n",
    "        query += \"\"\"\n",
    "            )\n",
    "            GROUP BY Language\n",
    "        \"\"\"\n",
    "\n",
    "        cursor.execute(query)\n",
    "        result = cursor.fetchall()\n",
    "        # save the results to a csv file\n",
    "        airline = key\n",
    "        print(airline)\n",
    "        for row in result:\n",
    "            language = row[0]\n",
    "            participated_percentage = row[1]\n",
    "            total_conversations = row[2]\n",
    "            participated_conversations = row[3]\n",
    "            f.write(f\"{airline},{language},{participated_percentage},{total_conversations},{participated_conversations}\\n\")\n",
    "\n",
    "\n"
   ]
  },
  {
   "cell_type": "code",
   "execution_count": 9,
   "metadata": {},
   "outputs": [],
   "source": [
    "# create the dataframe to store the language counts\n",
    "df = pd.DataFrame(columns=['language', 'sentiment'])\n",
    "\n",
    "# get all the sentiment scores per language\n",
    "for language in jh.languages_list:\n",
    "    query = \"\"\"\n",
    "    SELECT sentiment\n",
    "    FROM tweets\n",
    "    WHERE language = %s\n",
    "    \"\"\"\n",
    "    cursor.execute(query, (language,))\n",
    "    sentiments = cursor.fetchall()\n",
    "    sentiment_list = [sentiment[0] for sentiment in sentiments]\n",
    "\n",
    "    # add the language and the sentiment to the dataframe\n",
    "    df.loc[len(df.index)] = [language, sentiment_list]\n",
    "\n",
    "# save the dataframe to a csv file\n",
    "df.to_csv(Path('output/sentiment_per_language.csv'), index=False)"
   ]
  },
  {
   "cell_type": "code",
   "execution_count": null,
   "metadata": {},
   "outputs": [],
   "source": [
    "# Close the cursor and connection\n",
    "cursor.close()\n",
    "connection.close()\n"
   ]
  }
 ],
 "metadata": {
  "kernelspec": {
   "display_name": "dbl",
   "language": "python",
   "name": "python3"
  },
  "language_info": {
   "codemirror_mode": {
    "name": "ipython",
    "version": 3
   },
   "file_extension": ".py",
   "mimetype": "text/x-python",
   "name": "python",
   "nbconvert_exporter": "python",
   "pygments_lexer": "ipython3",
   "version": "3.11.3"
  },
  "orig_nbformat": 4
 },
 "nbformat": 4,
 "nbformat_minor": 2
}
