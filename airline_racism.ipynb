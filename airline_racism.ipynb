{
 "cells": [
  {
   "cell_type": "code",
   "execution_count": 1,
   "metadata": {},
   "outputs": [
    {
     "name": "stderr",
     "output_type": "stream",
     "text": [
      "/Users/alicialarsen/anaconda3/envs/ok/lib/python3.8/site-packages/tqdm/auto.py:21: TqdmWarning: IProgress not found. Please update jupyter and ipywidgets. See https://ipywidgets.readthedocs.io/en/stable/user_install.html\n",
      "  from .autonotebook import tqdm as notebook_tqdm\n",
      "Some weights of the model checkpoint at cardiffnlp/twitter-roberta-base-sentiment-latest were not used when initializing RobertaForSequenceClassification: ['roberta.pooler.dense.bias', 'roberta.pooler.dense.weight']\n",
      "- This IS expected if you are initializing RobertaForSequenceClassification from the checkpoint of a model trained on another task or with another architecture (e.g. initializing a BertForSequenceClassification model from a BertForPreTraining model).\n",
      "- This IS NOT expected if you are initializing RobertaForSequenceClassification from the checkpoint of a model that you expect to be exactly identical (initializing a BertForSequenceClassification model from a BertForSequenceClassification model).\n"
     ]
    }
   ],
   "source": [
    "from database.connect import getConnection\n",
    "import JsonHandler as jh\n",
    "import mysql\n",
    "import pandas as pd"
   ]
  },
  {
   "cell_type": "code",
   "execution_count": 2,
   "metadata": {},
   "outputs": [],
   "source": [
    "try:\n",
    "    connection = getConnection()\n",
    "except Exception:\n",
    "    print(\"✖️ Error while connecting to MySQL engine database.\")\n",
    "    print(\"ℹ️ Please make sure the environment file `.env` is located at\"+\n",
    "        \"the project root directory and contains proper configuration.\")\n",
    "    raise\n",
    "\n",
    "cursor = connection.cursor()"
   ]
  },
  {
   "cell_type": "code",
   "execution_count": 3,
   "metadata": {},
   "outputs": [
    {
     "name": "stdout",
     "output_type": "stream",
     "text": [
      "['ar', 'en', 'fr', 'pt', 'es', 'it', 'de', 'hi']\n"
     ]
    }
   ],
   "source": [
    "print(jh.languages_list)\n"
   ]
  },
  {
   "cell_type": "code",
   "execution_count": 4,
   "metadata": {},
   "outputs": [],
   "source": [
    "airlines_dict = {'KLM': ['klm'],\n",
    "                'AirFrance':['airfrance',\n",
    "                            'air france'],\n",
    "                'British_Airways': ['british_airways',\n",
    "                                    'british airways'],\n",
    "                'AmericanAir': ['americanair',\n",
    "                                'american airlines'],\n",
    "                'Lufthansa': ['lufthansa'],\n",
    "                'AirBerlin': ['airberlin',\n",
    "                                'air berlin'],\n",
    "                'AirBerlin assist': ['airberlin assist',\n",
    "                                    'air berlin assist',\n",
    "                                    'airberlinassist'],\n",
    "                'easyJet': ['easyjet'],\n",
    "                'RyanAir': ['ryanair'],\n",
    "                'SingaporeAir': ['singaporeair',\n",
    "                                'singapore airlines'],\n",
    "                'Qantas': ['qantas'],\n",
    "                'EtihadAirways': ['etihad airways',\n",
    "                                'etihadairways',\n",
    "                                'etihad'],\n",
    "                'VirginAtlantic': ['virgin atlantic',\n",
    "                                    'virginatlantic'],\n",
    "            }"
   ]
  },
  {
   "cell_type": "code",
   "execution_count": 5,
   "metadata": {},
   "outputs": [
    {
     "ename": "ProgrammingError",
     "evalue": "1146 (42S02): Table 'dbl.conversations' doesn't exist",
     "output_type": "error",
     "traceback": [
      "\u001b[0;31m---------------------------------------------------------------------------\u001b[0m",
      "\u001b[0;31mMySQLInterfaceError\u001b[0m                       Traceback (most recent call last)",
      "File \u001b[0;32m~/anaconda3/envs/ok/lib/python3.8/site-packages/mysql/connector/connection_cext.py:470\u001b[0m, in \u001b[0;36mCMySQLConnection.cmd_query\u001b[0;34m(self, query, raw, buffered, raw_as_string)\u001b[0m\n\u001b[1;32m    469\u001b[0m         query \u001b[39m=\u001b[39m query\u001b[39m.\u001b[39mencode(\u001b[39m'\u001b[39m\u001b[39mutf-8\u001b[39m\u001b[39m'\u001b[39m)\n\u001b[0;32m--> 470\u001b[0m     \u001b[39mself\u001b[39;49m\u001b[39m.\u001b[39;49m_cmysql\u001b[39m.\u001b[39;49mquery(query,\n\u001b[1;32m    471\u001b[0m                        raw\u001b[39m=\u001b[39;49mraw, buffered\u001b[39m=\u001b[39;49mbuffered,\n\u001b[1;32m    472\u001b[0m                        raw_as_string\u001b[39m=\u001b[39;49mraw_as_string)\n\u001b[1;32m    473\u001b[0m \u001b[39mexcept\u001b[39;00m MySQLInterfaceError \u001b[39mas\u001b[39;00m exc:\n",
      "\u001b[0;31mMySQLInterfaceError\u001b[0m: Table 'dbl.conversations' doesn't exist",
      "\nDuring handling of the above exception, another exception occurred:\n",
      "\u001b[0;31mProgrammingError\u001b[0m                          Traceback (most recent call last)",
      "Cell \u001b[0;32mIn[5], line 26\u001b[0m\n\u001b[1;32m     19\u001b[0m     query \u001b[39m+\u001b[39m\u001b[39m=\u001b[39m \u001b[39mf\u001b[39m\u001b[39m\"\u001b[39m\u001b[39m OR t.airlines LIKE \u001b[39m\u001b[39m'\u001b[39m\u001b[39m%\u001b[39m\u001b[39m{\u001b[39;00mairline\u001b[39m}\u001b[39;00m\u001b[39m%\u001b[39m\u001b[39m'\u001b[39m\u001b[39m\"\u001b[39m\n\u001b[1;32m     21\u001b[0m query \u001b[39m+\u001b[39m\u001b[39m=\u001b[39m \u001b[39m\"\"\"\u001b[39m\n\u001b[1;32m     22\u001b[0m \u001b[39m    )\u001b[39m\n\u001b[1;32m     23\u001b[0m \u001b[39m    GROUP BY Language\u001b[39m\n\u001b[1;32m     24\u001b[0m \u001b[39m\u001b[39m\u001b[39m\"\"\"\u001b[39m\n\u001b[0;32m---> 26\u001b[0m cursor\u001b[39m.\u001b[39;49mexecute(query)\n\u001b[1;32m     27\u001b[0m result \u001b[39m=\u001b[39m cursor\u001b[39m.\u001b[39mfetchall()\n\u001b[1;32m     28\u001b[0m \u001b[39mprint\u001b[39m(key)\n",
      "File \u001b[0;32m~/anaconda3/envs/ok/lib/python3.8/site-packages/mysql/connector/cursor_cext.py:264\u001b[0m, in \u001b[0;36mCMySQLCursor.execute\u001b[0;34m(self, operation, params, multi)\u001b[0m\n\u001b[1;32m    260\u001b[0m             \u001b[39mraise\u001b[39;00m errors\u001b[39m.\u001b[39mProgrammingError(\n\u001b[1;32m    261\u001b[0m                 \u001b[39m\"\u001b[39m\u001b[39mNot all parameters were used in the SQL statement\u001b[39m\u001b[39m\"\u001b[39m)\n\u001b[1;32m    263\u001b[0m \u001b[39mtry\u001b[39;00m:\n\u001b[0;32m--> 264\u001b[0m     result \u001b[39m=\u001b[39m \u001b[39mself\u001b[39;49m\u001b[39m.\u001b[39;49m_cnx\u001b[39m.\u001b[39;49mcmd_query(stmt, raw\u001b[39m=\u001b[39;49m\u001b[39mself\u001b[39;49m\u001b[39m.\u001b[39;49m_raw,\n\u001b[1;32m    265\u001b[0m                                  buffered\u001b[39m=\u001b[39;49m\u001b[39mself\u001b[39;49m\u001b[39m.\u001b[39;49m_buffered,\n\u001b[1;32m    266\u001b[0m                                  raw_as_string\u001b[39m=\u001b[39;49m\u001b[39mself\u001b[39;49m\u001b[39m.\u001b[39;49m_raw_as_string)\n\u001b[1;32m    267\u001b[0m \u001b[39mexcept\u001b[39;00m MySQLInterfaceError \u001b[39mas\u001b[39;00m exc:\n\u001b[1;32m    268\u001b[0m     \u001b[39mraise\u001b[39;00m errors\u001b[39m.\u001b[39mget_mysql_exception(msg\u001b[39m=\u001b[39mexc\u001b[39m.\u001b[39mmsg, errno\u001b[39m=\u001b[39mexc\u001b[39m.\u001b[39merrno,\n\u001b[1;32m    269\u001b[0m                                      sqlstate\u001b[39m=\u001b[39mexc\u001b[39m.\u001b[39msqlstate)\n",
      "File \u001b[0;32m~/anaconda3/envs/ok/lib/python3.8/site-packages/mysql/connector/connection_cext.py:474\u001b[0m, in \u001b[0;36mCMySQLConnection.cmd_query\u001b[0;34m(self, query, raw, buffered, raw_as_string)\u001b[0m\n\u001b[1;32m    470\u001b[0m     \u001b[39mself\u001b[39m\u001b[39m.\u001b[39m_cmysql\u001b[39m.\u001b[39mquery(query,\n\u001b[1;32m    471\u001b[0m                        raw\u001b[39m=\u001b[39mraw, buffered\u001b[39m=\u001b[39mbuffered,\n\u001b[1;32m    472\u001b[0m                        raw_as_string\u001b[39m=\u001b[39mraw_as_string)\n\u001b[1;32m    473\u001b[0m \u001b[39mexcept\u001b[39;00m MySQLInterfaceError \u001b[39mas\u001b[39;00m exc:\n\u001b[0;32m--> 474\u001b[0m     \u001b[39mraise\u001b[39;00m errors\u001b[39m.\u001b[39mget_mysql_exception(exc\u001b[39m.\u001b[39merrno, msg\u001b[39m=\u001b[39mexc\u001b[39m.\u001b[39mmsg,\n\u001b[1;32m    475\u001b[0m                                      sqlstate\u001b[39m=\u001b[39mexc\u001b[39m.\u001b[39msqlstate)\n\u001b[1;32m    476\u001b[0m \u001b[39mexcept\u001b[39;00m \u001b[39mAttributeError\u001b[39;00m:\n\u001b[1;32m    477\u001b[0m     \u001b[39mif\u001b[39;00m \u001b[39mself\u001b[39m\u001b[39m.\u001b[39m_unix_socket:\n",
      "\u001b[0;31mProgrammingError\u001b[0m: 1146 (42S02): Table 'dbl.conversations' doesn't exist"
     ]
    }
   ],
   "source": [
    "# Create a cursor to execute SQL queries\n",
    "cursor = connection.cursor()\n",
    "\n",
    "for key, value in airlines_dict.items():\n",
    "    query = f\"\"\"\n",
    "        SELECT\n",
    "            t.language AS Language,\n",
    "            (SUM(CASE WHEN c.Airline LIKE '%{key}%' THEN 1 ELSE 0 END) / COUNT(*)) * 100 AS ParticipatedPercentage,\n",
    "            COUNT(*) AS TotalConversations,\n",
    "            SUM(CASE WHEN c.Airline LIKE '%{key}%' THEN 1 ELSE 0 END) AS ParticipatedConversations\n",
    "        FROM\n",
    "            conversations c\n",
    "            INNER JOIN part_of p ON c.id = p.cID\n",
    "            INNER JOIN tweets t ON t.id = p.tID\n",
    "        WHERE\n",
    "            (t.airlines LIKE '%lazy_query_strat_ignore_this%'\n",
    "    \"\"\"\n",
    "    for airline in value:\n",
    "        query += f\" OR t.airlines LIKE '%{airline}%'\"\n",
    "\n",
    "    query += \"\"\"\n",
    "        )\n",
    "        GROUP BY Language\n",
    "    \"\"\"\n",
    "\n",
    "    cursor.execute(query)\n",
    "    result = cursor.fetchall()\n",
    "    print(key)\n",
    "    print(result)\n",
    "\n",
    "\n",
    "\n"
   ]
  },
  {
   "cell_type": "code",
   "execution_count": 11,
   "metadata": {},
   "outputs": [
    {
     "data": {
      "text/html": [
       "<div>\n",
       "<style scoped>\n",
       "    .dataframe tbody tr th:only-of-type {\n",
       "        vertical-align: middle;\n",
       "    }\n",
       "\n",
       "    .dataframe tbody tr th {\n",
       "        vertical-align: top;\n",
       "    }\n",
       "\n",
       "    .dataframe thead th {\n",
       "        text-align: right;\n",
       "    }\n",
       "</style>\n",
       "<table border=\"1\" class=\"dataframe\">\n",
       "  <thead>\n",
       "    <tr style=\"text-align: right;\">\n",
       "      <th></th>\n",
       "      <th>language</th>\n",
       "      <th>sentiment</th>\n",
       "    </tr>\n",
       "  </thead>\n",
       "  <tbody>\n",
       "    <tr>\n",
       "      <th>0</th>\n",
       "      <td>ar</td>\n",
       "      <td>[-0.0234151, -0.0694676, -0.00520112, -0.35635...</td>\n",
       "    </tr>\n",
       "    <tr>\n",
       "      <th>1</th>\n",
       "      <td>en</td>\n",
       "      <td>[-0.308782, 0.549322, 0.864803, -0.792114, 0.2...</td>\n",
       "    </tr>\n",
       "    <tr>\n",
       "      <th>2</th>\n",
       "      <td>fr</td>\n",
       "      <td>[-0.873595, -0.873595, -0.873595, -0.873595, -...</td>\n",
       "    </tr>\n",
       "    <tr>\n",
       "      <th>3</th>\n",
       "      <td>pt</td>\n",
       "      <td>[0.554107, 0.127242, 0.0215067, -0.3548, 0.032...</td>\n",
       "    </tr>\n",
       "    <tr>\n",
       "      <th>4</th>\n",
       "      <td>sp</td>\n",
       "      <td>[]</td>\n",
       "    </tr>\n",
       "  </tbody>\n",
       "</table>\n",
       "</div>"
      ],
      "text/plain": [
       "  language                                          sentiment\n",
       "0       ar  [-0.0234151, -0.0694676, -0.00520112, -0.35635...\n",
       "1       en  [-0.308782, 0.549322, 0.864803, -0.792114, 0.2...\n",
       "2       fr  [-0.873595, -0.873595, -0.873595, -0.873595, -...\n",
       "3       pt  [0.554107, 0.127242, 0.0215067, -0.3548, 0.032...\n",
       "4       sp                                                 []"
      ]
     },
     "execution_count": 11,
     "metadata": {},
     "output_type": "execute_result"
    }
   ],
   "source": [
    "# create the dataframe to store the language counts\n",
    "df = pd.DataFrame(columns=['language', 'sentiment'])\n",
    "\n",
    "# get all the sentiment scores per language\n",
    "for language in jh.languages_list:\n",
    "    query = \"\"\"\n",
    "    SELECT sentiment\n",
    "    FROM tweets\n",
    "    WHERE language = %s\n",
    "    \"\"\"\n",
    "    cursor.execute(query, (language,))\n",
    "    sentiments = cursor.fetchall()\n",
    "    sentiment_list = [sentiment[0] for sentiment in sentiments]\n",
    "\n",
    "    # add the language and the sentiment to the dataframe\n",
    "    df.loc[len(df.index)] = [language, sentiment_list]\n",
    "\n",
    "df.head()"
   ]
  },
  {
   "cell_type": "code",
   "execution_count": 12,
   "metadata": {},
   "outputs": [],
   "source": [
    "# Close the cursor and connection\n",
    "cursor.close()\n",
    "connection.close()\n"
   ]
  }
 ],
 "metadata": {
  "kernelspec": {
   "display_name": "dbl",
   "language": "python",
   "name": "python3"
  },
  "language_info": {
   "codemirror_mode": {
    "name": "ipython",
    "version": 3
   },
   "file_extension": ".py",
   "mimetype": "text/x-python",
   "name": "python",
   "nbconvert_exporter": "python",
   "pygments_lexer": "ipython3",
   "version": "3.8.16"
  },
  "orig_nbformat": 4
 },
 "nbformat": 4,
 "nbformat_minor": 2
}
