{
 "cells": [
  {
   "cell_type": "code",
   "execution_count": 22,
   "metadata": {},
   "outputs": [],
   "source": [
    "from database.connect import getConnection\n",
    "import JsonHandler as jh\n",
    "import mysql"
   ]
  },
  {
   "cell_type": "code",
   "execution_count": 23,
   "metadata": {},
   "outputs": [],
   "source": [
    "try:\n",
    "    connection = getConnection()\n",
    "except Exception:\n",
    "    print(\"✖️ Error while connecting to MySQL engine database.\")\n",
    "    print(\"ℹ️ Please make sure the environment file `.env` is located at\"+\n",
    "        \"the project root directory and contains proper configuration.\")\n",
    "    raise\n",
    "\n",
    "cursor = connection.cursor()"
   ]
  },
  {
   "cell_type": "code",
   "execution_count": 24,
   "metadata": {},
   "outputs": [
    {
     "name": "stdout",
     "output_type": "stream",
     "text": [
      "['ar', 'en', 'fr', 'pt', 'sp', 'it', 'de', 'hi']\n"
     ]
    }
   ],
   "source": [
    "print(jh.languages_list)"
   ]
  },
  {
   "cell_type": "code",
   "execution_count": 25,
   "metadata": {},
   "outputs": [
    {
     "ename": "NameError",
     "evalue": "name 'pd' is not defined",
     "output_type": "error",
     "traceback": [
      "\u001b[1;31m---------------------------------------------------------------------------\u001b[0m",
      "\u001b[1;31mNameError\u001b[0m                                 Traceback (most recent call last)",
      "Cell \u001b[1;32mIn[25], line 2\u001b[0m\n\u001b[0;32m      1\u001b[0m \u001b[39m# create the dataframe to store the language counts\u001b[39;00m\n\u001b[1;32m----> 2\u001b[0m language_counts \u001b[39m=\u001b[39m pd\u001b[39m.\u001b[39mDataFrame(columns\u001b[39m=\u001b[39m[\u001b[39m'\u001b[39m\u001b[39mlanguage\u001b[39m\u001b[39m'\u001b[39m, \u001b[39m'\u001b[39m\u001b[39msentiment\u001b[39m\u001b[39m'\u001b[39m])\n\u001b[0;32m      4\u001b[0m \u001b[39m# get all the sentiment scores per language\u001b[39;00m\n\u001b[0;32m      5\u001b[0m \u001b[39mfor\u001b[39;00m language \u001b[39min\u001b[39;00m jh\u001b[39m.\u001b[39mlanguages_list:\n",
      "\u001b[1;31mNameError\u001b[0m: name 'pd' is not defined"
     ]
    }
   ],
   "source": [
    "# create the dataframe to store the language counts\n",
    "language_counts = pd.DataFrame(columns=['language', 'sentiment'])\n",
    "\n",
    "# get all the sentiment scores per language\n",
    "for language in jh.languages_list:\n",
    "    query = \"\"\"\n",
    "    SELECT sentiment_score\n",
    "    FROM tweets\n",
    "    WHERE language = %s\n",
    "    \"\"\"\n",
    "    cursor.execute(query, (language,))\n",
    "    scores = cursor.fetchall()\n",
    "\n",
    "    # add the language and the count to the dataframe\n",
    "    language_counts = language_counts.append({\n",
    "        'language': language,\n",
    "        'sentiment': list(scores)\n",
    "    }, ignore_index=True)\n",
    "\n",
    "language_counts.head()"
   ]
  },
  {
   "cell_type": "code",
   "execution_count": null,
   "metadata": {},
   "outputs": [
    {
     "data": {
      "text/plain": [
       "True"
      ]
     },
     "execution_count": 20,
     "metadata": {},
     "output_type": "execute_result"
    }
   ],
   "source": [
    "#close the connection and cursor\n",
    "cursor.close()"
   ]
  },
  {
   "cell_type": "code",
   "execution_count": null,
   "metadata": {},
   "outputs": [
    {
     "name": "stdout",
     "output_type": "stream",
     "text": [
      "Error: 1054 (42S22): Unknown column 't.Airline' in 'field list'\n"
     ]
    }
   ],
   "source": [
    "# Create a cursor object to execute SQL queries\n",
    "cursor = connection.cursor()\n",
    "\n",
    "# SQL query to retrieve participation ratios for each airline\n",
    "query = \"\"\"\n",
    "SELECT\n",
    "    t.Airline,\n",
    "    COUNT(DISTINCT c.ConversationID) AS ConversationCount,\n",
    "    COUNT(DISTINCT CASE WHEN t.Airline IS NOT NULL THEN c.ConversationID END) AS ParticipatedCount,\n",
    "    COUNT(DISTINCT CASE WHEN t.Airlines IS NOT NULL THEN c.ConversationID END) AS MentionedCount,\n",
    "    COUNT(DISTINCT CASE WHEN t.Airline IS NOT NULL THEN c.ConversationID END) / COUNT(DISTINCT CASE WHEN t.Airlines IS NOT NULL THEN c.ConversationID END) AS ParticipationRatio\n",
    "FROM\n",
    "    tweets t\n",
    "    INNER JOIN conversations c ON t.ConversationID = c.ConversationID\n",
    "GROUP BY\n",
    "    t.Airline;\n",
    "\"\"\"\n",
    "\n",
    "try:\n",
    "    # Execute the SQL query\n",
    "    cursor.execute(query)\n",
    "\n",
    "    # Fetch all the results\n",
    "    results = cursor.fetchall()\n",
    "\n",
    "    # Print the participation ratios for each airline\n",
    "    for row in results:\n",
    "        airline = row[0]\n",
    "        participation_ratio = row[4]\n",
    "        print(f\"{airline}: {participation_ratio}\")\n",
    "\n",
    "except mysql.connector.Error as error:\n",
    "    print(f\"Error: {error}\")\n",
    "\n",
    "# Close the cursor and connection\n",
    "cursor.close()\n",
    "connection.close()\n",
    "\n"
   ]
  }
 ],
 "metadata": {
  "kernelspec": {
   "display_name": "dbl",
   "language": "python",
   "name": "python3"
  },
  "language_info": {
   "codemirror_mode": {
    "name": "ipython",
    "version": 3
   },
   "file_extension": ".py",
   "mimetype": "text/x-python",
   "name": "python",
   "nbconvert_exporter": "python",
   "pygments_lexer": "ipython3",
   "version": "3.11.3"
  },
  "orig_nbformat": 4
 },
 "nbformat": 4,
 "nbformat_minor": 2
}
