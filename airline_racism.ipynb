{
 "cells": [
  {
   "cell_type": "code",
   "execution_count": 6,
   "metadata": {},
   "outputs": [],
   "source": [
    "from database.connect import getConnection\n",
    "import JsonHandler as jh\n",
    "import mysql\n",
    "import pandas as pd"
   ]
  },
  {
   "cell_type": "code",
   "execution_count": 7,
   "metadata": {},
   "outputs": [],
   "source": [
    "try:\n",
    "    connection = getConnection()\n",
    "except Exception:\n",
    "    print(\"✖️ Error while connecting to MySQL engine database.\")\n",
    "    print(\"ℹ️ Please make sure the environment file `.env` is located at\"+\n",
    "        \"the project root directory and contains proper configuration.\")\n",
    "    raise\n",
    "\n",
    "cursor = connection.cursor()"
   ]
  },
  {
   "cell_type": "code",
   "execution_count": 8,
   "metadata": {},
   "outputs": [
    {
     "name": "stdout",
     "output_type": "stream",
     "text": [
      "['ar', 'en', 'fr', 'pt', 'sp', 'it', 'de', 'hi']\n"
     ]
    }
   ],
   "source": [
    "print(jh.languages_list)\n"
   ]
  },
  {
   "cell_type": "code",
   "execution_count": 9,
   "metadata": {},
   "outputs": [],
   "source": [
    "airlines_dict = {'KLM': ['klm'],\n",
    "                'AirFrance':['airfrance',\n",
    "                            'air france'],\n",
    "                'British_Airways': ['british_airways',\n",
    "                                    'british airways'],\n",
    "                'AmericanAir': ['americanair',\n",
    "                                'american airlines'],\n",
    "                'Lufthansa': ['lufthansa'],\n",
    "                'AirBerlin': ['airberlin',\n",
    "                                'air berlin'],\n",
    "                'AirBerlin assist': ['airberlin assist',\n",
    "                                    'air berlin assist',\n",
    "                                    'airberlinassist'],\n",
    "                'easyJet': ['easyjet'],\n",
    "                'RyanAir': ['ryanair'],\n",
    "                'SingaporeAir': ['singaporeair',\n",
    "                                'singapore airlines'],\n",
    "                'Qantas': ['qantas'],\n",
    "                'EtihadAirways': ['etihad airways',\n",
    "                                'etihadairways',\n",
    "                                'etihad'],\n",
    "                'VirginAtlantic': ['virgin atlantic',\n",
    "                                    'virginatlantic'],\n",
    "            }"
   ]
  },
  {
   "cell_type": "code",
   "execution_count": 10,
   "metadata": {},
   "outputs": [
    {
     "name": "stdout",
     "output_type": "stream",
     "text": [
      "KLM\n",
      "[('ar', Decimal('8.0000'), 25, Decimal('2')), ('de', Decimal('62.5000'), 240, Decimal('150')), ('en', Decimal('56.2569'), 13673, Decimal('7692')), ('fr', Decimal('6.9971'), 686, Decimal('48')), ('it', Decimal('44.5652'), 92, Decimal('41')), ('pt', Decimal('37.3626'), 182, Decimal('68'))]\n",
      "AirFrance\n",
      "[('ar', Decimal('60.0000'), 5, Decimal('3')), ('de', Decimal('31.2500'), 16, Decimal('5')), ('en', Decimal('38.5212'), 5545, Decimal('2136')), ('fr', Decimal('16.4514'), 4103, Decimal('675')), ('it', Decimal('29.7297'), 74, Decimal('22')), ('pt', Decimal('9.1667'), 240, Decimal('22'))]\n",
      "British_Airways\n",
      "[('ar', Decimal('9.2308'), 65, Decimal('6')), ('de', Decimal('9.0909'), 44, Decimal('4')), ('en', Decimal('45.9819'), 83372, Decimal('38336')), ('fr', Decimal('11.4754'), 61, Decimal('7')), ('hi', Decimal('0.0000'), 2, Decimal('0')), ('it', Decimal('6.0606'), 33, Decimal('2')), ('pt', Decimal('13.7931'), 29, Decimal('4'))]\n",
      "AmericanAir\n",
      "[('ar', Decimal('0.0000'), 43, Decimal('0')), ('de', Decimal('3.4091'), 88, Decimal('3')), ('en', Decimal('41.7906'), 94026, Decimal('39294')), ('fr', Decimal('12.5000'), 40, Decimal('5')), ('hi', Decimal('0.0000'), 2, Decimal('0')), ('it', Decimal('23.7500'), 80, Decimal('19')), ('pt', Decimal('10.5263'), 551, Decimal('58'))]\n",
      "Lufthansa\n",
      "[('ar', Decimal('0.7463'), 134, Decimal('1')), ('de', Decimal('7.7966'), 1180, Decimal('92')), ('en', Decimal('40.1777'), 10466, Decimal('4205')), ('fr', Decimal('14.2857'), 210, Decimal('30')), ('hi', Decimal('0.0000'), 2, Decimal('0')), ('it', Decimal('5.4054'), 37, Decimal('2')), ('pt', Decimal('5.7692'), 104, Decimal('6'))]\n",
      "AirBerlin\n",
      "[('de', Decimal('0.0000'), 115, Decimal('0')), ('en', Decimal('0.0000'), 43, Decimal('0')), ('fr', Decimal('0.0000'), 5, Decimal('0'))]\n",
      "AirBerlin assist\n",
      "[]\n",
      "easyJet\n",
      "[('ar', Decimal('0.0000'), 7, Decimal('0')), ('de', Decimal('38.4880'), 291, Decimal('112')), ('en', Decimal('50.7843'), 41121, Decimal('20883')), ('fr', Decimal('46.8044'), 2081, Decimal('974')), ('it', Decimal('58.0786'), 229, Decimal('133')), ('pt', Decimal('28.3333'), 60, Decimal('17'))]\n",
      "RyanAir\n",
      "[('ar', Decimal('8.3333'), 12, Decimal('1')), ('de', Decimal('2.6316'), 304, Decimal('8')), ('en', Decimal('25.6692'), 46546, Decimal('11948')), ('fr', Decimal('16.9109'), 887, Decimal('150')), ('it', Decimal('3.5714'), 308, Decimal('11')), ('pt', Decimal('3.7500'), 480, Decimal('18'))]\n",
      "SingaporeAir\n",
      "[('ar', Decimal('0.7353'), 136, Decimal('1')), ('de', Decimal('3.7037'), 27, Decimal('1')), ('en', Decimal('57.7383'), 4846, Decimal('2798')), ('fr', Decimal('15.3846'), 13, Decimal('2')), ('hi', Decimal('0.0000'), 1, Decimal('0')), ('it', Decimal('12.5000'), 8, Decimal('1')), ('pt', Decimal('0.0000'), 1, Decimal('0'))]\n",
      "Qantas\n",
      "[('ar', Decimal('0.0000'), 2, Decimal('0')), ('de', Decimal('0.0000'), 12, Decimal('0')), ('en', Decimal('24.5731'), 12416, Decimal('3051')), ('fr', Decimal('9.7561'), 41, Decimal('4')), ('it', Decimal('10.0000'), 20, Decimal('2')), ('pt', Decimal('12.1212'), 33, Decimal('4'))]\n",
      "EtihadAirways\n",
      "[('ar', Decimal('31.7365'), 334, Decimal('106')), ('de', Decimal('0.7921'), 505, Decimal('4')), ('en', Decimal('12.1558'), 5339, Decimal('649')), ('fr', Decimal('7.5949'), 79, Decimal('6')), ('pt', Decimal('0.0000'), 10, Decimal('0'))]\n",
      "VirginAtlantic\n",
      "[('ar', Decimal('0.0000'), 8, Decimal('0')), ('de', Decimal('17.1429'), 35, Decimal('6')), ('en', Decimal('29.6646'), 26985, Decimal('8005')), ('fr', Decimal('12.5000'), 64, Decimal('8')), ('it', Decimal('47.2727'), 55, Decimal('26')), ('pt', Decimal('16.6667'), 12, Decimal('2'))]\n"
     ]
    }
   ],
   "source": [
    "# Create a cursor to execute SQL queries\n",
    "cursor = connection.cursor()\n",
    "\n",
    "for key, value in airlines_dict.items():\n",
    "    query = f\"\"\"\n",
    "        SELECT\n",
    "            t.language AS Language,\n",
    "            (SUM(CASE WHEN c.Airline LIKE '%{key}%' THEN 1 ELSE 0 END) / COUNT(*)) * 100 AS ParticipatedPercentage,\n",
    "            COUNT(*) AS TotalConversations,\n",
    "            SUM(CASE WHEN c.Airline LIKE '%{key}%' THEN 1 ELSE 0 END) AS ParticipatedConversations\n",
    "        FROM\n",
    "            conversations c\n",
    "            INNER JOIN part_of p ON c.id = p.cID\n",
    "            INNER JOIN tweets t ON t.id = p.tID\n",
    "        WHERE\n",
    "            (t.airlines LIKE '%lazy_query_strat_ignore_this%'\n",
    "    \"\"\"\n",
    "    for airline in value:\n",
    "        query += f\" OR t.airlines LIKE '%{airline}%'\"\n",
    "\n",
    "    query += \"\"\"\n",
    "        )\n",
    "        GROUP BY Language\n",
    "    \"\"\"\n",
    "\n",
    "    cursor.execute(query)\n",
    "    result = cursor.fetchall()\n",
    "    print(key)\n",
    "    print(result)\n",
    "\n",
    "\n",
    "\n"
   ]
  },
  {
   "cell_type": "code",
   "execution_count": 11,
   "metadata": {},
   "outputs": [
    {
     "data": {
      "text/html": [
       "<div>\n",
       "<style scoped>\n",
       "    .dataframe tbody tr th:only-of-type {\n",
       "        vertical-align: middle;\n",
       "    }\n",
       "\n",
       "    .dataframe tbody tr th {\n",
       "        vertical-align: top;\n",
       "    }\n",
       "\n",
       "    .dataframe thead th {\n",
       "        text-align: right;\n",
       "    }\n",
       "</style>\n",
       "<table border=\"1\" class=\"dataframe\">\n",
       "  <thead>\n",
       "    <tr style=\"text-align: right;\">\n",
       "      <th></th>\n",
       "      <th>language</th>\n",
       "      <th>sentiment</th>\n",
       "    </tr>\n",
       "  </thead>\n",
       "  <tbody>\n",
       "    <tr>\n",
       "      <th>0</th>\n",
       "      <td>ar</td>\n",
       "      <td>[-0.0234151, -0.0694676, -0.00520112, -0.35635...</td>\n",
       "    </tr>\n",
       "    <tr>\n",
       "      <th>1</th>\n",
       "      <td>en</td>\n",
       "      <td>[-0.308782, 0.549322, 0.864803, -0.792114, 0.2...</td>\n",
       "    </tr>\n",
       "    <tr>\n",
       "      <th>2</th>\n",
       "      <td>fr</td>\n",
       "      <td>[-0.873595, -0.873595, -0.873595, -0.873595, -...</td>\n",
       "    </tr>\n",
       "    <tr>\n",
       "      <th>3</th>\n",
       "      <td>pt</td>\n",
       "      <td>[0.554107, 0.127242, 0.0215067, -0.3548, 0.032...</td>\n",
       "    </tr>\n",
       "    <tr>\n",
       "      <th>4</th>\n",
       "      <td>sp</td>\n",
       "      <td>[]</td>\n",
       "    </tr>\n",
       "  </tbody>\n",
       "</table>\n",
       "</div>"
      ],
      "text/plain": [
       "  language                                          sentiment\n",
       "0       ar  [-0.0234151, -0.0694676, -0.00520112, -0.35635...\n",
       "1       en  [-0.308782, 0.549322, 0.864803, -0.792114, 0.2...\n",
       "2       fr  [-0.873595, -0.873595, -0.873595, -0.873595, -...\n",
       "3       pt  [0.554107, 0.127242, 0.0215067, -0.3548, 0.032...\n",
       "4       sp                                                 []"
      ]
     },
     "execution_count": 11,
     "metadata": {},
     "output_type": "execute_result"
    }
   ],
   "source": [
    "# create the dataframe to store the language counts\n",
    "df = pd.DataFrame(columns=['language', 'sentiment'])\n",
    "\n",
    "# get all the sentiment scores per language\n",
    "for language in jh.languages_list:\n",
    "    query = \"\"\"\n",
    "    SELECT sentiment\n",
    "    FROM tweets\n",
    "    WHERE language = %s\n",
    "    \"\"\"\n",
    "    cursor.execute(query, (language,))\n",
    "    sentiments = cursor.fetchall()\n",
    "    sentiment_list = [sentiment[0] for sentiment in sentiments]\n",
    "\n",
    "    # add the language and the sentiment to the dataframe\n",
    "    df.loc[len(df.index)] = [language, sentiment_list]\n",
    "\n",
    "df.head()"
   ]
  },
  {
   "cell_type": "code",
   "execution_count": 12,
   "metadata": {},
   "outputs": [],
   "source": [
    "# Close the cursor and connection\n",
    "cursor.close()\n",
    "connection.close()\n"
   ]
  }
 ],
 "metadata": {
  "kernelspec": {
   "display_name": "dbl",
   "language": "python",
   "name": "python3"
  },
  "language_info": {
   "codemirror_mode": {
    "name": "ipython",
    "version": 3
   },
   "file_extension": ".py",
   "mimetype": "text/x-python",
   "name": "python",
   "nbconvert_exporter": "python",
   "pygments_lexer": "ipython3",
   "version": "3.11.3"
  },
  "orig_nbformat": 4
 },
 "nbformat": 4,
 "nbformat_minor": 2
}
