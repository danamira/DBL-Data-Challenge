{
 "cells": [
  {
   "cell_type": "code",
   "execution_count": null,
   "metadata": {},
   "outputs": [],
   "source": [
    "import pandas as pd\n",
    "from database.connect import getConnection\n",
    "import matplotlib.pyplot as plt\n",
    "from datetime import datetime\n",
    "import numpy as np\n",
    "import seaborn as sns\n",
    "sns.set()"
   ]
  },
  {
   "cell_type": "code",
   "execution_count": null,
   "metadata": {},
   "outputs": [],
   "source": [
    "start_date = '01-01-2000'\n",
    "end_date = '01-01-2023'\n",
    "\n",
    "# convert start and end date to unix timestamp in milliseconds\n",
    "start_date_unix = int(datetime.strptime(start_date, '%d-%m-%Y').timestamp() * 1000)\n",
    "end_date_unix = int(datetime.strptime(end_date, '%d-%m-%Y').timestamp() * 1000)\n",
    "\n",
    "# create a part you can insert into your where clause\n",
    "date_restriction = f\" AND tweets.timestamp_ms >= {start_date_unix} AND tweets.timestamp_ms <= {end_date_unix}\""
   ]
  },
  {
   "cell_type": "code",
   "execution_count": null,
   "metadata": {},
   "outputs": [],
   "source": [
    "try:\n",
    "    connection = getConnection()\n",
    "except Exception:\n",
    "    print(\"✖️ Error while connecting to MySQL engine database.\")\n",
    "    print(\"ℹ️ Please make sure the environment file `.env` is located at\"+\n",
    "        \"the project root directory and contains proper configuration.\")\n",
    "    raise\n",
    "\n",
    "cursor = connection.cursor()"
   ]
  },
  {
   "cell_type": "code",
   "execution_count": null,
   "metadata": {},
   "outputs": [],
   "source": [
    "cursor.execute(f\"\"\" SELECT bs.bin_id, bs.cID, bs.bin_position, bs.break_airline, bs.sentiment_sum, bs.tweet_count, c.Tstart, c.Tend\n",
    "                    FROM binned_sentiment bs, conversations c\n",
    "                    WHERE bs.cID = c.id AND bs.break_airline NOT LIKE 'prev=%'\"\"\")\n",
    "binned_sentiment = cursor.fetchall()\n",
    "#all bins from conversations with more than 1 bin."
   ]
  },
  {
   "attachments": {},
   "cell_type": "markdown",
   "metadata": {},
   "source": [
    "Ideas:\n",
    "df-columns: airline, sentiment avg before and after tweet, timestamp, "
   ]
  },
  {
   "cell_type": "code",
   "execution_count": null,
   "metadata": {},
   "outputs": [],
   "source": [
    "query = \"\"\" SELECT CASE WHEN bs1.break_airline='AmericanAir' THEN \"AmericanAir\" \n",
    "                        WHEN bs1.break_airline = 'British_Airways' THEN \"British Airways\" \n",
    "                        ELSE \"Other\" END AS Airline, \n",
    "            (bs1.sentiment_sum / bs1.tweet_count) - (bs2.sentiment_sum / bs2.tweet_count) AS Average_sent_diff\n",
    "            FROM `binned_sentiment` bs1, `binned_sentiment` bs2\n",
    "            WHERE bs1.cID = bs2.cID AND bs2.bin_position = bs1.bin_position + 1 \"\"\"\n",
    "cursor.execute(query)\n",
    "sentiment_change = cursor.fetchall()"
   ]
  },
  {
   "cell_type": "code",
   "execution_count": null,
   "metadata": {},
   "outputs": [],
   "source": [
    "df_sentiment_change = pd.DataFrame(sentiment_change, dtype = float)\n",
    "df_sentiment_change.rename(columns ={0:\"Airline\",1:\"Average Sentiment Change\"}, inplace=True)\n",
    "df_sentiment_change"
   ]
  },
  {
   "cell_type": "code",
   "execution_count": null,
   "metadata": {},
   "outputs": [],
   "source": [
    "sns.boxplot(data=df_sentiment_change,x='Airline',y='Average Sentiment Change', order= ['British Airways','Other','AmericanAir'\n",
    "                                                                                       ]).set_title('Average Sentiment Change per Airline')"
   ]
  },
  {
   "cell_type": "code",
   "execution_count": null,
   "metadata": {},
   "outputs": [],
   "source": []
  }
 ],
 "metadata": {
  "kernelspec": {
   "display_name": "base",
   "language": "python",
   "name": "python3"
  },
  "language_info": {
   "codemirror_mode": {
    "name": "ipython",
    "version": 3
   },
   "file_extension": ".py",
   "mimetype": "text/x-python",
   "name": "python",
   "nbconvert_exporter": "python",
   "pygments_lexer": "ipython3",
   "version": "3.10.11"
  },
  "orig_nbformat": 4
 },
 "nbformat": 4,
 "nbformat_minor": 2
}
