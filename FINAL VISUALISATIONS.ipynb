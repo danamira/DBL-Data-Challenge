{
 "cells": [
  {
   "cell_type": "code",
   "execution_count": null,
   "metadata": {},
   "outputs": [],
   "source": [
    "import pandas as pd\n",
    "from database.connect import getConnection\n",
    "import matplotlib.pyplot as plt\n",
    "from datetime import datetime\n",
    "\n"
   ]
  },
  {
   "attachments": {},
   "cell_type": "markdown",
   "metadata": {},
   "source": [
    "# **CLEAR OUTPUTS BEFORE PUSHING TO GIT**\n",
    "Press the clear all outputs button in the toolbar above before pushing to git.  \n",
    "This makes version control easier and avoids merge conflicts. "
   ]
  },
  {
   "cell_type": "code",
   "execution_count": null,
   "metadata": {},
   "outputs": [],
   "source": [
    "start_date = '01-01-2000'\n",
    "end_date = '01-01-2023'\n",
    "\n",
    "# convert start and end date to unix timestamp in milliseconds\n",
    "start_date_unix = int(datetime.strptime(start_date, '%d-%m-%Y').timestamp() * 1000)\n",
    "end_date_unix = int(datetime.strptime(end_date, '%d-%m-%Y').timestamp() * 1000)\n",
    "\n",
    "# create a part you can insert into your where clause\n",
    "date_restriction = f\" AND tweets.timestamp_ms >= {start_date_unix} AND tweets.timestamp_ms <= {end_date_unix}\""
   ]
  },
  {
   "attachments": {},
   "cell_type": "markdown",
   "metadata": {},
   "source": [
    "The cell below creates the connection to the database and the cursor to execute queries.  \n",
    "It also contains variables relevant everywhere in the notebook."
   ]
  },
  {
   "cell_type": "code",
   "execution_count": null,
   "metadata": {},
   "outputs": [],
   "source": [
    "try:\n",
    "    connection = getConnection()\n",
    "except Exception:\n",
    "    print(\"✖️ Error while connecting to MySQL engine database.\")\n",
    "    print(\"ℹ️ Please make sure the environment file `.env` is located at\"+\n",
    "        \"the project root directory and contains proper configuration.\")\n",
    "    raise\n",
    "\n",
    "cursor = connection.cursor()\n",
    "\n",
    "categories = {'booking': ['booking', 'booked', 'book', 'ticket', 'tickets'],\n",
    "            'canceling': ['canceled', 'cancellations'],\n",
    "            'money': ['refund', 'compensation', 'claim', 'money', 'pay', 'paid'],\n",
    "            'baggage': ['bag', 'baggage', 'luggage', 'bags'],\n",
    "            'staff': ['staff', 'crew'],\n",
    "            'waiting': ['waiting', 'delay', 'wait'],\n",
    "            'boarding': ['boarding'],\n",
    "            'stuck': ['stuck'],\n",
    "\n",
    "            'information': ['info', 'information'],\n",
    "            'customers': ['customer', 'customers', 'passenger', 'passengers'],\n",
    "            'dm': [' dm'], \n",
    "            }\n",
    "\n",
    "airlines_dict = {'KLM': ['klm'],\n",
    "                'AirFrance':['airfrance',\n",
    "                            'air france'],\n",
    "                'British_Airways': ['british_airways',\n",
    "                                    'british airways'],\n",
    "                'AmericanAir': ['americanair',\n",
    "                                'american airlines'],\n",
    "                'Lufthansa': ['lufthansa'],\n",
    "                'AirBerlin': ['airberlin',\n",
    "                                'air berlin'],\n",
    "                'AirBerlin assist': ['airberlin assist',\n",
    "                                    'air berlin assist',\n",
    "                                    'airberlinassist'],\n",
    "                'easyJet': ['easyjet'],\n",
    "                'RyanAir': ['ryanair'],\n",
    "                'SingaporeAir': ['singaporeair',\n",
    "                                'singapore airlines'],\n",
    "                'Qantas': ['qantas'],\n",
    "                'EtihadAirways': ['etihad airways',\n",
    "                                'etihadairways',\n",
    "                                'etihad'],\n",
    "                'VirginAtlantic': ['virgin atlantic',\n",
    "                                    'virginatlantic'],\n",
    "            }\n",
    "\n",
    "airlines_of_interest = ['AmericanAir', 'Other', 'British_Airways']"
   ]
  },
  {
   "cell_type": "code",
   "execution_count": null,
   "metadata": {},
   "outputs": [],
   "source": [
    "# create a dataframe with the counts of each category\n",
    "excluided = ['dm', 'customers', 'information']\n",
    "relevant_categories = [key for key in categories.keys() if key not in excluided]\n",
    "\n",
    "df = pd.DataFrame(columns=relevant_categories)\n",
    "\n",
    "sum_categories = \"\"\n",
    "\n",
    "for category in relevant_categories:\n",
    "    sum_categories += f\"SUM({category}), \" \n",
    "\n",
    "\n",
    "\n",
    "for airline in airlines_of_interest:\n",
    "\n",
    "    if airline == 'Other':\n",
    "        query = f\"\"\"SELECT {sum_categories[:-2]}\n",
    "                    FROM tweets, part_of, conversations     \n",
    "                    WHERE tweets.id = part_of.tID\n",
    "                    AND part_of.cID = conversations.id\n",
    "                    AND `text` NOT LIKE 'RT%'\n",
    "                    AND language = 'en'\n",
    "                    AND conversations.airline NOT LIKE '[]'\n",
    "                    AND conversations.airline NOT LIKE '%British_Airways%'\n",
    "                    AND conversations.airline NOT LIKE '%AmericanAir%'\n",
    "                    {date_restriction}\n",
    "                    \"\"\"\n",
    "    else:\n",
    "            query = f\"\"\"SELECT {sum_categories[:-2]}\n",
    "                    FROM tweets, part_of, conversations\n",
    "                    WHERE tweets.id = part_of.tID\n",
    "                    AND part_of.cID = conversations.id\n",
    "                    AND `text` NOT LIKE 'RT%'\n",
    "                    AND language = 'en'\n",
    "                    AND conversations.airline LIKE '%{airline}%'\n",
    "                    {date_restriction}\n",
    "                    \"\"\"\n",
    "\n",
    "\n",
    "    \n",
    "    cursor.execute(query)\n",
    "    results = cursor.fetchall()\n",
    "\n",
    "    # add the results to the dataframe\n",
    "    df.loc[airline] = results[0]\n",
    "\n",
    "\n",
    "    print(f\"finished {airline}\")\n",
    "\n",
    "    # add the total number of tweets to the dataframe\n",
    "\n",
    "\n",
    "\n",
    "df"
   ]
  },
  {
   "cell_type": "code",
   "execution_count": null,
   "metadata": {},
   "outputs": [],
   "source": [
    "# extract the value of cancelations for american airlines\n",
    "american_cancelations = df.loc['AmericanAir']['canceling']\n",
    "print(type(american_cancelations))\n",
    "\n",
    "american_cancelations"
   ]
  },
  {
   "cell_type": "code",
   "execution_count": null,
   "metadata": {},
   "outputs": [],
   "source": []
  }
 ],
 "metadata": {
  "kernelspec": {
   "display_name": "dbl-1",
   "language": "python",
   "name": "python3"
  },
  "language_info": {
   "codemirror_mode": {
    "name": "ipython",
    "version": 3
   },
   "file_extension": ".py",
   "mimetype": "text/x-python",
   "name": "python",
   "nbconvert_exporter": "python",
   "pygments_lexer": "ipython3",
   "version": "3.11.3"
  },
  "orig_nbformat": 4
 },
 "nbformat": 4,
 "nbformat_minor": 2
}
