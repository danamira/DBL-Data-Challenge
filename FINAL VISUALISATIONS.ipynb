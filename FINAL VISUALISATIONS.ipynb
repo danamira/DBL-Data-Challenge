{
 "cells": [
  {
   "cell_type": "code",
   "execution_count": null,
   "metadata": {},
   "outputs": [],
   "source": [
    "import pandas as pd\n",
    "from database.connect import getConnection\n",
    "import matplotlib.pyplot as plt\n",
    "from datetime import datetime\n",
    "import numpy as np\n",
    "import seaborn as sns\n",
    "sns.set()\n",
    "from pathlib import Path"
   ]
  },
  {
   "attachments": {},
   "cell_type": "markdown",
   "metadata": {},
   "source": [
    "# **CLEAR OUTPUTS BEFORE PUSHING TO GIT**\n",
    "Press the clear all outputs button in the toolbar above before pushing to git.  \n",
    "This makes version control easier and avoids merge conflicts. "
   ]
  },
  {
   "cell_type": "code",
   "execution_count": null,
   "metadata": {},
   "outputs": [],
   "source": [
    "start_date = '01-01-2000'\n",
    "end_date = '01-01-2023'\n",
    "\n",
    "# convert start and end date to unix timestamp in milliseconds\n",
    "start_date_unix = int(datetime.strptime(start_date, '%d-%m-%Y').timestamp() * 1000)\n",
    "end_date_unix = int(datetime.strptime(end_date, '%d-%m-%Y').timestamp() * 1000)\n",
    "\n",
    "# create a part you can insert into your where clause\n",
    "date_restriction = f\" AND tweets.timestamp_ms >= {start_date_unix} AND tweets.timestamp_ms <= {end_date_unix}\""
   ]
  },
  {
   "attachments": {},
   "cell_type": "markdown",
   "metadata": {},
   "source": [
    "The cell below creates the connection to the database and the cursor to execute queries.  \n",
    "It also contains variables relevant everywhere in the notebook."
   ]
  },
  {
   "cell_type": "code",
   "execution_count": null,
   "metadata": {},
   "outputs": [],
   "source": [
    "try:\n",
    "    connection = getConnection()\n",
    "except Exception:\n",
    "    print(\"✖️ Error while connecting to MySQL engine database.\")\n",
    "    print(\"ℹ️ Please make sure the environment file `.env` is located at\"+\n",
    "        \"the project root directory and contains proper configuration.\")\n",
    "    raise\n",
    "\n",
    "cursor = connection.cursor()\n",
    "\n",
    "categories = {'booking': ['booking', 'booked', 'book', 'ticket', 'tickets'],\n",
    "            'canceling': ['canceled', 'cancellations'],\n",
    "            'money': ['refund', 'compensation', 'claim', 'money', 'pay', 'paid'],\n",
    "            'baggage': ['bag', 'baggage', 'luggage', 'bags'],\n",
    "            'staff': ['staff', 'crew'],\n",
    "            'waiting': ['waiting', 'delay', 'wait'],\n",
    "            'boarding': ['boarding'],\n",
    "            'stuck': ['stuck'],\n",
    "\n",
    "            'information': ['info', 'information'],\n",
    "            'customers': ['customer', 'customers', 'passenger', 'passengers'],\n",
    "            'dm': [' dm'], \n",
    "            }\n",
    "\n",
    "airlines_dict = {'KLM': ['klm'],\n",
    "                'AirFrance':['airfrance',\n",
    "                            'air france'],\n",
    "                'British_Airways': ['british_airways',\n",
    "                                    'british airways'],\n",
    "                'AmericanAir': ['americanair',\n",
    "                                'american airlines'],\n",
    "                'Lufthansa': ['lufthansa'],\n",
    "                'AirBerlin': ['airberlin',\n",
    "                                'air berlin'],\n",
    "                'AirBerlin assist': ['airberlin assist',\n",
    "                                    'air berlin assist',\n",
    "                                    'airberlinassist'],\n",
    "                'easyJet': ['easyjet'],\n",
    "                'RyanAir': ['ryanair'],\n",
    "                'SingaporeAir': ['singaporeair',\n",
    "                                'singapore airlines'],\n",
    "                'Qantas': ['qantas'],\n",
    "                'EtihadAirways': ['etihad airways',\n",
    "                                'etihadairways',\n",
    "                                'etihad'],\n",
    "                'VirginAtlantic': ['virgin atlantic',\n",
    "                                    'virginatlantic'],\n",
    "            }\n",
    "\n",
    "airlines_of_interest = ['AmericanAir', 'Other', 'British_Airways']"
   ]
  },
  {
   "attachments": {},
   "cell_type": "markdown",
   "metadata": {},
   "source": [
    "## Category visualisation"
   ]
  },
  {
   "cell_type": "code",
   "execution_count": null,
   "metadata": {},
   "outputs": [],
   "source": [
    "# create a dataframe with the counts of each category\n",
    "excluided = ['dm', 'customers', 'information']\n",
    "relevant_categories = [key for key in categories.keys() if key not in excluided]\n",
    "columns = ['total'] + relevant_categories\n",
    "\n",
    "base_path = Path('./pre-processed/')\n",
    "\n",
    "# create a dataframe with the counts of each category, restricted by timestamp_ms\n",
    "df = pd.DataFrame(columns=columns)\n",
    "for airline in airlines_of_interest:\n",
    "    df_airline = pd.read_csv(base_path / f'{airline}_category_counts.csv')\n",
    "    length = len(df_airline.index)\n",
    "    df_airline = df_airline[df_airline['timestamp_ms'] >= start_date_unix]\n",
    "    df_airline = df_airline[df_airline['timestamp_ms'] <= end_date_unix]\n",
    "    df_airline = df_airline.sum().to_frame().T\n",
    "    df_airline['total'] = length\n",
    "    df_airline['airline'] = airline\n",
    "    df = pd.concat([df, df_airline])\n",
    "\n",
    "\n",
    "df_category_counts = df.set_index('airline')"
   ]
  },
  {
   "attachments": {},
   "cell_type": "markdown",
   "metadata": {},
   "source": [
    "## Category table"
   ]
  },
  {
   "cell_type": "code",
   "execution_count": null,
   "metadata": {},
   "outputs": [],
   "source": [
    "# turn the dataframe into a table that shows both the counts, aswell as the keywords\n",
    "df_category_counts_table = df_category_counts.copy()\n",
    "df_category_counts_table = df_category_counts_table.drop(columns=['total'])\n",
    "df_category_counts_table = df_category_counts_table.transpose()\n",
    "df_category_counts_table = df_category_counts_table.reset_index()\n",
    "df_category_counts_table = df_category_counts_table.rename(columns={'index': 'category'})\n",
    "df_category_counts_table = df_category_counts_table.set_index('category')\n",
    "\n",
    "# add a column that displays the keywords for each category\n",
    "for category in relevant_categories:\n",
    "    keywords = categories[category]\n",
    "    df_category_counts_table.loc[category, 'keywords'] = \", \".join(keywords)\n",
    "\n",
    "df_category_counts_table"
   ]
  },
  {
   "attachments": {},
   "cell_type": "markdown",
   "metadata": {},
   "source": [
    "## Category chart"
   ]
  },
  {
   "cell_type": "code",
   "execution_count": null,
   "metadata": {},
   "outputs": [],
   "source": [
    "# create a dataframe for the percentages\n",
    "df_category_percentages = pd.DataFrame(columns=relevant_categories)\n",
    "\n",
    "# create rows for each airline and initialize with NaN values\n",
    "for airline in airlines_of_interest:\n",
    "    df_category_percentages.loc[airline] = np.nan\n",
    "\n",
    "\n",
    "# calculate the percentage of each category, restricted to 2 decimal points\n",
    "for category in relevant_categories:\n",
    "    if category == 'total':\n",
    "        continue\n",
    "    for airline in airlines_of_interest:\n",
    "        raw_percentage = df_category_counts.loc[airline][category] / df_category_counts.loc[airline]['total'] * 100\n",
    "        percentage = round(raw_percentage, 2)\n",
    "        df_category_percentages.loc[airline, category] = percentage\n",
    "\n",
    "# Convert relevant columns to numeric type\n",
    "df_category_percentages[relevant_categories] = df_category_percentages[relevant_categories].apply(pd.to_numeric)\n",
    "\n",
    "\n",
    "# create a grouped bar chart \n",
    "# df_category_percentages.plot.bar(figsize=(20, 10), fontsize=20)\n",
    "# plt.title('Percentage of tweets per category', fontsize=30)\n",
    "# plt.xlabel('Airline', fontsize=20)\n",
    "# plt.ylabel('Percentage', fontsize=20)\n",
    "# plt.legend(fontsize=20)\n",
    "# plt.show()\n",
    "\n",
    "# create a grouped bar chart grouped by category\n",
    "df_category_percentages.transpose().plot.bar(figsize=(20, 10), fontsize=20)\n",
    "plt.title('Percentage of tweets per category per airline', fontsize=30)\n",
    "plt.xlabel('Category', fontsize=20)\n",
    "plt.ylabel('Percentage', fontsize=20)\n",
    "plt.legend(fontsize=20)\n",
    "plt.show()"
   ]
  },
  {
   "attachments": {},
   "cell_type": "markdown",
   "metadata": {},
   "source": [
    "# Oscar's magic"
   ]
  },
  {
   "cell_type": "code",
   "execution_count": null,
   "metadata": {},
   "outputs": [],
   "source": [
    "cursor.execute(f\"\"\" SELECT bs.bin_id, bs.cID, bs.bin_position, bs.break_airline, bs.sentiment_sum, bs.tweet_count, c.Tstart, c.Tend\n",
    "                    FROM binned_sentiment bs, conversations c\n",
    "                    WHERE bs.cID = c.id AND bs.break_airline NOT LIKE 'prev=%'\"\"\")\n",
    "binned_sentiment = cursor.fetchall()\n",
    "#all bins from conversations with more than 1 bin.\n",
    "\n",
    "query = f\"\"\" SELECT CASE WHEN bs1.break_airline='AmericanAir' THEN \"American Air\" \n",
    "                        WHEN bs1.break_airline = 'British_Airways' THEN \"British Airways\" \n",
    "                        ELSE \"Other Airlines\" END AS Airline, \n",
    "            CASE WHEN (bs1.sentiment_sum / bs1.tweet_count) > (bs2.sentiment_sum / bs2.tweet_count) THEN -1*ABS((bs1.sentiment_sum / bs1.tweet_count) - (bs2.sentiment_sum / bs2.tweet_count))\n",
    "            ELSE ABS((bs1.sentiment_sum / bs1.tweet_count) - (bs2.sentiment_sum / bs2.tweet_count))\n",
    "            END AS Average_sent_diff\n",
    "            FROM `binned_sentiment` bs1, `binned_sentiment` bs2\n",
    "            WHERE bs1.cID = bs2.cID AND bs2.bin_position = bs1.bin_position + 1 \n",
    "            AND bs1.cID IN (SELECT id\n",
    "                            FROM conversations\n",
    "                            WHERE Tstart > {start_date_unix} AND Tend < {end_date_unix})\"\"\"\n",
    "cursor.execute(query) #the airlines and average sentiment change per \n",
    "sentiment_change = cursor.fetchall()\n",
    "\n",
    "df_sentiment_change = pd.DataFrame(sentiment_change, dtype = float)\n",
    "df_sentiment_change.rename(columns ={0:\"Airline\",1:\"Sentiment Change [RoBERTa-XLM]\"}, inplace=True)\n",
    "df_sentiment_change; #initialize a dataframe with the query data.\n",
    "\n",
    "sns.set_context(\"paper\", font_scale = 1.5)\n",
    "ax = sns.boxplot(data=df_sentiment_change,x='Airline',y='Sentiment Change [RoBERTa-XLM]', order= ['British Airways','Other Airlines','American Air'\n",
    "            ])\n",
    "ax.set_xlabel(ax.get_xlabel(), fontdict={'weight':'bold'})\n",
    "ax.set_ylabel(ax.get_ylabel(), fontdict={'weight':'bold'})\n",
    "ax.set_title('Average Sentiment Change during conversations of Airline',weight='bold'); #graph the data from the dataframe into 3 boxplots"
   ]
  },
  {
   "attachments": {},
   "cell_type": "markdown",
   "metadata": {},
   "source": [
    "# Sentiment change per bin"
   ]
  },
  {
   "cell_type": "code",
   "execution_count": null,
   "metadata": {},
   "outputs": [],
   "source": [
    "file_path = Path(\"./output/sentiment_per_bin.csv\")\n",
    "\n",
    "# for each position, get 75%, 50%, 25% percentile\n",
    "df = pd.read_csv(file_path)\n",
    "# drop all columns not within the time frame\n",
    "df = df[df[\"Tend\"] <= end_date_unix]\n",
    "df = df[df[\"Tstart\"] >= start_date_unix]\n",
    "\n",
    "# drop time columns\n",
    "df = df.drop(columns=[\"Tstart\", \"Tend\"])\n",
    "\n",
    "# drop the bin_id column\n",
    "df = df.drop(columns=[\"bin_id\"])\n",
    "\n",
    "# group the rows by bin_position\n",
    "df = df.groupby([\"bin_position\"]).agg(lambda x: list(x))\n",
    "\n",
    "df[\"75%\"] = df[\"sentiment\"].apply(lambda x: pd.Series(x).quantile(0.75))\n",
    "df[\"50%\"] = df[\"sentiment\"].apply(lambda x: pd.Series(x).quantile(0.50))\n",
    "df[\"25%\"] = df[\"sentiment\"].apply(lambda x: pd.Series(x).quantile(0.25))\n",
    "\n",
    "# show the lengths per position\n",
    "df[\"length\"] = df[\"sentiment\"].apply(lambda x: len(x))\n",
    "\n",
    "# find the first row that has a length of 5\n",
    "small_rows = df[df[\"length\"] <= 5]\n",
    "\n",
    "# get the index of the first row    \n",
    "first_small_row = small_rows.index[0]\n",
    "print(first_small_row)\n",
    "\n",
    "# drop all rows after the first small row\n",
    "df = df.drop(df.index[(first_small_row - 1):])\n",
    "df = df.drop(columns=[\"length\"])"
   ]
  },
  {
   "cell_type": "code",
   "execution_count": null,
   "metadata": {},
   "outputs": [],
   "source": [
    "# Plot the line graph, coloring the area between 75% and 25%\n",
    "ax = df.plot(y=\"50%\", figsize=(15, 10), legend=False)\n",
    "ax.fill_between(df.index, df[\"75%\"], df[\"25%\"], alpha=0.2)\n",
    "ax.set_xlabel(\"Position\")\n",
    "ax.set_ylabel(\"Sentiment\")\n",
    "ax.set_title(\"Sentiment over time\")\n",
    "plt.show()"
   ]
  },
  {
   "cell_type": "code",
   "execution_count": null,
   "metadata": {},
   "outputs": [],
   "source": []
  }
 ],
 "metadata": {
  "kernelspec": {
   "display_name": "dbl-1",
   "language": "python",
   "name": "python3"
  },
  "language_info": {
   "codemirror_mode": {
    "name": "ipython",
    "version": 3
   },
   "file_extension": ".py",
   "mimetype": "text/x-python",
   "name": "python",
   "nbconvert_exporter": "python",
   "pygments_lexer": "ipython3",
   "version": "3.11.3"
  },
  "orig_nbformat": 4
 },
 "nbformat": 4,
 "nbformat_minor": 2
}
