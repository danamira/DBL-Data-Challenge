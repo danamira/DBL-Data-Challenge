{
 "cells": [
  {
   "cell_type": "code",
   "execution_count": 1,
   "metadata": {},
   "outputs": [],
   "source": [
    "# Module imports\n",
    "\n",
    "import database.connect\n",
    "import pandas as pd\n",
    "import numpy as np\n",
    "import statistics\n",
    "import seaborn as sns\n",
    "import matplotlib.pyplot as plt"
   ]
  },
  {
   "cell_type": "code",
   "execution_count": null,
   "metadata": {},
   "outputs": [],
   "source": [
    "# Connect to SQL database\n",
    "\n",
    "connection=database.connect.getConnection()\n",
    "cursor=connection.cursor(buffered=True)"
   ]
  },
  {
   "cell_type": "code",
   "execution_count": 2,
   "metadata": {},
   "outputs": [
    {
     "ename": "SyntaxError",
     "evalue": "EOL while scanning string literal (2732948322.py, line 5)",
     "output_type": "error",
     "traceback": [
      "\u001b[1;36m  Input \u001b[1;32mIn [2]\u001b[1;36m\u001b[0m\n\u001b[1;33m    Query= (f\"\u001b[0m\n\u001b[1;37m              ^\u001b[0m\n\u001b[1;31mSyntaxError\u001b[0m\u001b[1;31m:\u001b[0m EOL while scanning string literal\n"
     ]
    }
   ],
   "source": [
    "def avg_resp_time():\n",
    "\n",
    "    # Function takes in an airline and returns the mean sentiment\n",
    "\n",
    "    Query= (f\"\"\"\n",
    "                SELECT part_of.cID, COUNT(*), AVG(tweets.reply_time) \n",
    "                FROM tweets, part_of, conversations \n",
    "                WHERE tweets.id = part_of.tID AND part_of.cID = conversations.id AND conversations.Airline <> '0' \n",
    "                GROUP BY part_of.cID\n",
    "                \"\"\")\n",
    "    execute=cursor.execute(Query)\n",
    "    result=cursor.fetchall()\n",
    "    return result[0][0]\n",
    "\n",
    "# TODO\n",
    "def init_sent():\n",
    "\n",
    "    # Find the median sentiment per airline\n",
    "    try:\n",
    "        Query = (f\"\"\"\n",
    "                SELECT *\n",
    "                FROM part_of, conversations\n",
    "                WHERE conversations.Airline <> '0';\n",
    "                 \n",
    "                 \"\"\")\n",
    "        execute = cursor.execute(Query)\n",
    "        result = cursor.fetchall()\n",
    "        \n",
    "        return result[0][0]\n",
    "\n",
    "    except:\n",
    "        print(\"Error\")\n",
    "        return 0.00\n",
    "\n"
   ]
  },
  {
   "cell_type": "code",
   "execution_count": 5,
   "metadata": {},
   "outputs": [],
   "source": [
    "import numpy as np\n",
    "import pandas as pd\n",
    "import seaborn as sns\n",
    "import matplotlib.pyplot as plt\n",
    "\n",
    "\n",
    "\n",
    "#file = 'https://aegis4048.github.io/downloads/notebooks/sample_data/unconv_MV_v5.csv'\n",
    "def corr_matrix():\n",
    "    df = pd.read_csv(file)\n",
    "\n",
    "    df = df.iloc[:, 1:-1]\n",
    "\n",
    "    corr = df.corr(method='spearman')\n",
    "\n",
    "    # Generate a mask for the upper triangle\n",
    "    mask = np.zeros_like(corr, dtype=bool)\n",
    "    mask[np.triu_indices_from(mask)] = True\n",
    "\n",
    "    # Set up the matplotlib figure\n",
    "    fig, ax = plt.subplots(figsize=(7, 6))\n",
    "\n",
    "    # Generate a custom diverging colormap\n",
    "    cmap = sns.diverging_palette(220, 10, as_cmap=True, sep=100)\n",
    "\n",
    "    # Draw the heatmap with the mask and correct aspect ratio\n",
    "    sns.heatmap(corr, mask=mask, cmap=cmap, vmin=-1, vmax=1, center=0, linewidths=.5)\n",
    "\n",
    "    fig.suptitle('Correlation matrix of features', fontsize=15)\n",
    "\n",
    "\n",
    "    fig.tight_layout()"
   ]
  },
  {
   "cell_type": "code",
   "execution_count": 4,
   "metadata": {},
   "outputs": [],
   "source": [
    "from sklearn import linear_model\n",
    "file = 'https://aegis4048.github.io/downloads/notebooks/sample_data/unconv_MV_v5.csv'\n",
    "def multiple_regress():\n",
    "    df = pd.read_csv(file)\n",
    "\n",
    "    #substitue for actual feature names later\n",
    "    features = ['Por', 'Brittle', 'Perm', 'TOC']\n",
    "    target = 'Prod'\n",
    "\n",
    "    X = df[features].values.reshape(-1, len(features))\n",
    "    y = df[target].values\n",
    "\n",
    "    ols = linear_model.LinearRegression()\n",
    "    model = ols.fit(X, y)\n",
    "\n",
    "    #model.coef_\n",
    "\n",
    "    print('Features                :  %s' % features)\n",
    "    print('Regression Coefficients : ', [round(item, 2) for item in model.coef_])\n",
    "    print('R-squared               :  %.2f' % model.score(X, y))\n",
    "    print('Y-intercept             :  %.2f' % model.intercept_)\n",
    "    print('')"
   ]
  },
  {
   "cell_type": "code",
   "execution_count": null,
   "metadata": {},
   "outputs": [],
   "source": []
  }
 ],
 "metadata": {
  "kernelspec": {
   "display_name": "dbl",
   "language": "python",
   "name": "python3"
  },
  "language_info": {
   "codemirror_mode": {
    "name": "ipython",
    "version": 3
   },
   "file_extension": ".py",
   "mimetype": "text/x-python",
   "name": "python",
   "nbconvert_exporter": "python",
   "pygments_lexer": "ipython3",
   "version": "3.8.16"
  },
  "orig_nbformat": 4
 },
 "nbformat": 4,
 "nbformat_minor": 2
}
