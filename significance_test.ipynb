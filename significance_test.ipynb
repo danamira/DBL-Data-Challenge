{
 "cells": [
  {
   "cell_type": "code",
   "execution_count": null,
   "metadata": {},
   "outputs": [],
   "source": [
    "from scipy.stats import ttest_ind\n",
    "import numpy as np\n",
    "from pathlib import Path\n",
    "import pandas as pd\n",
    "from database.connect import getConnection\n",
    "import matplotlib.pyplot as plt\n",
    "from datetime import datetime\n",
    "import statsmodels.api as sm\n",
    "#This file will attempt to test if our sentiment change is significantly different from 0."
   ]
  },
  {
   "cell_type": "code",
   "execution_count": null,
   "metadata": {},
   "outputs": [],
   "source": [
    "start_date = '01-01-2000'\n",
    "end_date = '01-01-2023'\n",
    "\n",
    "# convert start and end date to unix timestamp in milliseconds\n",
    "start_date_unix = int(datetime.strptime(start_date, '%d-%m-%Y').timestamp() * 1000)\n",
    "end_date_unix = int(datetime.strptime(end_date, '%d-%m-%Y').timestamp() * 1000)\n",
    "\n",
    "# create a part you can insert into your where clause\n",
    "date_restriction = f\" AND tweets.timestamp_ms >= {start_date_unix} AND tweets.timestamp_ms <= {end_date_unix}\"\n",
    "connection = getConnection()\n",
    "cursor = connection.cursor()"
   ]
  },
  {
   "cell_type": "code",
   "execution_count": null,
   "metadata": {},
   "outputs": [],
   "source": [
    "file_path = Path(\"./output/sentiment_per_bin.csv\")\n",
    "df = pd.read_csv(file_path)\n",
    "#df is now the data of sentiment per bin.\n",
    "d_newcomb = sm.stats.DescrStatsW(df['sentiment'])\n",
    "print(f\"{d_newcomb.ttest_mean(0, alternative='two-sided')}, t-stat, p-value, df\")\n",
    "print(f\"{d_newcomb.tconfint_mean(alpha=0.05, alternative='two-sided')}, CI\")"
   ]
  },
  {
   "cell_type": "code",
   "execution_count": null,
   "metadata": {},
   "outputs": [],
   "source": [
    "cursor.execute(f\"\"\" SELECT bs.bin_id, bs.cID, bs.bin_position, bs.break_airline, bs.sentiment_sum, bs.tweet_count, c.Tstart, c.Tend\n",
    "                    FROM binned_sentiment bs, conversations c\n",
    "                    WHERE bs.cID = c.id AND bs.break_airline NOT LIKE 'prev=%'\"\"\")\n",
    "binned_sentiment = cursor.fetchall()\n",
    "#all bins from conversations with more than 1 bin.\n",
    "\n",
    "query = f\"\"\" SELECT CASE WHEN bs1.break_airline='AmericanAir' THEN \"American Air\" \n",
    "                        WHEN bs1.break_airline = 'British_Airways' THEN \"British Airways\" \n",
    "                        ELSE \"Other Airlines\" END AS Airline, \n",
    "            CASE WHEN (bs1.sentiment_sum / bs1.tweet_count) > (bs2.sentiment_sum / bs2.tweet_count) THEN -1*ABS((bs1.sentiment_sum / bs1.tweet_count) - (bs2.sentiment_sum / bs2.tweet_count))\n",
    "            ELSE ABS((bs1.sentiment_sum / bs1.tweet_count) - (bs2.sentiment_sum / bs2.tweet_count))\n",
    "            END AS Average_sent_diff\n",
    "            FROM `binned_sentiment` bs1, `binned_sentiment` bs2\n",
    "            WHERE bs1.cID = bs2.cID AND bs2.bin_position = bs1.bin_position + 1 \n",
    "            AND bs1.cID IN (SELECT id\n",
    "                            FROM conversations\n",
    "                            WHERE Tstart > {start_date_unix} AND Tend < {end_date_unix})\"\"\"\n",
    "cursor.execute(query) #the airlines and average sentiment change per \n",
    "sentiment_change = cursor.fetchall()"
   ]
  },
  {
   "cell_type": "code",
   "execution_count": null,
   "metadata": {},
   "outputs": [],
   "source": [
    "df_sentiment_change = pd.DataFrame(sentiment_change)\n",
    "df_sentiment_change.rename(columns ={0:\"airline\",1:\"sentiment\"}, inplace=True)\n",
    "df_sentiment_change[\"sentiment\"] = df_sentiment_change[\"sentiment\"].astype(float)"
   ]
  },
  {
   "cell_type": "code",
   "execution_count": null,
   "metadata": {},
   "outputs": [],
   "source": [
    "d_newcomb = sm.stats.DescrStatsW(df_sentiment_change['sentiment'])\n",
    "print(f\"{d_newcomb.ttest_mean(0, alternative='two-sided')}, t-stat, p-value, df\")\n",
    "print(f\"{d_newcomb.tconfint_mean(alpha=0.05, alternative='two-sided')}, CI\")\n",
    "#The significance of all tweets together."
   ]
  },
  {
   "cell_type": "code",
   "execution_count": null,
   "metadata": {},
   "outputs": [],
   "source": [
    "df_other = df_sentiment_change[df_sentiment_change['airline']==\"Other Airlines\"]\n",
    "df_aa = df_sentiment_change[df_sentiment_change['airline']==\"American Air\"]\n",
    "df_ba = df_sentiment_change[df_sentiment_change['airline']==\"British Airways\"]"
   ]
  },
  {
   "cell_type": "code",
   "execution_count": null,
   "metadata": {},
   "outputs": [],
   "source": [
    "d_newcomb = sm.stats.DescrStatsW(df_aa['sentiment'])\n",
    "print('American Airlines')\n",
    "print(f\"{d_newcomb.ttest_mean(0, alternative='two-sided')}, t-stat, p-value, df\")\n",
    "print(f\"{d_newcomb.tconfint_mean(alpha=0.05, alternative='two-sided')}, CI\")\n",
    "\n",
    "d_newcomb = sm.stats.DescrStatsW(df_other['sentiment'])\n",
    "print('Other Airlines')\n",
    "print(f\"{d_newcomb.ttest_mean(0, alternative='two-sided')}, t-stat, p-value, df\")\n",
    "print(f\"{d_newcomb.tconfint_mean(alpha=0.05, alternative='two-sided')}, CI\")\n",
    "\n",
    "d_newcomb = sm.stats.DescrStatsW(df_ba['sentiment'])\n",
    "print('British Airways')\n",
    "print(f\"{d_newcomb.ttest_mean(0, alternative='two-sided')}, t-stat, p-value, df\")\n",
    "print(f\"{d_newcomb.tconfint_mean(alpha=0.05, alternative='two-sided')}, CI\")"
   ]
  }
 ],
 "metadata": {
  "kernelspec": {
   "display_name": "base",
   "language": "python",
   "name": "python3"
  },
  "language_info": {
   "codemirror_mode": {
    "name": "ipython",
    "version": 3
   },
   "file_extension": ".py",
   "mimetype": "text/x-python",
   "name": "python",
   "nbconvert_exporter": "python",
   "pygments_lexer": "ipython3",
   "version": "3.10.11"
  },
  "orig_nbformat": 4
 },
 "nbformat": 4,
 "nbformat_minor": 2
}
