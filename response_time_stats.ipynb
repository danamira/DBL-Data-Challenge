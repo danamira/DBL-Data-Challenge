{
 "cells": [
  {
   "attachments": {},
   "cell_type": "markdown",
   "metadata": {},
   "source": [
    "# Response Time: Some Statistics\n",
    "This is a notebook that explores response time of the tweets.\n",
    "For questions, contact Alicia."
   ]
  },
  {
   "attachments": {},
   "cell_type": "markdown",
   "metadata": {},
   "source": [
    "## Set-up:\n",
    "### Imports:\n",
    "Firth the necessary packages are imported:"
   ]
  },
  {
   "cell_type": "code",
   "execution_count": 1,
   "metadata": {},
   "outputs": [],
   "source": [
    "# IMPORTS\n",
    "import sys\n",
    "sys.path.append(\"../DBL-Data-Challenge\")\n",
    "\n",
    "# Own functions\n",
    "from database.connect import getConnection\n",
    "from notebooks.response2 import response_time_id, response_time_calc, mentions, length, mention_count\n",
    "import matplotlib.pyplot as plt\n",
    "\n",
    "\n",
    "# Packages\n",
    "import pandas as pd\n",
    "import seaborn as sns\n",
    "import matplotlib as plt\n",
    "sns.set()"
   ]
  },
  {
   "attachments": {},
   "cell_type": "markdown",
   "metadata": {},
   "source": [
    "Then a connection to a MySQL database is set up."
   ]
  },
  {
   "cell_type": "code",
   "execution_count": 2,
   "metadata": {},
   "outputs": [],
   "source": [
    "# Get connection\n",
    "try:\n",
    "    connection = getConnection()\n",
    "except Exception:\n",
    "    print(\"✖️ Error while connecting to MySQL engine database.\")\n",
    "    print(\"ℹ️ Please make sure the environment file `.env` is located at\"+\n",
    "        \"the project root directory and contains proper configuration.\")\n",
    "    raise"
   ]
  },
  {
   "attachments": {},
   "cell_type": "markdown",
   "metadata": {},
   "source": [
    "### Creating the datafrane:\n",
    "All the relevant data is fetched from the table. A list is used to keep track of the index of the columns."
   ]
  },
  {
   "cell_type": "code",
   "execution_count": 3,
   "metadata": {},
   "outputs": [],
   "source": [
    "# query relevant data and fetch it\n",
    "cursor = connection.cursor()\n",
    "query_columns = ['id', 'text', 'in_reply_to_status_id', 'timestamp_ms', 'mentions', 'user_id', 'sentiment']\n",
    "query=\"SELECT id, text, in_reply_to_status_id, timestamp_ms, mentions, user_id, sentiment FROM tweets\"\n",
    "cursor.execute(query)\n",
    "tweets = cursor.fetchall()"
   ]
  },
  {
   "attachments": {},
   "cell_type": "markdown",
   "metadata": {},
   "source": [
    "A Pandas dataframe is created from this data, with the relevant columns for the analysis. The necessary functions are imported from response2.py"
   ]
  },
  {
   "cell_type": "code",
   "execution_count": 4,
   "metadata": {},
   "outputs": [
    {
     "data": {
      "text/html": [
       "<div>\n",
       "<style scoped>\n",
       "    .dataframe tbody tr th:only-of-type {\n",
       "        vertical-align: middle;\n",
       "    }\n",
       "\n",
       "    .dataframe tbody tr th {\n",
       "        vertical-align: top;\n",
       "    }\n",
       "\n",
       "    .dataframe thead th {\n",
       "        text-align: right;\n",
       "    }\n",
       "</style>\n",
       "<table border=\"1\" class=\"dataframe\">\n",
       "  <thead>\n",
       "    <tr style=\"text-align: right;\">\n",
       "      <th></th>\n",
       "      <th>response_time</th>\n",
       "      <th>tweet_sentiment</th>\n",
       "      <th>mentions</th>\n",
       "      <th>tweet_length</th>\n",
       "    </tr>\n",
       "  </thead>\n",
       "  <tbody>\n",
       "    <tr>\n",
       "      <th>0</th>\n",
       "      <td>no_reply</td>\n",
       "      <td>-0.462126</td>\n",
       "      <td>[no_airline, no_airline, no_airline]</td>\n",
       "      <td>140</td>\n",
       "    </tr>\n",
       "    <tr>\n",
       "      <th>1</th>\n",
       "      <td>no_reply</td>\n",
       "      <td>0.164795</td>\n",
       "      <td>[BritishAirways]</td>\n",
       "      <td>16</td>\n",
       "    </tr>\n",
       "    <tr>\n",
       "      <th>2</th>\n",
       "      <td>no_reply</td>\n",
       "      <td>0.929742</td>\n",
       "      <td>[no_airline, AmericanAir, no_airline]</td>\n",
       "      <td>140</td>\n",
       "    </tr>\n",
       "    <tr>\n",
       "      <th>3</th>\n",
       "      <td>no_reply</td>\n",
       "      <td>0.043662</td>\n",
       "      <td>[no_airline, no_airline, no_airline]</td>\n",
       "      <td>140</td>\n",
       "    </tr>\n",
       "    <tr>\n",
       "      <th>4</th>\n",
       "      <td>no_reply</td>\n",
       "      <td>-0.630411</td>\n",
       "      <td>[]</td>\n",
       "      <td>77</td>\n",
       "    </tr>\n",
       "  </tbody>\n",
       "</table>\n",
       "</div>"
      ],
      "text/plain": [
       "  response_time  tweet_sentiment                               mentions  \\\n",
       "0      no_reply        -0.462126   [no_airline, no_airline, no_airline]   \n",
       "1      no_reply         0.164795                       [BritishAirways]   \n",
       "2      no_reply         0.929742  [no_airline, AmericanAir, no_airline]   \n",
       "3      no_reply         0.043662   [no_airline, no_airline, no_airline]   \n",
       "4      no_reply        -0.630411                                     []   \n",
       "\n",
       "  tweet_length  \n",
       "0          140  \n",
       "1           16  \n",
       "2          140  \n",
       "3          140  \n",
       "4           77  "
      ]
     },
     "execution_count": 4,
     "metadata": {},
     "output_type": "execute_result"
    }
   ],
   "source": [
    "\"\"\"Creating the dataframe\n",
    "    :columns: [response_time, tweet_sentiment, mentions, tweet_length]\n",
    "    :values: [int (ms), float in range(-1, 1), list(str), int]\n",
    "\"\"\"\n",
    "\n",
    "# Creating the dataframe\n",
    "upper_limit = 1000\n",
    "\n",
    "df_columns = ['response_time', 'tweet_sentiment', 'mentions', 'tweet_length']\n",
    "df_data = pd.DataFrame(columns=df_columns)\n",
    "\n",
    "# Read data from tweets with desired limit\n",
    "for tuple in tweets[0:upper_limit]:  \n",
    "    dict = {'response_time': 'Null', 'tweet_sentiment': 'Null', 'mention_count': 'Null', 'airline': 'Null', 'tweet_length': 'Null'}\n",
    "        \n",
    "    # Response time -> int, unit: ms\n",
    "    try:\n",
    "        dict['response_time'] = response_time_id(tuple[query_columns.index('id')], cursor) \n",
    "    except Exception:\n",
    "        pass   \n",
    "\n",
    "    # Sentiment detection -> float, in range(-1, 1)\n",
    "    try:\n",
    "        dict['tweet_sentiment'] = float(tuple[query_columns.index('sentiment')])\n",
    "    except Exception:\n",
    "        pass\n",
    "    \n",
    "    # User mentions -> list(str, str, ...)\n",
    "    try:\n",
    "        dict['mentions'] = mentions(tuple[query_columns.index('mentions')])\n",
    "    except Exception:\n",
    "        pass\n",
    "    \n",
    "     # Airline -> str\n",
    "    try:\n",
    "        dict['airline'] = mentions(tuple[query_columns.index('airline')])\n",
    "    except Exception:\n",
    "        pass   \n",
    "\n",
    "    # Tweet length -> int\n",
    "    try:    \n",
    "        dict['tweet_length'] = length(tuple[query_columns.index('text')])\n",
    "    except Exception:\n",
    "        pass\n",
    "\n",
    "    # Add to dataframe\n",
    "    df_dict = pd.DataFrame([dict])\n",
    "    df_data = pd.concat([df_data, df_dict], ignore_index=True)\n",
    "\n",
    "# Close connection\n",
    "cursor.close()\n",
    "connection.close()\n",
    "\n",
    "df_data.head()"
   ]
  },
  {
   "attachments": {},
   "cell_type": "markdown",
   "metadata": {},
   "source": [
    "Since the value of most reponse times are \"no_reply\" and thus unlikely to see another value in the head, a double check is needed to see if everything was added correctly. "
   ]
  },
  {
   "cell_type": "code",
   "execution_count": 5,
   "metadata": {},
   "outputs": [
    {
     "name": "stdout",
     "output_type": "stream",
     "text": [
      "Successfully added\n",
      "example: 0.039820555555555553\n"
     ]
    }
   ],
   "source": [
    "# Check if the response time was added successfully\n",
    "for i in range(0, len(df_data.index)):\n",
    "    if df_data.loc[i, 'response_time'] != 'no_reply':\n",
    "        print('Successfully added')\n",
    "        print(f\"example: {df_data.loc[i, 'response_time']}\")\n",
    "        break\n"
   ]
  },
  {
   "attachments": {},
   "cell_type": "markdown",
   "metadata": {},
   "source": [
    "## Statistics and Plots\n",
    "First we give some basic statistics."
   ]
  },
  {
   "cell_type": "code",
   "execution_count": 6,
   "metadata": {},
   "outputs": [
    {
     "data": {
      "text/plain": [
       "count         1000\n",
       "unique         158\n",
       "top       no_reply\n",
       "freq           843\n",
       "Name: response_time, dtype: object"
      ]
     },
     "execution_count": 6,
     "metadata": {},
     "output_type": "execute_result"
    }
   ],
   "source": [
    "# Response time basic statistics\n",
    "df_data['response_time'].describe(include='all')"
   ]
  },
  {
   "attachments": {},
   "cell_type": "markdown",
   "metadata": {},
   "source": [
    "### Reply-rate boxplot:"
   ]
  },
  {
   "cell_type": "code",
   "execution_count": 7,
   "metadata": {},
   "outputs": [
    {
     "data": {
      "text/html": [
       "<div>\n",
       "<style scoped>\n",
       "    .dataframe tbody tr th:only-of-type {\n",
       "        vertical-align: middle;\n",
       "    }\n",
       "\n",
       "    .dataframe tbody tr th {\n",
       "        vertical-align: top;\n",
       "    }\n",
       "\n",
       "    .dataframe thead th {\n",
       "        text-align: right;\n",
       "    }\n",
       "</style>\n",
       "<table border=\"1\" class=\"dataframe\">\n",
       "  <thead>\n",
       "    <tr style=\"text-align: right;\">\n",
       "      <th></th>\n",
       "      <th>reply_count</th>\n",
       "      <th>no_reply_count</th>\n",
       "    </tr>\n",
       "  </thead>\n",
       "  <tbody>\n",
       "    <tr>\n",
       "      <th>0</th>\n",
       "      <td>157</td>\n",
       "      <td>843</td>\n",
       "    </tr>\n",
       "  </tbody>\n",
       "</table>\n",
       "</div>"
      ],
      "text/plain": [
       "   reply_count  no_reply_count\n",
       "0          157             843"
      ]
     },
     "execution_count": 7,
     "metadata": {},
     "output_type": "execute_result"
    }
   ],
   "source": [
    "no_reply_count = df_data['response_time'].value_counts()['no_reply']\n",
    "reply_count = len(df_data.index) - no_reply_count\n",
    "\n",
    "df_reply_rate = pd.DataFrame([{'reply_count': reply_count, 'no_reply_count': no_reply_count}])\n",
    "df_reply_rate.head()"
   ]
  },
  {
   "cell_type": "code",
   "execution_count": 8,
   "metadata": {},
   "outputs": [
    {
     "data": {
      "text/plain": [
       "Text(0, 0.5, 'Percentage [%]')"
      ]
     },
     "execution_count": 8,
     "metadata": {},
     "output_type": "execute_result"
    },
    {
     "data": {
      "image/png": "[encoded data removed]",
      "text/plain": [
       "<Figure size 640x480 with 1 Axes>"
      ]
     },
     "metadata": {},
     "output_type": "display_data"
    }
   ],
   "source": [
    "ax = sns.barplot(df_reply_rate)\n",
    "ax.set_title(\"Reply-rate\")\n",
    "ax.set_xlabel('Response to other tweet or not')\n",
    "ax.set_ylabel('Percentage [%]')"
   ]
  },
  {
   "attachments": {},
   "cell_type": "markdown",
   "metadata": {},
   "source": [
    "### Boxplot of reply time per competitor airplanes and in general."
   ]
  },
  {
   "cell_type": "code",
   "execution_count": null,
   "metadata": {},
   "outputs": [],
   "source": [
    "df_user = 0\n",
    "\n",
    "\n",
    "df_user_time_clean = pd.DataFrame()\n",
    "\n",
    "for i in range(0, len(df_user.index)):\n",
    "    if df_user.loc[i, 'response_time'] != 0:\n",
    "        dict = {'response_time': (df_user.loc[i, 'response_time'])/(1000*60*60), 'airline': df_user.loc[i, 'airline']}\n",
    "        df_dict = pd.DataFrame([dict])\n",
    "        df_user_time_clean = pd.concat([df_user_time_clean, df_dict], ignore_index=True)\n",
    "        \n",
    "df_user_time_clean.head()\n"
   ]
  },
  {
   "cell_type": "code",
   "execution_count": null,
   "metadata": {},
   "outputs": [],
   "source": [
    "ax = sns.boxplot(data=df_user_time_clean, x='airline', y='response_time', showfliers=False)\n",
    "ax.set_xticklabels(ax.get_xticklabels(), rotation=45)\n",
    "ax.set_xlabel('Airlines')\n",
    "ax.set_ylabel('Reply time (hours)')\n",
    "ax.set_title('Boxplot of reply time per airline');"
   ]
  }
 ],
 "metadata": {
  "kernelspec": {
   "display_name": "ok",
   "language": "python",
   "name": "python3"
  },
  "language_info": {
   "codemirror_mode": {
    "name": "ipython",
    "version": 3
   },
   "file_extension": ".py",
   "mimetype": "text/x-python",
   "name": "python",
   "nbconvert_exporter": "python",
   "pygments_lexer": "ipython3",
   "version": "3.8.16"
  },
  "orig_nbformat": 4
 },
 "nbformat": 4,
 "nbformat_minor": 2
}
