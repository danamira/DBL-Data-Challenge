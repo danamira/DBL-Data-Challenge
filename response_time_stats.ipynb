{
 "cells": [
  {
   "attachments": {},
   "cell_type": "markdown",
   "metadata": {},
   "source": [
    "# Response time statistics"
   ]
  },
  {
   "cell_type": "code",
   "execution_count": 1,
   "metadata": {},
   "outputs": [],
   "source": [
    "# IMPORTS\n",
    "import sys\n",
    "sys.path.append(\"../DBL-Data-Challenge\")\n",
    "\n",
    "# Own functions\n",
    "from database.connect import getConnection\n",
    "from notebooks.response2 import response_time_id, mentions, length\n",
    "\n",
    "# Packages\n",
    "import pandas as pd\n",
    "import seaborn as sns\n",
    "sns.set()\n",
    "import random\n",
    "import matplotlib.pyplot as plt\n",
    "from globals import airlineIDs\n",
    "import re"
   ]
  },
  {
   "cell_type": "code",
   "execution_count": 2,
   "metadata": {},
   "outputs": [],
   "source": [
    "# Get connection\n",
    "try:\n",
    "    connection = getConnection()\n",
    "except Exception:\n",
    "    print(\"✖️ Error while connecting to MySQL engine database.\")\n",
    "    print(\"ℹ️ Please make sure the environment file `.env` is located at\"+\n",
    "        \"the project root directory and contains proper configuration.\")\n",
    "    raise"
   ]
  },
  {
   "cell_type": "code",
   "execution_count": 3,
   "metadata": {},
   "outputs": [],
   "source": [
    "# query relevant data and fetch it\n",
    "cursor = connection.cursor()\n",
    "query_columns = ['id', 'text', 'in_reply_to_status_id', 'timestamp_ms', 'mentions', 'user_id', 'sentiment']\n",
    "query=\"SELECT id, text, in_reply_to_status_id, timestamp_ms, mentions, user_id, sentiment FROM tweets\"\n",
    "cursor.execute(query)\n",
    "tweets = cursor.fetchall()"
   ]
  },
  {
   "cell_type": "code",
   "execution_count": 4,
   "metadata": {},
   "outputs": [
    {
     "name": "stdout",
     "output_type": "stream",
     "text": [
      "1131172864147808257\n",
      "(1131172864147808257, 'RT @bttr_as1: @goody_tracy Here’s a list of some of @JonesDay clients. They should know Jones Day encouraged McGann to break the law:\\n@Macy…', 0, 1558527601645, '[880417607865815040, 1000793307688058880, 27892177]', 3420691215, -0.462126)\n",
      "{'response_time': 0, 'tweet_sentiment': -0.462126, 'mentions': 0, 'tweet_length': 140}\n"
     ]
    },
    {
     "data": {
      "text/html": [
       "<div>\n",
       "<style scoped>\n",
       "    .dataframe tbody tr th:only-of-type {\n",
       "        vertical-align: middle;\n",
       "    }\n",
       "\n",
       "    .dataframe tbody tr th {\n",
       "        vertical-align: top;\n",
       "    }\n",
       "\n",
       "    .dataframe thead th {\n",
       "        text-align: right;\n",
       "    }\n",
       "</style>\n",
       "<table border=\"1\" class=\"dataframe\">\n",
       "  <thead>\n",
       "    <tr style=\"text-align: right;\">\n",
       "      <th></th>\n",
       "      <th>response_time</th>\n",
       "      <th>tweet_sentiment</th>\n",
       "      <th>mentions</th>\n",
       "      <th>tweet_length</th>\n",
       "    </tr>\n",
       "  </thead>\n",
       "  <tbody>\n",
       "    <tr>\n",
       "      <th>0</th>\n",
       "      <td>0</td>\n",
       "      <td>-0.462126</td>\n",
       "      <td>0</td>\n",
       "      <td>140</td>\n",
       "    </tr>\n",
       "  </tbody>\n",
       "</table>\n",
       "</div>"
      ],
      "text/plain": [
       "  response_time  tweet_sentiment mentions tweet_length\n",
       "0             0        -0.462126        0          140"
      ]
     },
     "execution_count": 4,
     "metadata": {},
     "output_type": "execute_result"
    }
   ],
   "source": [
    "# Creating the dataframe\n",
    "\n",
    "df_columns = ['response_time', 'tweet_sentiment', 'mentions', 'tweet_length']\n",
    "df_data = pd.DataFrame(columns=df_columns)\n",
    "\n",
    "for tuple in tweets:  \n",
    "    dict = {'response_time': 0, 'tweet_sentiment': 0, 'mentions': 0, 'tweet_length': 0}\n",
    "    \n",
    "    # Response time -> int, unit: ms\n",
    "    try:\n",
    "        dict['response_time'] = response_time_id(tuple[query_columns.index('id')], cursor) \n",
    "    except Exception:\n",
    "        pass   \n",
    "        \n",
    "    # Sentiment detection -> float, in range(-1, 1)\n",
    "    try:\n",
    "        dict['tweet_sentiment'] = float(tuple[query_columns.index('sentiment')])\n",
    "    except Exception:\n",
    "        pass\n",
    "    \n",
    "    # User mentions -> list(str, str, ...)\n",
    "    try:\n",
    "        pass\n",
    "        #print(tuple[query_columns.index('mentions')])\n",
    "        #print(type(tuple[query_columns.index('mentions')]))\n",
    "        #mentions(tuple[query_columns.index('mentions')])\n",
    "        #dict['mentions'] = mentions(tuple[query_columns.index('mentions')])\n",
    "            #break\n",
    "    except Exception:\n",
    "        pass\n",
    "    \n",
    "    #print(tuple[query_columns.index('mentions')])\n",
    "    #mentions(str(tuple[query_columns.index('mentions')]))\n",
    "\n",
    "\n",
    "    # Tweet length -> int\n",
    "    try:    \n",
    "        dict['tweet_length'] = length(tuple[query_columns.index('text')])\n",
    "    except Exception:\n",
    "        pass\n",
    "\n",
    "    # Add to dataframe\n",
    "    df_dict = pd.DataFrame([dict])\n",
    "    df_data = pd.concat([df_data, df_dict], ignore_index=True)\n",
    "df_data.head()"
   ]
  },
  {
   "cell_type": "code",
   "execution_count": 63,
   "metadata": {},
   "outputs": [],
   "source": [
    "cursor.close()\n",
    "connection.close()"
   ]
  },
  {
   "cell_type": "code",
   "execution_count": 48,
   "metadata": {},
   "outputs": [
    {
     "name": "stdout",
     "output_type": "stream",
     "text": [
      "<class 'list'>\n"
     ]
    }
   ],
   "source": [
    "mention_str = '[040404, 37474]'\n",
    "\n",
    "mention_list = re.findall(\"\\d+\", mention_str)\n",
    "print(type(mention_list))"
   ]
  },
  {
   "cell_type": "code",
   "execution_count": null,
   "metadata": {},
   "outputs": [],
   "source": []
  }
 ],
 "metadata": {
  "kernelspec": {
   "display_name": "ok",
   "language": "python",
   "name": "python3"
  },
  "language_info": {
   "codemirror_mode": {
    "name": "ipython",
    "version": 3
   },
   "file_extension": ".py",
   "mimetype": "text/x-python",
   "name": "python",
   "nbconvert_exporter": "python",
   "pygments_lexer": "ipython3",
   "version": "3.8.16"
  },
  "orig_nbformat": 4
 },
 "nbformat": 4,
 "nbformat_minor": 2
}
