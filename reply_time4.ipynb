{
 "cells": [
  {
   "attachments": {},
   "cell_type": "markdown",
   "metadata": {},
   "source": [
    "# Response time - Sentiment change\n",
    "This notebook explores how the sentiment change depends on the reply time of airlines\n",
    "### Imports"
   ]
  },
  {
   "cell_type": "code",
   "execution_count": null,
   "metadata": {},
   "outputs": [],
   "source": [
    "# IMPORTS\n",
    "import sys\n",
    "sys.path.append(\"../DBL-Data-Challenge\")\n",
    "\n",
    "# Own functions\n",
    "from processes.reply4 import reply_set_up\n",
    "from database.connect import getConnection\n",
    "\n",
    "# Packages\n",
    "import pandas as pd\n",
    "import matplotlib.pyplot as plt\n",
    "import seaborn as sns\n",
    "sns.set()"
   ]
  },
  {
   "cell_type": "code",
   "execution_count": null,
   "metadata": {},
   "outputs": [],
   "source": [
    "df_tweets = reply_set_up()\n",
    "df_tweets.head()"
   ]
  },
  {
   "cell_type": "code",
   "execution_count": 240,
   "metadata": {},
   "outputs": [],
   "source": [
    "# Creating a data frame per topic\n",
    "df_canceling = df_tweets[df_tweets['canceling'] != 0][['airline', 'reply_time', 'sentiment_change']]\n",
    "df_boarding = df_tweets[df_tweets['boarding'] != 0][['airline', 'reply_time', 'sentiment_change']]\n",
    "df_stuck = df_tweets[df_tweets['stuck'] != 0][['airline', 'reply_time', 'sentiment_change']]\n",
    "df_booking = df_tweets[df_tweets['booking'] != 0][['airline', 'reply_time', 'sentiment_change']]\n",
    "df_customers = df_tweets[df_tweets['customers'] != 0][['airline', 'reply_time', 'sentiment_change']]\n",
    "df_dm = df_tweets[df_tweets['dm'] != 0][['airline', 'reply_time', 'sentiment_change']]\n",
    "df_waiting = df_tweets[df_tweets['waiting'] != 0][['airline', 'reply_time', 'sentiment_change']]\n",
    "df_money = df_tweets[df_tweets['money'] != 0][['airline', 'reply_time', 'sentiment_change']]\n",
    "df_information = df_tweets[df_tweets['information'] != 0][['airline', 'reply_time', 'sentiment_change']]\n",
    "df_staff = df_tweets[df_tweets['staff'] != 0][['airline', 'reply_time', 'sentiment_change']]\n",
    "df_baggage = df_tweets[df_tweets['baggage'] != 0][['airline', 'reply_time', 'sentiment_change']]\n",
    "\n",
    "\n",
    "# Binned of 1 min\n",
    "df_canceling_gro = df_canceling[['reply_time', 'sentiment_change']].groupby('reply_time').agg('mean').rolling(window=20).mean()\n",
    "df_boarding_gro = df_boarding[['reply_time', 'sentiment_change']].groupby('reply_time').agg('mean').rolling(window=20).mean()\n",
    "df_stuck_gro = df_stuck[['reply_time', 'sentiment_change']].groupby('reply_time').agg('mean').rolling(window=20).mean()\n",
    "df_booking_gro = df_booking[['reply_time', 'sentiment_change']].groupby('reply_time').agg('mean').rolling(window=20).mean()\n",
    "df_customers_gro = df_customers[['reply_time', 'sentiment_change']].groupby('reply_time').agg('mean').rolling(window=20).mean()\n",
    "df_dm_gro = df_dm[['reply_time', 'sentiment_change']].groupby('reply_time').agg('mean').rolling(window=20).mean()\n",
    "df_waiting_gro = df_waiting[['reply_time', 'sentiment_change']].groupby('reply_time').agg('mean').rolling(window=20).mean()\n",
    "df_money_gro = df_money[['reply_time', 'sentiment_change']].groupby('reply_time').agg('mean').rolling(window=20).mean()\n",
    "df_information_gro = df_information[['reply_time', 'sentiment_change']].groupby('reply_time').agg('mean').rolling(window=20).mean()\n",
    "df_staff_gro = df_staff[['reply_time', 'sentiment_change']].groupby('reply_time').agg('mean').rolling(window=20).mean()\n",
    "df_baggage_gro = df_baggage[['reply_time', 'sentiment_change']].groupby('reply_time').agg('mean').rolling(window=20).mean()\n"
   ]
  },
  {
   "cell_type": "code",
   "execution_count": 241,
   "metadata": {},
   "outputs": [
    {
     "name": "stdout",
     "output_type": "stream",
     "text": [
      "\n",
      "      TOPIC COUNT\n",
      "      canceling: 3378\n",
      "      boarding: 5281\n",
      "      stuck: 3047\n",
      "      booking: 36945\n",
      "      customers: 35638\n",
      "      dm: 28230\n",
      "      waiting: 32336\n",
      "      money: 29837\n",
      "      information: 27568\n",
      "      staff: 17278\n",
      "      baggage: 19068\n",
      "      \n"
     ]
    }
   ],
   "source": [
    "# Checking the number ineach category\n",
    "\n",
    "canceling_len = len(df_canceling.index)\n",
    "boarding_len = len(df_boarding.index)\n",
    "stuck_len = len(df_stuck.index)\n",
    "booking_len = len(df_booking.index)\n",
    "customers_len = len(df_customers.index)\n",
    "dm_len = len(df_dm.index)\n",
    "waiting_len = len(df_waiting.index)\n",
    "money_len = len(df_money.index)\n",
    "information_len = len(df_information.index)\n",
    "staff_len = len(df_staff.index)\n",
    "baggage_len = len(df_baggage.index)\n",
    "\n",
    "print(f\"\"\"\n",
    "      TOPIC COUNT\n",
    "      canceling: {canceling_len}\n",
    "      boarding: {boarding_len}\n",
    "      stuck: {stuck_len}\n",
    "      booking: {booking_len}\n",
    "      customers: {customers_len}\n",
    "      dm: {dm_len}\n",
    "      waiting: {waiting_len}\n",
    "      money: {money_len}\n",
    "      information: {information_len}\n",
    "      staff: {staff_len}\n",
    "      baggage: {baggage_len}\n",
    "      \"\"\")"
   ]
  },
  {
   "cell_type": "code",
   "execution_count": 228,
   "metadata": {},
   "outputs": [
    {
     "data": {
      "text/plain": [
       "'fig, ax = plt.subplots(nrows=4, ncols=3, figsize=(15,15), sharey=True, layout=\"constrained\")\\n\\n# ROW 1\\n# Canceling\\nsns.scatterplot(data=df_canceling, x=\\'reply_time\\', y=\\'sentiment_change\\', ax=ax[0,0])\\nax[0,0].set_title(\\'Canceling\\', size=16)\\nax[0,0].set_xlabel(\\'Response Time [hours]\\')\\nax[0,0].set_ylabel(\\'Sentiment Change [XLM-RoBERTA]\\')\\n\\n\\n# Boarding\\nsns.scatterplot(data=df_boarding, x=\\'reply_time\\', y=\\'sentiment_change\\', ax=ax[0,1])\\nax[0,1].set_title(\\'Boarding\\', size=16)\\nax[0,1].set_xlabel(\\'Response Time [hours]\\')\\n\\n# Stuck\\nsns.scatterplot(data=df_stuck, x=\\'reply_time\\', y=\\'sentiment_change\\', ax=ax[0,2])\\nax[0,2].set_title(\\'Stuck\\', size=16)\\nax[0,2].set_xlabel(\\'Response Time [hours]\\')\\n\\n# ROW 2\\n# Booking\\nsns.scatterplot(data=df_booking, x=\\'reply_time\\', y=\\'sentiment_change\\', alpha=0.005, ax=ax[1,0])\\nax[1,0].set_title(\\'Booking\\', size=16)\\nax[1,0].set_xlabel(\\'Response Time [hours]\\')\\nax[1,0].set_ylabel(\\'Sentiment Change [XLM-RoBERTA]\\')\\n\\n\\n# Customers\\nsns.scatterplot(data=df_customers, x=\\'reply_time\\', y=\\'sentiment_change\\', ax=ax[1,1])\\nax[1,1].set_title(\\'Customers\\', size=16)\\nax[1,2].set_xlabel(\\'Response Time [hours]\\')\\n\\n# DM\\nsns.scatterplot(data=df_dm, x=\\'reply_time\\', y=\\'sentiment_change\\', ax=ax[1,2])\\nax[1,2].set_title(\\'DM\\', size=16)\\nax[1,2].set_xlabel(\\'Response Time [hours]\\')\\n\\n# ROW 3\\n# Waiting\\nsns.scatterplot(data=df_waiting, x=\\'reply_time\\', y=\\'sentiment_change\\', ax=ax[2,0])\\nax[2,0].set_title(\\'Waiting\\', size=16)\\nax[2,0].set_xlabel(\\'Response Time [hours]\\')\\nax[2,0].set_ylabel(\\'Sentiment Change [XLM-RoBERTA]\\')\\n\\n# Money\\nsns.scatterplot(data=df_money, x=\\'reply_time\\', y=\\'sentiment_change\\', ax=ax[2,1])\\nax[2,1].set_title(\\'Money\\', size=16)\\nax[2,1].set_xlabel(\\'Response Time [hours]\\')\\n\\n# Baggage\\nsns.scatterplot(data=df_baggage, x=\\'reply_time\\', y=\\'sentiment_change\\', ax=ax[2,2])\\nax[2,2].set_title(\\'Baggage\\', size=16)\\nax[2,2].set_xlabel(\\'Response Time [hours]\\')\\n\\n# ROW 4\\n# Information\\nsns.scatterplot(data=df_information, x=\\'reply_time\\', y=\\'sentiment_change\\', ax=ax[3,0])\\nax[3,0].set_title(\\'Information\\', size=16)\\nax[3,0].set_xlabel(\\'Response Time [hours]\\')\\nax[3,0].set_ylabel(\\'Sentiment Change [XLM-RoBERTA]\\')\\n\\n\\n# Staff\\nsns.scatterplot(data=df_staff, x=\\'reply_time\\', y=\\'sentiment_change\\', ax=ax[3,1])\\nax[3,1].set_title(\\'Staff\\', size=16)\\nax[3,1].set_xlabel(\\'Response Time [hours]\\')\\n\\n\\nfig.suptitle(\\'Sentiment Change Over Airline Reply Time Per Topic\\', weight=\\'bold\\', size=20)'"
      ]
     },
     "execution_count": 228,
     "metadata": {},
     "output_type": "execute_result"
    }
   ],
   "source": [
    "\"\"\"fig, ax = plt.subplots(nrows=4, ncols=3, figsize=(15,15), sharey=True, layout=\"constrained\")\n",
    "\n",
    "# ROW 1\n",
    "# Canceling\n",
    "sns.scatterplot(data=df_canceling, x='reply_time', y='sentiment_change', ax=ax[0,0])\n",
    "ax[0,0].set_title('Canceling', size=16)\n",
    "ax[0,0].set_xlabel('Response Time [hours]')\n",
    "ax[0,0].set_ylabel('Sentiment Change [XLM-RoBERTA]')\n",
    "\n",
    "\n",
    "# Boarding\n",
    "sns.scatterplot(data=df_boarding, x='reply_time', y='sentiment_change', ax=ax[0,1])\n",
    "ax[0,1].set_title('Boarding', size=16)\n",
    "ax[0,1].set_xlabel('Response Time [hours]')\n",
    "\n",
    "# Stuck\n",
    "sns.scatterplot(data=df_stuck, x='reply_time', y='sentiment_change', ax=ax[0,2])\n",
    "ax[0,2].set_title('Stuck', size=16)\n",
    "ax[0,2].set_xlabel('Response Time [hours]')\n",
    "\n",
    "# ROW 2\n",
    "# Booking\n",
    "sns.scatterplot(data=df_booking, x='reply_time', y='sentiment_change', alpha=0.005, ax=ax[1,0])\n",
    "ax[1,0].set_title('Booking', size=16)\n",
    "ax[1,0].set_xlabel('Response Time [hours]')\n",
    "ax[1,0].set_ylabel('Sentiment Change [XLM-RoBERTA]')\n",
    "\n",
    "\n",
    "# Customers\n",
    "sns.scatterplot(data=df_customers, x='reply_time', y='sentiment_change', ax=ax[1,1])\n",
    "ax[1,1].set_title('Customers', size=16)\n",
    "ax[1,2].set_xlabel('Response Time [hours]')\n",
    "\n",
    "# DM\n",
    "sns.scatterplot(data=df_dm, x='reply_time', y='sentiment_change', ax=ax[1,2])\n",
    "ax[1,2].set_title('DM', size=16)\n",
    "ax[1,2].set_xlabel('Response Time [hours]')\n",
    "\n",
    "# ROW 3\n",
    "# Waiting\n",
    "sns.scatterplot(data=df_waiting, x='reply_time', y='sentiment_change', ax=ax[2,0])\n",
    "ax[2,0].set_title('Waiting', size=16)\n",
    "ax[2,0].set_xlabel('Response Time [hours]')\n",
    "ax[2,0].set_ylabel('Sentiment Change [XLM-RoBERTA]')\n",
    "\n",
    "# Money\n",
    "sns.scatterplot(data=df_money, x='reply_time', y='sentiment_change', ax=ax[2,1])\n",
    "ax[2,1].set_title('Money', size=16)\n",
    "ax[2,1].set_xlabel('Response Time [hours]')\n",
    "\n",
    "# Baggage\n",
    "sns.scatterplot(data=df_baggage, x='reply_time', y='sentiment_change', ax=ax[2,2])\n",
    "ax[2,2].set_title('Baggage', size=16)\n",
    "ax[2,2].set_xlabel('Response Time [hours]')\n",
    "\n",
    "# ROW 4\n",
    "# Information\n",
    "sns.scatterplot(data=df_information, x='reply_time', y='sentiment_change', ax=ax[3,0])\n",
    "ax[3,0].set_title('Information', size=16)\n",
    "ax[3,0].set_xlabel('Response Time [hours]')\n",
    "ax[3,0].set_ylabel('Sentiment Change [XLM-RoBERTA]')\n",
    "\n",
    "\n",
    "# Staff\n",
    "sns.scatterplot(data=df_staff, x='reply_time', y='sentiment_change', ax=ax[3,1])\n",
    "ax[3,1].set_title('Staff', size=16)\n",
    "ax[3,1].set_xlabel('Response Time [hours]')\n",
    "\n",
    "\n",
    "fig.suptitle('Sentiment Change Over Airline Reply Time Per Topic', weight='bold', size=20)\"\"\""
   ]
  },
  {
   "cell_type": "code",
   "execution_count": 244,
   "metadata": {},
   "outputs": [
    {
     "data": {
      "text/html": [
       "<div>\n",
       "<style scoped>\n",
       "    .dataframe tbody tr th:only-of-type {\n",
       "        vertical-align: middle;\n",
       "    }\n",
       "\n",
       "    .dataframe tbody tr th {\n",
       "        vertical-align: top;\n",
       "    }\n",
       "\n",
       "    .dataframe thead th {\n",
       "        text-align: right;\n",
       "    }\n",
       "</style>\n",
       "<table border=\"1\" class=\"dataframe\">\n",
       "  <thead>\n",
       "    <tr style=\"text-align: right;\">\n",
       "      <th></th>\n",
       "      <th>reply_time</th>\n",
       "      <th>sentiment_change</th>\n",
       "    </tr>\n",
       "  </thead>\n",
       "  <tbody>\n",
       "    <tr>\n",
       "      <th>0</th>\n",
       "      <td>0</td>\n",
       "      <td>-0.20000</td>\n",
       "    </tr>\n",
       "    <tr>\n",
       "      <th>1</th>\n",
       "      <td>0</td>\n",
       "      <td>0.00000</td>\n",
       "    </tr>\n",
       "    <tr>\n",
       "      <th>2</th>\n",
       "      <td>0</td>\n",
       "      <td>1.10000</td>\n",
       "    </tr>\n",
       "    <tr>\n",
       "      <th>3</th>\n",
       "      <td>0</td>\n",
       "      <td>1.10000</td>\n",
       "    </tr>\n",
       "    <tr>\n",
       "      <th>4</th>\n",
       "      <td>1</td>\n",
       "      <td>-0.13333</td>\n",
       "    </tr>\n",
       "  </tbody>\n",
       "</table>\n",
       "</div>"
      ],
      "text/plain": [
       "  reply_time sentiment_change\n",
       "0          0         -0.20000\n",
       "1          0          0.00000\n",
       "2          0          1.10000\n",
       "3          0          1.10000\n",
       "4          1         -0.13333"
      ]
     },
     "execution_count": 244,
     "metadata": {},
     "output_type": "execute_result"
    }
   ],
   "source": [
    "# The data frames to make significance testing on\n",
    "df_baggage = df_baggage[['reply_time', 'sentiment_change']]\n",
    "df_boarding = df_boarding[['reply_time', 'sentiment_change']]\n",
    "df_booking = df_booking[['reply_time', 'sentiment_change']]\n",
    "df_information = df_information[['reply_time', 'sentiment_change']]\n",
    "df_money = df_money[['reply_time', 'sentiment_change']]\n",
    "df_waiting = df_waiting[['reply_time', 'sentiment_change']]\n",
    "\n",
    "df_baggage.head()"
   ]
  },
  {
   "cell_type": "code",
   "execution_count": 231,
   "metadata": {},
   "outputs": [
    {
     "name": "stdout",
     "output_type": "stream",
     "text": [
      "<class 'decimal.Decimal'>\n",
      "<class 'decimal.Decimal'>\n",
      "<class 'numpy.float64'>\n"
     ]
    }
   ],
   "source": [
    "from decimal import Decimal\n",
    "\n",
    "print(type(Decimal(0.25)))\n",
    "print(type(df_baggage['reply_time'][0]))\n",
    "\n",
    "print(type(df_baggage['reply_time'].astype(float)[0]))"
   ]
  },
  {
   "cell_type": "code",
   "execution_count": 232,
   "metadata": {},
   "outputs": [
    {
     "name": "stdout",
     "output_type": "stream",
     "text": [
      "0.00       0.0\n",
      "0.25       7.0\n",
      "0.50      21.0\n",
      "0.75      64.0\n",
      "1.00    7673.0\n",
      "Name: reply_time, dtype: float64\n",
      "7673.0\n"
     ]
    }
   ],
   "source": [
    "print(df_baggage['reply_time'].astype(float).quantile([0, 0.25, 0.5, 0.75, 1]))\n",
    "print(df_baggage['reply_time'].astype(float).quantile([0, 0.25, 0.5, 0.75, 1])[1])"
   ]
  },
  {
   "cell_type": "code",
   "execution_count": 233,
   "metadata": {},
   "outputs": [],
   "source": [
    "# Get median and quartiles\n",
    "from decimal import Decimal\n",
    "\n",
    "baggage_qua5 = df_baggage['reply_time'].astype(float).quantile([0, 0.25, 0.5, 0.75, 1])\n",
    "boarding_qua5 = df_boarding['reply_time'].astype(float).quantile([0, 0.25, 0.5, 0.75, 1])\n",
    "booking_qua5 = df_booking['reply_time'].astype(float).quantile([0, 0.25, 0.5, 0.75, 1])\n",
    "information_qua5 = df_information['reply_time'].astype(float).quantile([0, 0.25, 0.5, 0.75, 1])\n",
    "money_qua5 = df_money['reply_time'].astype(float).quantile([0, 0.25, 0.5, 0.75, 1])\n",
    "waiting_qua5 = df_waiting['reply_time'].astype(float).quantile([0, 0.25, 0.5, 0.75, 1])"
   ]
  },
  {
   "cell_type": "code",
   "execution_count": 234,
   "metadata": {},
   "outputs": [
    {
     "data": {
      "text/plain": [
       "64.0"
      ]
     },
     "execution_count": 234,
     "metadata": {},
     "output_type": "execute_result"
    }
   ],
   "source": [
    "baggage_qua5[0.75]"
   ]
  },
  {
   "cell_type": "code",
   "execution_count": 235,
   "metadata": {},
   "outputs": [],
   "source": [
    "# Function that splits the data\n",
    "def split_df(df, df_qua):\n",
    "    \"Takes a dataframe and splits it into 5 quantiles\"\n",
    "    df = df[['reply_time', 'sentiment_change']].astype(float)\n",
    "    df25 = df[(df['reply_time'] >= df_qua[0.0]) & (df['reply_time'] < df_qua[0.25])]\n",
    "    df50 = df[(df['reply_time'] >= df_qua[0.25]) & (df['reply_time'] < df_qua[0.5])]\n",
    "    df75 = df[(df['reply_time'] >= df_qua[0.5]) & (df['reply_time'] < df_qua[0.75])]\n",
    "    df100 = df[(df['reply_time'] >= df_qua[0.75])]\n",
    "\n",
    "    return df25, df50, df75, df100"
   ]
  },
  {
   "cell_type": "code",
   "execution_count": 236,
   "metadata": {},
   "outputs": [],
   "source": [
    "# Data frames\n",
    "df_baggage_4 = split_df(df_baggage, baggage_qua5)\n",
    "df_boarding_4 = split_df(df_boarding, boarding_qua5)\n",
    "df_booking_4 = split_df(df_booking, booking_qua5)\n",
    "df_information_4 = split_df(df_information, information_qua5)\n",
    "df_money_4 = split_df(df_money, money_qua5)\n",
    "df_waiting_4 = split_df(df_waiting, waiting_qua5)"
   ]
  },
  {
   "cell_type": "code",
   "execution_count": 237,
   "metadata": {},
   "outputs": [],
   "source": [
    "from scipy.stats import ttest_ind\n",
    "\n",
    "def welch_test(tuple_df, topic):\n",
    "    \"\"\"\"\n",
    "    Takes two lists and calculates their p-values\n",
    "    \"\"\"\n",
    "    qua = 25\n",
    "    p_values_dict = {}\n",
    "    p_values_dict['topic'] = topic\n",
    "    for i in range(0, len(tuple_df)-1):\n",
    "        t, p = ttest_ind(tuple_df[i]['sentiment_change'], tuple_df[i+1]['sentiment_change'], equal_var=False, alternative='less')\n",
    "        p_values_dict[f'{qua} vs. {qua + 25}'] = p\n",
    "        qua += 25\n",
    "\n",
    "    df_lo = pd.concat([tuple_df[0], tuple_df[1]], ignore_index=True, sort=False)\n",
    "    df_hi = pd.concat([tuple_df[2], tuple_df[3]], ignore_index=True, sort=False)\n",
    "\n",
    "    t, p = ttest_ind(df_lo['sentiment_change'], df_hi['sentiment_change'], equal_var=False, alternative='less')\n",
    "    p_values_dict[f'low vs. high (of med)'] = p\n",
    "    \n",
    "    return p_values_dict"
   ]
  },
  {
   "cell_type": "code",
   "execution_count": 238,
   "metadata": {},
   "outputs": [
    {
     "data": {
      "text/html": [
       "<div>\n",
       "<style scoped>\n",
       "    .dataframe tbody tr th:only-of-type {\n",
       "        vertical-align: middle;\n",
       "    }\n",
       "\n",
       "    .dataframe tbody tr th {\n",
       "        vertical-align: top;\n",
       "    }\n",
       "\n",
       "    .dataframe thead th {\n",
       "        text-align: right;\n",
       "    }\n",
       "</style>\n",
       "<table border=\"1\" class=\"dataframe\">\n",
       "  <thead>\n",
       "    <tr style=\"text-align: right;\">\n",
       "      <th></th>\n",
       "      <th>topic</th>\n",
       "      <th>25 vs. 50</th>\n",
       "      <th>50 vs. 75</th>\n",
       "      <th>75 vs. 100</th>\n",
       "      <th>low vs. high (of med)</th>\n",
       "    </tr>\n",
       "  </thead>\n",
       "  <tbody>\n",
       "    <tr>\n",
       "      <th>0</th>\n",
       "      <td>baggage</td>\n",
       "      <td>0.091522</td>\n",
       "      <td>0.376514</td>\n",
       "      <td>0.673527</td>\n",
       "      <td>0.161069</td>\n",
       "    </tr>\n",
       "    <tr>\n",
       "      <th>1</th>\n",
       "      <td>boarding</td>\n",
       "      <td>0.047679</td>\n",
       "      <td>0.043541</td>\n",
       "      <td>0.997819</td>\n",
       "      <td>0.070162</td>\n",
       "    </tr>\n",
       "    <tr>\n",
       "      <th>2</th>\n",
       "      <td>booking</td>\n",
       "      <td>0.222831</td>\n",
       "      <td>0.288138</td>\n",
       "      <td>0.013957</td>\n",
       "      <td>0.002293</td>\n",
       "    </tr>\n",
       "    <tr>\n",
       "      <th>3</th>\n",
       "      <td>information</td>\n",
       "      <td>0.098909</td>\n",
       "      <td>0.045299</td>\n",
       "      <td>0.680865</td>\n",
       "      <td>0.002203</td>\n",
       "    </tr>\n",
       "    <tr>\n",
       "      <th>4</th>\n",
       "      <td>money</td>\n",
       "      <td>0.069833</td>\n",
       "      <td>0.389664</td>\n",
       "      <td>0.017796</td>\n",
       "      <td>0.002288</td>\n",
       "    </tr>\n",
       "    <tr>\n",
       "      <th>5</th>\n",
       "      <td>waiting</td>\n",
       "      <td>0.021816</td>\n",
       "      <td>0.581555</td>\n",
       "      <td>0.337005</td>\n",
       "      <td>0.080976</td>\n",
       "    </tr>\n",
       "  </tbody>\n",
       "</table>\n",
       "</div>"
      ],
      "text/plain": [
       "         topic  25 vs. 50  50 vs. 75  75 vs. 100  low vs. high (of med)\n",
       "0      baggage   0.091522   0.376514    0.673527               0.161069\n",
       "1     boarding   0.047679   0.043541    0.997819               0.070162\n",
       "2      booking   0.222831   0.288138    0.013957               0.002293\n",
       "3  information   0.098909   0.045299    0.680865               0.002203\n",
       "4        money   0.069833   0.389664    0.017796               0.002288\n",
       "5      waiting   0.021816   0.581555    0.337005               0.080976"
      ]
     },
     "execution_count": 238,
     "metadata": {},
     "output_type": "execute_result"
    }
   ],
   "source": [
    "p_baggage = welch_test(df_baggage_4, 'baggage')\n",
    "p_boarding = welch_test(df_boarding_4, 'boarding')\n",
    "p_booking = welch_test(df_booking_4, 'booking')\n",
    "p_information = welch_test(df_information_4, 'information')\n",
    "p_money = welch_test(df_money_4, 'money')\n",
    "p_waiting = welch_test(df_waiting_4, 'waiting')\n",
    "\n",
    "ds = [p_baggage, p_boarding, p_booking, p_information, p_money, p_waiting]\n",
    "\n",
    "df_p = pd.DataFrame(ds)\n",
    "df_p\n"
   ]
  },
  {
   "cell_type": "code",
   "execution_count": 239,
   "metadata": {},
   "outputs": [
    {
     "ename": "KeyError",
     "evalue": "2",
     "output_type": "error",
     "traceback": [
      "\u001b[0;31m---------------------------------------------------------------------------\u001b[0m",
      "\u001b[0;31mKeyError\u001b[0m                                  Traceback (most recent call last)",
      "File \u001b[0;32m~/anaconda3/envs/ok/lib/python3.8/site-packages/pandas/core/indexes/base.py:3802\u001b[0m, in \u001b[0;36mIndex.get_loc\u001b[0;34m(self, key, method, tolerance)\u001b[0m\n\u001b[1;32m   3801\u001b[0m \u001b[39mtry\u001b[39;00m:\n\u001b[0;32m-> 3802\u001b[0m     \u001b[39mreturn\u001b[39;00m \u001b[39mself\u001b[39;49m\u001b[39m.\u001b[39;49m_engine\u001b[39m.\u001b[39;49mget_loc(casted_key)\n\u001b[1;32m   3803\u001b[0m \u001b[39mexcept\u001b[39;00m \u001b[39mKeyError\u001b[39;00m \u001b[39mas\u001b[39;00m err:\n",
      "File \u001b[0;32m~/anaconda3/envs/ok/lib/python3.8/site-packages/pandas/_libs/index.pyx:138\u001b[0m, in \u001b[0;36mpandas._libs.index.IndexEngine.get_loc\u001b[0;34m()\u001b[0m\n",
      "File \u001b[0;32m~/anaconda3/envs/ok/lib/python3.8/site-packages/pandas/_libs/index.pyx:165\u001b[0m, in \u001b[0;36mpandas._libs.index.IndexEngine.get_loc\u001b[0;34m()\u001b[0m\n",
      "File \u001b[0;32mpandas/_libs/hashtable_class_helper.pxi:1577\u001b[0m, in \u001b[0;36mpandas._libs.hashtable.Float64HashTable.get_item\u001b[0;34m()\u001b[0m\n",
      "File \u001b[0;32mpandas/_libs/hashtable_class_helper.pxi:1587\u001b[0m, in \u001b[0;36mpandas._libs.hashtable.Float64HashTable.get_item\u001b[0;34m()\u001b[0m\n",
      "\u001b[0;31mKeyError\u001b[0m: 2.0",
      "\nThe above exception was the direct cause of the following exception:\n",
      "\u001b[0;31mKeyError\u001b[0m                                  Traceback (most recent call last)",
      "Cell \u001b[0;32mIn[239], line 8\u001b[0m\n\u001b[1;32m      6\u001b[0m sns\u001b[39m.\u001b[39mlineplot(data\u001b[39m=\u001b[39mdf_baggage_gro, x\u001b[39m=\u001b[39m\u001b[39m'\u001b[39m\u001b[39mreply_time\u001b[39m\u001b[39m'\u001b[39m, y\u001b[39m=\u001b[39m\u001b[39m'\u001b[39m\u001b[39msentiment_change\u001b[39m\u001b[39m'\u001b[39m, ax\u001b[39m=\u001b[39max[\u001b[39m0\u001b[39m,\u001b[39m0\u001b[39m])\n\u001b[1;32m      7\u001b[0m ax[\u001b[39m0\u001b[39m,\u001b[39m0\u001b[39m]\u001b[39m.\u001b[39maxvline(x \u001b[39m=\u001b[39m baggage_qua5[\u001b[39m1\u001b[39m], c\u001b[39m=\u001b[39m\u001b[39m'\u001b[39m\u001b[39morange\u001b[39m\u001b[39m'\u001b[39m)\n\u001b[0;32m----> 8\u001b[0m ax[\u001b[39m0\u001b[39m,\u001b[39m0\u001b[39m]\u001b[39m.\u001b[39maxvline(x \u001b[39m=\u001b[39m baggage_qua5[\u001b[39m2\u001b[39;49m], c\u001b[39m=\u001b[39m\u001b[39m'\u001b[39m\u001b[39morange\u001b[39m\u001b[39m'\u001b[39m)\n\u001b[1;32m      9\u001b[0m ax[\u001b[39m0\u001b[39m,\u001b[39m0\u001b[39m]\u001b[39m.\u001b[39maxvline(x \u001b[39m=\u001b[39m baggage_qua5[\u001b[39m3\u001b[39m], c\u001b[39m=\u001b[39m\u001b[39m'\u001b[39m\u001b[39morange\u001b[39m\u001b[39m'\u001b[39m)\n\u001b[1;32m     10\u001b[0m \u001b[39m#ax[0,0].axvline(x = baggage_qua5[4], c='orange')\u001b[39;00m\n",
      "File \u001b[0;32m~/anaconda3/envs/ok/lib/python3.8/site-packages/pandas/core/series.py:981\u001b[0m, in \u001b[0;36mSeries.__getitem__\u001b[0;34m(self, key)\u001b[0m\n\u001b[1;32m    978\u001b[0m     \u001b[39mreturn\u001b[39;00m \u001b[39mself\u001b[39m\u001b[39m.\u001b[39m_values[key]\n\u001b[1;32m    980\u001b[0m \u001b[39melif\u001b[39;00m key_is_scalar:\n\u001b[0;32m--> 981\u001b[0m     \u001b[39mreturn\u001b[39;00m \u001b[39mself\u001b[39;49m\u001b[39m.\u001b[39;49m_get_value(key)\n\u001b[1;32m    983\u001b[0m \u001b[39mif\u001b[39;00m is_hashable(key):\n\u001b[1;32m    984\u001b[0m     \u001b[39m# Otherwise index.get_value will raise InvalidIndexError\u001b[39;00m\n\u001b[1;32m    985\u001b[0m     \u001b[39mtry\u001b[39;00m:\n\u001b[1;32m    986\u001b[0m         \u001b[39m# For labels that don't resolve as scalars like tuples and frozensets\u001b[39;00m\n",
      "File \u001b[0;32m~/anaconda3/envs/ok/lib/python3.8/site-packages/pandas/core/series.py:1089\u001b[0m, in \u001b[0;36mSeries._get_value\u001b[0;34m(self, label, takeable)\u001b[0m\n\u001b[1;32m   1086\u001b[0m     \u001b[39mreturn\u001b[39;00m \u001b[39mself\u001b[39m\u001b[39m.\u001b[39m_values[label]\n\u001b[1;32m   1088\u001b[0m \u001b[39m# Similar to Index.get_value, but we do not fall back to positional\u001b[39;00m\n\u001b[0;32m-> 1089\u001b[0m loc \u001b[39m=\u001b[39m \u001b[39mself\u001b[39;49m\u001b[39m.\u001b[39;49mindex\u001b[39m.\u001b[39;49mget_loc(label)\n\u001b[1;32m   1090\u001b[0m \u001b[39mreturn\u001b[39;00m \u001b[39mself\u001b[39m\u001b[39m.\u001b[39mindex\u001b[39m.\u001b[39m_get_values_for_loc(\u001b[39mself\u001b[39m, loc, label)\n",
      "File \u001b[0;32m~/anaconda3/envs/ok/lib/python3.8/site-packages/pandas/core/indexes/base.py:3804\u001b[0m, in \u001b[0;36mIndex.get_loc\u001b[0;34m(self, key, method, tolerance)\u001b[0m\n\u001b[1;32m   3802\u001b[0m     \u001b[39mreturn\u001b[39;00m \u001b[39mself\u001b[39m\u001b[39m.\u001b[39m_engine\u001b[39m.\u001b[39mget_loc(casted_key)\n\u001b[1;32m   3803\u001b[0m \u001b[39mexcept\u001b[39;00m \u001b[39mKeyError\u001b[39;00m \u001b[39mas\u001b[39;00m err:\n\u001b[0;32m-> 3804\u001b[0m     \u001b[39mraise\u001b[39;00m \u001b[39mKeyError\u001b[39;00m(key) \u001b[39mfrom\u001b[39;00m \u001b[39merr\u001b[39;00m\n\u001b[1;32m   3805\u001b[0m \u001b[39mexcept\u001b[39;00m \u001b[39mTypeError\u001b[39;00m:\n\u001b[1;32m   3806\u001b[0m     \u001b[39m# If we have a listlike key, _check_indexing_error will raise\u001b[39;00m\n\u001b[1;32m   3807\u001b[0m     \u001b[39m#  InvalidIndexError. Otherwise we fall through and re-raise\u001b[39;00m\n\u001b[1;32m   3808\u001b[0m     \u001b[39m#  the TypeError.\u001b[39;00m\n\u001b[1;32m   3809\u001b[0m     \u001b[39mself\u001b[39m\u001b[39m.\u001b[39m_check_indexing_error(key)\n",
      "\u001b[0;31mKeyError\u001b[0m: 2"
     ]
    },
    {
     "data": {
      "image/png": "[encoded data removed]",
      "text/plain": [
       "<Figure size 1500x700 with 6 Axes>"
      ]
     },
     "metadata": {},
     "output_type": "display_data"
    }
   ],
   "source": [
    "fig, ax = plt.subplots(nrows=2, ncols=3, figsize=(15,7), sharey=True, sharex=True, layout=\"constrained\")\n",
    "plt.setp(ax, ylim=(-2,2))\n",
    "\n",
    "# ROW 1\n",
    "# Baggage\n",
    "sns.lineplot(data=df_baggage_gro, x='reply_time', y='sentiment_change', ax=ax[0,0])\n",
    "ax[0,0].axvline(x = baggage_qua5[1], c='orange')\n",
    "ax[0,0].axvline(x = baggage_qua5[2], c='orange')\n",
    "ax[0,0].axvline(x = baggage_qua5[3], c='orange')\n",
    "#ax[0,0].axvline(x = baggage_qua5[4], c='orange')\n",
    "ax[0,0].set_title('Baggage', size=16)\n",
    "ax[0,0].set_ylabel('Sentiment Change [XLM-RoBERTA]')\n",
    "ax[0,0].set_xlim(-1, 200)\n",
    "\n",
    "# Boarding\n",
    "sns.lineplot(data=df_boarding_gro, x='reply_time', y='sentiment_change', ax=ax[0,1])\n",
    "ax[0,1].set_title('Boarding', size=16)\n",
    "ax[0,1].set_xlabel('Response Time [hours]')\n",
    "\n",
    "# Booking\n",
    "sns.lineplot(data=df_booking_gro, x='reply_time', y='sentiment_change', ax=ax[0,2])\n",
    "ax[0,2].set_title('Booking', size=16)\n",
    "\n",
    "\n",
    "# ROW 2\n",
    "# Information\n",
    "sns.lineplot(data=df_information_gro, x='reply_time', y='sentiment_change', ax=ax[1,0])\n",
    "ax[1,0].set_title('Information', size=16)\n",
    "ax[1,0].set_xlabel('Response Time [hours]')\n",
    "ax[1,0].set_ylabel('Sentiment Change [XLM-RoBERTA]')\n",
    "\n",
    "# Waiting\n",
    "sns.lineplot(data=df_waiting_gro, x='reply_time', y='sentiment_change', ax=ax[1,1])\n",
    "ax[1,1].set_title('Waiting', size=16)\n",
    "ax[1,1].set_xlabel('Response Time [hours]')\n",
    "ax[1,1].set_ylabel('Sentiment Change [XLM-RoBERTA]')\n",
    "\n",
    "# Money\n",
    "sns.lineplot(data=df_money_gro, x='reply_time', y='sentiment_change', ax=ax[1,2])\n",
    "ax[1,2].set_title('Money', size=16)\n",
    "ax[1,2].set_xlabel('Response Time [hours]')\n",
    "\n",
    "fig.suptitle('Sentiment Change Over Airline Reply Time Per Topic', weight='bold', size=20)"
   ]
  },
  {
   "attachments": {},
   "cell_type": "markdown",
   "metadata": {},
   "source": []
  },
  {
   "attachments": {},
   "cell_type": "markdown",
   "metadata": {},
   "source": []
  }
 ],
 "metadata": {
  "kernelspec": {
   "display_name": "ok",
   "language": "python",
   "name": "python3"
  },
  "language_info": {
   "codemirror_mode": {
    "name": "ipython",
    "version": 3
   },
   "file_extension": ".py",
   "mimetype": "text/x-python",
   "name": "python",
   "nbconvert_exporter": "python",
   "pygments_lexer": "ipython3",
   "version": "3.8.16"
  },
  "orig_nbformat": 4
 },
 "nbformat": 4,
 "nbformat_minor": 2
}
