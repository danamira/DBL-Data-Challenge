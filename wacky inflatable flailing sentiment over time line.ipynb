{
 "cells": [
  {
   "cell_type": "code",
   "execution_count": null,
   "metadata": {},
   "outputs": [],
   "source": [
    "from database.connect import getConnection\n",
    "import mysql\n",
    "import pandas as pd\n",
    "from pathlib import Path\n",
    "import csv"
   ]
  },
  {
   "cell_type": "code",
   "execution_count": null,
   "metadata": {},
   "outputs": [],
   "source": [
    "try:\n",
    "    connection = getConnection()\n",
    "except Exception:\n",
    "    print(\"✖️ Error while connecting to MySQL engine database.\")\n",
    "    print(\"ℹ️ Please make sure the environment file `.env` is located at\"+\n",
    "        \"the project root directory and contains proper configuration.\")\n",
    "    raise\n",
    "\n",
    "cursor = connection.cursor()"
   ]
  },
  {
   "cell_type": "code",
   "execution_count": null,
   "metadata": {},
   "outputs": [],
   "source": [
    "min_tweets = 10\n",
    "file_path = Path(\"./output/sentiment_per_pos.csv\")\n",
    "\n",
    "# check if the file exists\n",
    "my_file = file_path\n",
    "if not my_file.is_file():\n",
    "    # create the file if it doesn't exist\n",
    "    with open(file_path, \"w\", newline=\"\") as csvfile:\n",
    "        writer = csv.writer(csvfile)\n",
    "        writer.writerow([\"position\", \"sentiment\"])\n",
    "    # get all the tweet sentiment per position\n",
    "    i = 1\n",
    "    while True:\n",
    "        # get all the sentiment of tweets in position i\n",
    "        query = f\"\"\"\n",
    "        SELECT DISTINCT tweets.id, sentiment\n",
    "        FROM tweets, part_of\n",
    "        WHERE tweets.id = part_of.tid\n",
    "        AND part_of.position = {i};\n",
    "        \"\"\"\n",
    "        cursor.execute(query)\n",
    "        dirty_result = cursor.fetchall()\n",
    "        clean_result = [x[1] for x in dirty_result]\n",
    "        if len(clean_result) < min_tweets:\n",
    "            break\n",
    "        # write the sentiment to a csv file\n",
    "        with open(f\"./data/sentiment_per_pos.csv\", \"a\", newline=\"\") as csvfile:\n",
    "            writer = csv.writer(csvfile)\n",
    "            writer.writerow([i, clean_result])\n",
    "\n",
    "        i += 1"
   ]
  },
  {
   "cell_type": "code",
   "execution_count": null,
   "metadata": {},
   "outputs": [],
   "source": [
    "# for each position, get 75%, 50%, 25% percentile\n",
    "df = pd.read_csv(\"./output/sentiment_per_pos.csv\")\n",
    "df[\"sentiment\"] = df[\"sentiment\"].apply(lambda x: eval(x))\n",
    "df[\"75%\"] = df[\"sentiment\"].apply(lambda x: pd.Series(x).quantile(0.75))\n",
    "df[\"50%\"] = df[\"sentiment\"].apply(lambda x: pd.Series(x).quantile(0.50))\n",
    "df[\"25%\"] = df[\"sentiment\"].apply(lambda x: pd.Series(x).quantile(0.25))"
   ]
  },
  {
   "cell_type": "code",
   "execution_count": null,
   "metadata": {},
   "outputs": [],
   "source": [
    "# plot the linegraph, colouring the area between 75% and 25%\n",
    "ax = df.plot(x=\"position\", y=\"50%\", figsize=(15, 10), legend=False)\n",
    "ax.fill_between(df[\"position\"], df[\"75%\"], df[\"25%\"], alpha=0.2)\n",
    "ax.set_xlabel(\"Position\")\n",
    "ax.set_ylabel(\"Sentiment\")\n",
    "ax.set_title(\"Sentiment over time\")\n"
   ]
  },
  {
   "cell_type": "code",
   "execution_count": null,
   "metadata": {},
   "outputs": [],
   "source": [
    "# close the connection\n",
    "connection.close()"
   ]
  }
 ],
 "metadata": {
  "kernelspec": {
   "display_name": "dbl-1",
   "language": "python",
   "name": "python3"
  },
  "language_info": {
   "codemirror_mode": {
    "name": "ipython",
    "version": 3
   },
   "file_extension": ".py",
   "mimetype": "text/x-python",
   "name": "python",
   "nbconvert_exporter": "python",
   "pygments_lexer": "ipython3",
   "version": "3.11.3"
  },
  "orig_nbformat": 4
 },
 "nbformat": 4,
 "nbformat_minor": 2
}
