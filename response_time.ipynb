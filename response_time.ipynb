{
 "cells": [
  {
   "attachments": {},
   "cell_type": "markdown",
   "metadata": {},
   "source": [
    "Response time"
   ]
  },
  {
   "cell_type": "code",
   "execution_count": 498,
   "metadata": {},
   "outputs": [
    {
     "data": {
      "text/plain": [
       "'MODEL IMPORTS\\n\\nfrom transformers import AutoModelForSequenceClassification\\nfrom transformers import TFAutoModelForSequenceClassification\\nfrom transformers import AutoTokenizer, AutoConfig\\nimport numpy as np\\nfrom scipy.special import softmax\\n# Preprocess text (username and link placeholders)\\ndef preprocess(text):\\n    new_text = []\\n    for t in text.split(\" \"):\\n        t = \\'@user\\' if t.startswith(\\'@\\') and len(t) > 1 else t\\n        t = \\'http\\' if t.startswith(\\'http\\') else t\\n        new_text.append(t)\\n    return \" \".join(new_text)\\nMODEL = f\"cardiffnlp/twitter-roberta-base-sentiment-latest\"\\ntokenizer = AutoTokenizer.from_pretrained(MODEL)\\nconfig = AutoConfig.from_pretrained(MODEL)\\n# PT\\nmodel = AutoModelForSequenceClassification.from_pretrained(MODEL)\\n#model.save_pretrained(MODEL)'"
      ]
     },
     "execution_count": 498,
     "metadata": {},
     "output_type": "execute_result"
    }
   ],
   "source": [
    "\"\"\"IMPORTS\n",
    "\"\"\"\n",
    "\n",
    "import sys\n",
    "#sys.path.append(\"../DBL-Data-Challenge\")\n",
    "from database.connect import getConnection\n",
    "import pandas as pd\n",
    "import seaborn as sns\n",
    "sns.set()\n",
    "import random\n",
    "import matplotlib.pyplot as plt\n",
    "from globals import airlineIDs\n",
    "import re\n",
    "\n",
    "\"\"\"MODEL IMPORTS\n",
    "\"\"\"\"\"\"\n",
    "from transformers import AutoModelForSequenceClassification\n",
    "from transformers import TFAutoModelForSequenceClassification\n",
    "from transformers import AutoTokenizer, AutoConfig\n",
    "import numpy as np\n",
    "from scipy.special import softmax\n",
    "# Preprocess text (username and link placeholders)\n",
    "def preprocess(text):\n",
    "    new_text = []\n",
    "    for t in text.split(\" \"):\n",
    "        t = '@user' if t.startswith('@') and len(t) > 1 else t\n",
    "        t = 'http' if t.startswith('http') else t\n",
    "        new_text.append(t)\n",
    "    return \" \".join(new_text)\n",
    "MODEL = f\"cardiffnlp/twitter-roberta-base-sentiment-latest\"\n",
    "tokenizer = AutoTokenizer.from_pretrained(MODEL)\n",
    "config = AutoConfig.from_pretrained(MODEL)\n",
    "# PT\n",
    "model = AutoModelForSequenceClassification.from_pretrained(MODEL)\n",
    "#model.save_pretrained(MODEL)\"\"\""
   ]
  },
  {
   "cell_type": "code",
   "execution_count": 499,
   "metadata": {},
   "outputs": [],
   "source": [
    "import time\n",
    "def execution_time(start_time):\n",
    "    return (\"--- %s seconds ---\" % (time.time() - start_time))"
   ]
  },
  {
   "cell_type": "code",
   "execution_count": 500,
   "metadata": {},
   "outputs": [],
   "source": [
    "try:\n",
    "    connection1 = getConnection()\n",
    "except Exception:\n",
    "    print(\"✖️ Error while connecting to MySQL engine database.\")\n",
    "    print(\"ℹ️ Please make sure the environment file `.env` is located at\"+\n",
    "        \"the project root directory and contains proper configuration.\")\n",
    "    raise"
   ]
  },
  {
   "cell_type": "code",
   "execution_count": 501,
   "metadata": {},
   "outputs": [
    {
     "name": "stdout",
     "output_type": "stream",
     "text": [
      "Connection successful! --- 1.2636184692382812e-05 seconds ---\n",
      "The tweets are being fetched --- 0.0006918907165527344 seconds --- \n",
      "Total number of rows in table:  6094135 {'--- 9.898717880249023 seconds ---'}\n",
      "The dataframe is being created\n",
      "Connection closed!\n"
     ]
    }
   ],
   "source": [
    "\"\"\"Loads all the relevant data, this takes ~10 min.\n",
    "\"\"\"\n",
    "# Keeps track of execution time\n",
    "start_time = time.time()\n",
    "\n",
    "# Connects to database\n",
    "print(f'Connection successful! {execution_time(start_time)}')\n",
    "cursor = connection1.cursor()\n",
    "\n",
    "#print(\"The tweets are being queried\")\n",
    "#query=\"SELECT id, text, in_reply_to, timestamp, user_mentions, user_id FROM tweets\"\n",
    "#cursor.execute(query)\n",
    "\n",
    "#print('The tweets are being fetched')\n",
    "#texts = cursor.fetchall()\n",
    "#number_tweets = cursor.rowcount\n",
    "#print(\"Total number of rows in table: \", number_tweets)\n",
    "\n",
    "# Index column is being added\n",
    "#print(\"Index is being added\")\n",
    "#query= \"DROP TABLE tweets_with_index\"\n",
    "#cursor.execute(query)\n",
    "\n",
    "# Create new table will the relevant data\n",
    "#print(f'Table with index is being created {execution_time(start_time)} ')\n",
    "#query= \"CREATE TABLE tweets_with_index SELECT ROW_NUMBER() OVER() AS row_num, id, text, in_reply_to, timestamp, user_mentions, user_id FROM tweets\"\n",
    "#cursor.execute(query)\n",
    "#print(f'Index added {execution_time(start_time)} ')\n",
    "\n",
    "# Placement of column names\n",
    "id = 1\n",
    "tweet_text = 2\n",
    "in_reply_to = 3\n",
    "timestamp = 4\n",
    "user_mentions = 5\n",
    "user_id = 6\n",
    "\n",
    "print(f'The tweets are being fetched {execution_time(start_time)} ')\n",
    "query=\"SELECT row_num, id, text, in_reply_to, timestamp, user_mentions, user_id FROM tweets_with_index\"\n",
    "cursor.execute(query)\n",
    "texts = cursor.fetchall()\n",
    "number_tweets = cursor.rowcount\n",
    "print('Total number of rows in table: ', number_tweets, {execution_time(start_time)})\n",
    "\n",
    "# Generate random list\n",
    "randomlist = []\n",
    "for i in range(0, 6000):\n",
    "    n = random.randint(0, number_tweets-1)\n",
    "    randomlist.append(n)\n",
    "\n",
    "# Make list of languages\n",
    "print(\"The dataframe is being created\")\n",
    "df_data = pd.DataFrame(columns=['mentions', 'tweet_sentiment', 'response_time', 'tweet_length'])\n",
    "for i in randomlist:  \n",
    "    dict = {'mentions': ['Null'], 'tweet_sentiment': [(0,0,0)], 'response_time': [0], 'tweet_length': [0]}\n",
    "    try:\n",
    "        # Sentiment detection -> tweet_sentiment (tuple: pos, neg, neu)\n",
    "        \"\"\"text = preprocess(str(texts[i][tweet_text]))\n",
    "        encoded_input = tokenizer(text, return_tensors='pt')\n",
    "        output = model(**encoded_input)\n",
    "        scores = output[0][0].detach().numpy()\n",
    "        scores = softmax(scores)\n",
    "        ranking = np.argsort(scores)\n",
    "        ranking = ranking[::-1]\n",
    "        score_tuple = (scores[ranking[0]], scores[ranking[1]], scores[ranking[2]])\n",
    "        dict['tweet_sentiment'] = score_tuple\"\"\"\n",
    "        \n",
    "        # User mentions -> airline\n",
    "        dicts_str = (texts[i][user_mentions])\n",
    "        tweet_mentions_list = re.findall(\"'id':\\s*(\\d*)\", dicts_str)\n",
    "        dict['mentions'] = tweet_mentions_list\n",
    "    except Exception:\n",
    "        pass\n",
    "    \n",
    "    try:\n",
    "        # Response time -> response_time\n",
    "        self_time = texts[i][timestamp]\n",
    "        replied_id = texts[i][in_reply_to]\n",
    "        if replied_id == 0:\n",
    "            dict['response_time'] = 0\n",
    "        else:\n",
    "            for tuple in texts:\n",
    "                if tuple[id] == replied_id:\n",
    "                    replied_time = tuple[timestamp]\n",
    "                    time = self_time - replied_time\n",
    "                    dict['response_time'] = time      \n",
    "    except Exception:\n",
    "        pass\n",
    "\n",
    "    try:\n",
    "        tweet_length = len(texts[i][tweet_text])\n",
    "        dict['tweet_length'] = tweet_length   \n",
    "    except:\n",
    "        pass    \n",
    "    # Add to dataframe\n",
    "    df_dict = pd.DataFrame([dict])\n",
    "    df_data = pd.concat([df_data, df_dict], ignore_index=True)\n",
    "df_data.head()\n",
    "\n",
    "#print(sentiment_list)\n",
    "#print(user_mention_list)\n",
    "\n",
    "# Add the result to the table (Probably needs some modifications)\n",
    "\"\"\"\n",
    "print(\"The tweets are being added to the table\")\n",
    "for i, j in enumerate(lang_list): # i = index, j = language\n",
    "    query = f\"UPDATE tweets_with_index SET lang = '{str(j)}' WHERE row_num = {int(i+1)}\"\n",
    "    cursor.execute(query)\n",
    "\"\"\"\n",
    "\n",
    "\"\"\"\n",
    "print(\"A selection is being fetched to show that everything when correctly\")\n",
    "query = \"SELECT * FROM tweets_with_index LIMIT 5\"\n",
    "cursor.execute(query)\n",
    "head = cursor.fetchall()\n",
    "\n",
    "print(\"The first 5 rows are being printed:\")\n",
    "for row in head:\n",
    "    print(row)\n",
    "\n",
    "\"\"\"\n",
    "cursor.close()\n",
    "connection1.close()\n",
    "print('Connection closed!')"
   ]
  },
  {
   "cell_type": "code",
   "execution_count": 502,
   "metadata": {},
   "outputs": [
    {
     "data": {
      "text/html": [
       "<div>\n",
       "<style scoped>\n",
       "    .dataframe tbody tr th:only-of-type {\n",
       "        vertical-align: middle;\n",
       "    }\n",
       "\n",
       "    .dataframe tbody tr th {\n",
       "        vertical-align: top;\n",
       "    }\n",
       "\n",
       "    .dataframe thead th {\n",
       "        text-align: right;\n",
       "    }\n",
       "</style>\n",
       "<table border=\"1\" class=\"dataframe\">\n",
       "  <thead>\n",
       "    <tr style=\"text-align: right;\">\n",
       "      <th></th>\n",
       "      <th>mentions</th>\n",
       "      <th>tweet_sentiment</th>\n",
       "      <th>response_time</th>\n",
       "      <th>tweet_length</th>\n",
       "    </tr>\n",
       "  </thead>\n",
       "  <tbody>\n",
       "    <tr>\n",
       "      <th>0</th>\n",
       "      <td>[1134331688996167680]</td>\n",
       "      <td>[(0, 0, 0)]</td>\n",
       "      <td>0</td>\n",
       "      <td>140</td>\n",
       "    </tr>\n",
       "    <tr>\n",
       "      <th>1</th>\n",
       "      <td>[999411043356069888]</td>\n",
       "      <td>[(0, 0, 0)]</td>\n",
       "      <td>0</td>\n",
       "      <td>133</td>\n",
       "    </tr>\n",
       "    <tr>\n",
       "      <th>2</th>\n",
       "      <td>[57248499, 218730857]</td>\n",
       "      <td>[(0, 0, 0)]</td>\n",
       "      <td>0</td>\n",
       "      <td>140</td>\n",
       "    </tr>\n",
       "    <tr>\n",
       "      <th>3</th>\n",
       "      <td>[18332190, 20604674, 57451912, 18332190, 18658...</td>\n",
       "      <td>[(0, 0, 0)]</td>\n",
       "      <td>[0]</td>\n",
       "      <td>140</td>\n",
       "    </tr>\n",
       "    <tr>\n",
       "      <th>4</th>\n",
       "      <td>[211300043, 42479903]</td>\n",
       "      <td>[(0, 0, 0)]</td>\n",
       "      <td>0</td>\n",
       "      <td>140</td>\n",
       "    </tr>\n",
       "  </tbody>\n",
       "</table>\n",
       "</div>"
      ],
      "text/plain": [
       "                                            mentions tweet_sentiment  \\\n",
       "0                              [1134331688996167680]     [(0, 0, 0)]   \n",
       "1                               [999411043356069888]     [(0, 0, 0)]   \n",
       "2                              [57248499, 218730857]     [(0, 0, 0)]   \n",
       "3  [18332190, 20604674, 57451912, 18332190, 18658...     [(0, 0, 0)]   \n",
       "4                              [211300043, 42479903]     [(0, 0, 0)]   \n",
       "\n",
       "  response_time tweet_length  \n",
       "0             0          140  \n",
       "1             0          133  \n",
       "2             0          140  \n",
       "3           [0]          140  \n",
       "4             0          140  "
      ]
     },
     "execution_count": 502,
     "metadata": {},
     "output_type": "execute_result"
    }
   ],
   "source": [
    "df_data.head()"
   ]
  },
  {
   "cell_type": "code",
   "execution_count": 503,
   "metadata": {},
   "outputs": [],
   "source": [
    "for i in range(0, len(df_data.index)):\n",
    "    if df_data.loc[i, 'response_time'] == [0]:\n",
    "        df_data.loc[i, 'response_time'] = 0"
   ]
  },
  {
   "cell_type": "code",
   "execution_count": 504,
   "metadata": {},
   "outputs": [
    {
     "data": {
      "text/plain": [
       "count     6000\n",
       "unique    1471\n",
       "top          0\n",
       "freq      4530\n",
       "Name: response_time, dtype: int64"
      ]
     },
     "execution_count": 504,
     "metadata": {},
     "output_type": "execute_result"
    }
   ],
   "source": [
    "df_data['response_time'].describe(include='all')"
   ]
  },
  {
   "cell_type": "code",
   "execution_count": 505,
   "metadata": {},
   "outputs": [
    {
     "data": {
      "text/html": [
       "<div>\n",
       "<style scoped>\n",
       "    .dataframe tbody tr th:only-of-type {\n",
       "        vertical-align: middle;\n",
       "    }\n",
       "\n",
       "    .dataframe tbody tr th {\n",
       "        vertical-align: top;\n",
       "    }\n",
       "\n",
       "    .dataframe thead th {\n",
       "        text-align: right;\n",
       "    }\n",
       "</style>\n",
       "<table border=\"1\" class=\"dataframe\">\n",
       "  <thead>\n",
       "    <tr style=\"text-align: right;\">\n",
       "      <th></th>\n",
       "      <th>response_time</th>\n",
       "    </tr>\n",
       "  </thead>\n",
       "  <tbody>\n",
       "    <tr>\n",
       "      <th>0</th>\n",
       "      <td>0</td>\n",
       "    </tr>\n",
       "    <tr>\n",
       "      <th>1</th>\n",
       "      <td>0</td>\n",
       "    </tr>\n",
       "    <tr>\n",
       "      <th>2</th>\n",
       "      <td>0</td>\n",
       "    </tr>\n",
       "    <tr>\n",
       "      <th>3</th>\n",
       "      <td>0</td>\n",
       "    </tr>\n",
       "    <tr>\n",
       "      <th>4</th>\n",
       "      <td>0</td>\n",
       "    </tr>\n",
       "  </tbody>\n",
       "</table>\n",
       "</div>"
      ],
      "text/plain": [
       "  response_time\n",
       "0             0\n",
       "1             0\n",
       "2             0\n",
       "3             0\n",
       "4             0"
      ]
     },
     "execution_count": 505,
     "metadata": {},
     "output_type": "execute_result"
    }
   ],
   "source": [
    "df_response = df_data[['response_time']]\n",
    "df_response.head()\n"
   ]
  },
  {
   "cell_type": "code",
   "execution_count": 506,
   "metadata": {},
   "outputs": [
    {
     "name": "stdout",
     "output_type": "stream",
     "text": [
      "16.348355769463343\n"
     ]
    }
   ],
   "source": [
    "from statistics import mean\n",
    "\n",
    "respone_list = []\n",
    "for i in range(0, len(df_response.index)):\n",
    "    if df_response.loc[i, 'response_time'] != 0:\n",
    "        respone_list.append(df_response.loc[i, 'response_time'])\n",
    "\n",
    "average = mean(respone_list)/(1000*60*60) # average in hours\n",
    "print(average)"
   ]
  },
  {
   "cell_type": "code",
   "execution_count": 507,
   "metadata": {},
   "outputs": [
    {
     "data": {
      "text/html": [
       "<div>\n",
       "<style scoped>\n",
       "    .dataframe tbody tr th:only-of-type {\n",
       "        vertical-align: middle;\n",
       "    }\n",
       "\n",
       "    .dataframe tbody tr th {\n",
       "        vertical-align: top;\n",
       "    }\n",
       "\n",
       "    .dataframe thead th {\n",
       "        text-align: right;\n",
       "    }\n",
       "</style>\n",
       "<table border=\"1\" class=\"dataframe\">\n",
       "  <thead>\n",
       "    <tr style=\"text-align: right;\">\n",
       "      <th></th>\n",
       "      <th>response_time</th>\n",
       "    </tr>\n",
       "  </thead>\n",
       "  <tbody>\n",
       "    <tr>\n",
       "      <th>0</th>\n",
       "      <td>0</td>\n",
       "    </tr>\n",
       "    <tr>\n",
       "      <th>1</th>\n",
       "      <td>0</td>\n",
       "    </tr>\n",
       "    <tr>\n",
       "      <th>2</th>\n",
       "      <td>0</td>\n",
       "    </tr>\n",
       "    <tr>\n",
       "      <th>3</th>\n",
       "      <td>0</td>\n",
       "    </tr>\n",
       "    <tr>\n",
       "      <th>4</th>\n",
       "      <td>0</td>\n",
       "    </tr>\n",
       "  </tbody>\n",
       "</table>\n",
       "</div>"
      ],
      "text/plain": [
       "  response_time\n",
       "0             0\n",
       "1             0\n",
       "2             0\n",
       "3             0\n",
       "4             0"
      ]
     },
     "execution_count": 507,
     "metadata": {},
     "output_type": "execute_result"
    }
   ],
   "source": [
    "df_response.head()"
   ]
  },
  {
   "cell_type": "code",
   "execution_count": 508,
   "metadata": {},
   "outputs": [
    {
     "data": {
      "text/html": [
       "<div>\n",
       "<style scoped>\n",
       "    .dataframe tbody tr th:only-of-type {\n",
       "        vertical-align: middle;\n",
       "    }\n",
       "\n",
       "    .dataframe tbody tr th {\n",
       "        vertical-align: top;\n",
       "    }\n",
       "\n",
       "    .dataframe thead th {\n",
       "        text-align: right;\n",
       "    }\n",
       "</style>\n",
       "<table border=\"1\" class=\"dataframe\">\n",
       "  <thead>\n",
       "    <tr style=\"text-align: right;\">\n",
       "      <th></th>\n",
       "      <th>reply</th>\n",
       "      <th>no_reply</th>\n",
       "    </tr>\n",
       "  </thead>\n",
       "  <tbody>\n",
       "    <tr>\n",
       "      <th>0</th>\n",
       "      <td>0.245</td>\n",
       "      <td>0.755</td>\n",
       "    </tr>\n",
       "  </tbody>\n",
       "</table>\n",
       "</div>"
      ],
      "text/plain": [
       "   reply  no_reply\n",
       "0  0.245     0.755"
      ]
     },
     "execution_count": 508,
     "metadata": {},
     "output_type": "execute_result"
    }
   ],
   "source": [
    "df_response_count = pd.DataFrame(columns=['reply', 'no_reply'])\n",
    "df_response_count['reply'] = [0]\n",
    "df_response_count['no_reply'] = [0]\n",
    "\n",
    "for i in range(0, len(df_response.index)):\n",
    "    if df_response.loc[i, 'response_time'] == 0:\n",
    "        df_response_count.loc[0, 'no_reply'] = df_response_count.loc[0, 'no_reply'] + 1\n",
    "    else:\n",
    "        df_response_count.loc[0, 'reply'] = df_response_count.loc[0, 'reply'] + 1\n",
    "\n",
    "\n",
    "nr_reply = df_response_count.loc[0, 'reply']\n",
    "nr_no_reply = df_response_count.loc[0, 'no_reply']\n",
    "\n",
    "df_response_count.loc[0, 'reply'] = nr_reply / (nr_reply + nr_no_reply)\n",
    "df_response_count.loc[0, 'no_reply'] = nr_no_reply / (nr_reply + nr_no_reply)\n",
    "\n",
    "df_response_count.head()"
   ]
  },
  {
   "cell_type": "code",
   "execution_count": 509,
   "metadata": {},
   "outputs": [
    {
     "data": {
      "text/plain": [
       "Text(0, 0.5, 'Percentage [%]')"
      ]
     },
     "execution_count": 509,
     "metadata": {},
     "output_type": "execute_result"
    },
    {
     "data": {
      "image/png": "[encoded data removed]",
      "text/plain": [
       "<Figure size 640x480 with 1 Axes>"
      ]
     },
     "metadata": {},
     "output_type": "display_data"
    }
   ],
   "source": [
    "ax = sns.barplot(df_response_count)\n",
    "ax.set_title(\"Reply-rate\")\n",
    "ax.set_xlabel('Response to other tweet or not')\n",
    "ax.set_ylabel('Percentage [%]')"
   ]
  },
  {
   "cell_type": "code",
   "execution_count": 510,
   "metadata": {},
   "outputs": [
    {
     "data": {
      "image/png": "[encoded data removed]",
      "text/plain": [
       "<Figure size 640x480 with 1 Axes>"
      ]
     },
     "metadata": {},
     "output_type": "display_data"
    }
   ],
   "source": [
    "plt.hist(respone_list)\n",
    "plt.xlim((0, 6e8))\n",
    "plt.show() "
   ]
  },
  {
   "cell_type": "code",
   "execution_count": 511,
   "metadata": {},
   "outputs": [
    {
     "data": {
      "image/png": "[encoded data removed]",
      "text/plain": [
       "<Figure size 640x480 with 1 Axes>"
      ]
     },
     "metadata": {},
     "output_type": "display_data"
    }
   ],
   "source": [
    "plt.hist(respone_list, bins=5000)\n",
    "plt.xlim((0, 10e6))\n",
    "plt.title('Number of tweets over response time')\n",
    "plt.xlabel('Response time (ms)')\n",
    "plt.ylabel('numbe rof tweets (count)')\n",
    "plt.show() "
   ]
  },
  {
   "cell_type": "code",
   "execution_count": 512,
   "metadata": {},
   "outputs": [
    {
     "data": {
      "text/html": [
       "<div>\n",
       "<style scoped>\n",
       "    .dataframe tbody tr th:only-of-type {\n",
       "        vertical-align: middle;\n",
       "    }\n",
       "\n",
       "    .dataframe tbody tr th {\n",
       "        vertical-align: top;\n",
       "    }\n",
       "\n",
       "    .dataframe thead th {\n",
       "        text-align: right;\n",
       "    }\n",
       "</style>\n",
       "<table border=\"1\" class=\"dataframe\">\n",
       "  <thead>\n",
       "    <tr style=\"text-align: right;\">\n",
       "      <th></th>\n",
       "      <th>mentions</th>\n",
       "      <th>response_time</th>\n",
       "      <th>tweet_length</th>\n",
       "    </tr>\n",
       "  </thead>\n",
       "  <tbody>\n",
       "    <tr>\n",
       "      <th>0</th>\n",
       "      <td>[1134331688996167680]</td>\n",
       "      <td>0</td>\n",
       "      <td>140</td>\n",
       "    </tr>\n",
       "    <tr>\n",
       "      <th>1</th>\n",
       "      <td>[999411043356069888]</td>\n",
       "      <td>0</td>\n",
       "      <td>133</td>\n",
       "    </tr>\n",
       "    <tr>\n",
       "      <th>2</th>\n",
       "      <td>[57248499, 218730857]</td>\n",
       "      <td>0</td>\n",
       "      <td>140</td>\n",
       "    </tr>\n",
       "    <tr>\n",
       "      <th>3</th>\n",
       "      <td>[18332190, 20604674, 57451912, 18332190, 18658...</td>\n",
       "      <td>0</td>\n",
       "      <td>140</td>\n",
       "    </tr>\n",
       "    <tr>\n",
       "      <th>4</th>\n",
       "      <td>[211300043, 42479903]</td>\n",
       "      <td>0</td>\n",
       "      <td>140</td>\n",
       "    </tr>\n",
       "  </tbody>\n",
       "</table>\n",
       "</div>"
      ],
      "text/plain": [
       "                                            mentions response_time  \\\n",
       "0                              [1134331688996167680]             0   \n",
       "1                               [999411043356069888]             0   \n",
       "2                              [57248499, 218730857]             0   \n",
       "3  [18332190, 20604674, 57451912, 18332190, 18658...             0   \n",
       "4                              [211300043, 42479903]             0   \n",
       "\n",
       "  tweet_length  \n",
       "0          140  \n",
       "1          133  \n",
       "2          140  \n",
       "3          140  \n",
       "4          140  "
      ]
     },
     "execution_count": 512,
     "metadata": {},
     "output_type": "execute_result"
    }
   ],
   "source": [
    "df_clean = df_data.drop('tweet_sentiment', axis=1)\n",
    "df_clean.head()"
   ]
  },
  {
   "cell_type": "code",
   "execution_count": 513,
   "metadata": {},
   "outputs": [],
   "source": [
    "# Detect the users \n",
    "# (what airline is it? Or is it not an airline?)\n",
    "df_clean['user_mentions'] = 'Null'\n",
    "df_clean['airline'] = 'Null'\n",
    "df_clean['mention_count'] = 'Null'\n",
    "\n",
    "# For every list of mentions per tweet\n",
    "for i, mentions in enumerate(df_clean['mentions']):\n",
    "    # Count the number of user_mentions\n",
    "    df_clean['mention_count'][i] = len(mentions)\n",
    "\n",
    "    # Detect the airline\n",
    "    mentions_list = []\n",
    "    airline = 'no_airline'\n",
    "    # check for every mention\n",
    "    added = False\n",
    "    for mention in mentions:\n",
    "        # if the mention is an airline\n",
    "        added = False\n",
    "        for key in airlineIDs:\n",
    "            if int(mention) == int(airlineIDs[key]):\n",
    "                mentions_list.append(key)\n",
    "                airline = key\n",
    "                added = True\n",
    "                continue\n",
    "        if added == False:\n",
    "            mentions_list.append('no_airline')\n",
    "    df_clean['user_mentions'][i] = mentions_list\n",
    "    df_clean['airline'][i] = airline\n",
    "\n",
    "df_user = df_clean.drop(['mentions', 'user_mentions'], axis=1)"
   ]
  },
  {
   "cell_type": "code",
   "execution_count": 514,
   "metadata": {},
   "outputs": [
    {
     "data": {
      "text/html": [
       "<div>\n",
       "<style scoped>\n",
       "    .dataframe tbody tr th:only-of-type {\n",
       "        vertical-align: middle;\n",
       "    }\n",
       "\n",
       "    .dataframe tbody tr th {\n",
       "        vertical-align: top;\n",
       "    }\n",
       "\n",
       "    .dataframe thead th {\n",
       "        text-align: right;\n",
       "    }\n",
       "</style>\n",
       "<table border=\"1\" class=\"dataframe\">\n",
       "  <thead>\n",
       "    <tr style=\"text-align: right;\">\n",
       "      <th></th>\n",
       "      <th>response_time</th>\n",
       "      <th>tweet_length</th>\n",
       "      <th>airline</th>\n",
       "      <th>mention_count</th>\n",
       "    </tr>\n",
       "  </thead>\n",
       "  <tbody>\n",
       "    <tr>\n",
       "      <th>0</th>\n",
       "      <td>0</td>\n",
       "      <td>140</td>\n",
       "      <td>no_airline</td>\n",
       "      <td>1</td>\n",
       "    </tr>\n",
       "    <tr>\n",
       "      <th>1</th>\n",
       "      <td>0</td>\n",
       "      <td>133</td>\n",
       "      <td>no_airline</td>\n",
       "      <td>1</td>\n",
       "    </tr>\n",
       "    <tr>\n",
       "      <th>2</th>\n",
       "      <td>0</td>\n",
       "      <td>140</td>\n",
       "      <td>Qantas</td>\n",
       "      <td>2</td>\n",
       "    </tr>\n",
       "    <tr>\n",
       "      <th>3</th>\n",
       "      <td>0</td>\n",
       "      <td>140</td>\n",
       "      <td>BritishAirways</td>\n",
       "      <td>5</td>\n",
       "    </tr>\n",
       "    <tr>\n",
       "      <th>4</th>\n",
       "      <td>0</td>\n",
       "      <td>140</td>\n",
       "      <td>no_airline</td>\n",
       "      <td>2</td>\n",
       "    </tr>\n",
       "  </tbody>\n",
       "</table>\n",
       "</div>"
      ],
      "text/plain": [
       "  response_time tweet_length         airline mention_count\n",
       "0             0          140      no_airline             1\n",
       "1             0          133      no_airline             1\n",
       "2             0          140          Qantas             2\n",
       "3             0          140  BritishAirways             5\n",
       "4             0          140      no_airline             2"
      ]
     },
     "execution_count": 514,
     "metadata": {},
     "output_type": "execute_result"
    }
   ],
   "source": [
    "df_user.head()"
   ]
  },
  {
   "cell_type": "code",
   "execution_count": 515,
   "metadata": {},
   "outputs": [
    {
     "data": {
      "text/html": [
       "<div>\n",
       "<style scoped>\n",
       "    .dataframe tbody tr th:only-of-type {\n",
       "        vertical-align: middle;\n",
       "    }\n",
       "\n",
       "    .dataframe tbody tr th {\n",
       "        vertical-align: top;\n",
       "    }\n",
       "\n",
       "    .dataframe thead th {\n",
       "        text-align: right;\n",
       "    }\n",
       "</style>\n",
       "<table border=\"1\" class=\"dataframe\">\n",
       "  <thead>\n",
       "    <tr style=\"text-align: right;\">\n",
       "      <th></th>\n",
       "      <th>response_time</th>\n",
       "      <th>tweet_length</th>\n",
       "      <th>mention_count</th>\n",
       "    </tr>\n",
       "  </thead>\n",
       "  <tbody>\n",
       "    <tr>\n",
       "      <th>0</th>\n",
       "      <td>0</td>\n",
       "      <td>140</td>\n",
       "      <td>1</td>\n",
       "    </tr>\n",
       "    <tr>\n",
       "      <th>1</th>\n",
       "      <td>0</td>\n",
       "      <td>133</td>\n",
       "      <td>1</td>\n",
       "    </tr>\n",
       "    <tr>\n",
       "      <th>2</th>\n",
       "      <td>0</td>\n",
       "      <td>140</td>\n",
       "      <td>2</td>\n",
       "    </tr>\n",
       "    <tr>\n",
       "      <th>3</th>\n",
       "      <td>0</td>\n",
       "      <td>140</td>\n",
       "      <td>5</td>\n",
       "    </tr>\n",
       "    <tr>\n",
       "      <th>4</th>\n",
       "      <td>0</td>\n",
       "      <td>140</td>\n",
       "      <td>2</td>\n",
       "    </tr>\n",
       "  </tbody>\n",
       "</table>\n",
       "</div>"
      ],
      "text/plain": [
       "  response_time tweet_length mention_count\n",
       "0             0          140             1\n",
       "1             0          133             1\n",
       "2             0          140             2\n",
       "3             0          140             5\n",
       "4             0          140             2"
      ]
     },
     "execution_count": 515,
     "metadata": {},
     "output_type": "execute_result"
    }
   ],
   "source": [
    "df_time_mention = df_user.drop('airline', axis=1)\n",
    "df_time_mention.head()"
   ]
  },
  {
   "cell_type": "code",
   "execution_count": 516,
   "metadata": {},
   "outputs": [
    {
     "data": {
      "text/plain": [
       "count     6000\n",
       "unique      13\n",
       "top          1\n",
       "freq      3048\n",
       "Name: mention_count, dtype: int64"
      ]
     },
     "execution_count": 516,
     "metadata": {},
     "output_type": "execute_result"
    }
   ],
   "source": [
    "df_time_mention['mention_count'].describe()"
   ]
  },
  {
   "cell_type": "code",
   "execution_count": 517,
   "metadata": {},
   "outputs": [
    {
     "data": {
      "text/html": [
       "<div>\n",
       "<style scoped>\n",
       "    .dataframe tbody tr th:only-of-type {\n",
       "        vertical-align: middle;\n",
       "    }\n",
       "\n",
       "    .dataframe tbody tr th {\n",
       "        vertical-align: top;\n",
       "    }\n",
       "\n",
       "    .dataframe thead th {\n",
       "        text-align: right;\n",
       "    }\n",
       "</style>\n",
       "<table border=\"1\" class=\"dataframe\">\n",
       "  <thead>\n",
       "    <tr style=\"text-align: right;\">\n",
       "      <th></th>\n",
       "      <th>count</th>\n",
       "    </tr>\n",
       "    <tr>\n",
       "      <th>mention_count</th>\n",
       "      <th></th>\n",
       "    </tr>\n",
       "  </thead>\n",
       "  <tbody>\n",
       "    <tr>\n",
       "      <th>0</th>\n",
       "      <td>809</td>\n",
       "    </tr>\n",
       "    <tr>\n",
       "      <th>1</th>\n",
       "      <td>3048</td>\n",
       "    </tr>\n",
       "    <tr>\n",
       "      <th>2</th>\n",
       "      <td>1235</td>\n",
       "    </tr>\n",
       "    <tr>\n",
       "      <th>3</th>\n",
       "      <td>474</td>\n",
       "    </tr>\n",
       "    <tr>\n",
       "      <th>4</th>\n",
       "      <td>202</td>\n",
       "    </tr>\n",
       "  </tbody>\n",
       "</table>\n",
       "</div>"
      ],
      "text/plain": [
       "               count\n",
       "mention_count       \n",
       "0                809\n",
       "1               3048\n",
       "2               1235\n",
       "3                474\n",
       "4                202"
      ]
     },
     "execution_count": 517,
     "metadata": {},
     "output_type": "execute_result"
    }
   ],
   "source": [
    "df_time_mention_percent = df_time_mention.groupby(['mention_count'])['response_time'].agg(['count'])\n",
    "df_time_mention_percent.head()"
   ]
  },
  {
   "cell_type": "code",
   "execution_count": 518,
   "metadata": {},
   "outputs": [
    {
     "data": {
      "text/html": [
       "<div>\n",
       "<style scoped>\n",
       "    .dataframe tbody tr th:only-of-type {\n",
       "        vertical-align: middle;\n",
       "    }\n",
       "\n",
       "    .dataframe tbody tr th {\n",
       "        vertical-align: top;\n",
       "    }\n",
       "\n",
       "    .dataframe thead th {\n",
       "        text-align: right;\n",
       "    }\n",
       "</style>\n",
       "<table border=\"1\" class=\"dataframe\">\n",
       "  <thead>\n",
       "    <tr style=\"text-align: right;\">\n",
       "      <th></th>\n",
       "      <th>count</th>\n",
       "    </tr>\n",
       "    <tr>\n",
       "      <th>mention_count</th>\n",
       "      <th></th>\n",
       "    </tr>\n",
       "  </thead>\n",
       "  <tbody>\n",
       "    <tr>\n",
       "      <th>0</th>\n",
       "      <td>0.809</td>\n",
       "    </tr>\n",
       "    <tr>\n",
       "      <th>1</th>\n",
       "      <td>3.048</td>\n",
       "    </tr>\n",
       "    <tr>\n",
       "      <th>2</th>\n",
       "      <td>1.235</td>\n",
       "    </tr>\n",
       "    <tr>\n",
       "      <th>3</th>\n",
       "      <td>0.474</td>\n",
       "    </tr>\n",
       "    <tr>\n",
       "      <th>4</th>\n",
       "      <td>0.202</td>\n",
       "    </tr>\n",
       "  </tbody>\n",
       "</table>\n",
       "</div>"
      ],
      "text/plain": [
       "               count\n",
       "mention_count       \n",
       "0              0.809\n",
       "1              3.048\n",
       "2              1.235\n",
       "3              0.474\n",
       "4              0.202"
      ]
     },
     "execution_count": 518,
     "metadata": {},
     "output_type": "execute_result"
    }
   ],
   "source": [
    "df_time_mention_percent = (df_time_mention_percent['count']/1000).to_frame()\n",
    "df_time_mention_percent.head()"
   ]
  },
  {
   "cell_type": "code",
   "execution_count": 519,
   "metadata": {},
   "outputs": [
    {
     "data": {
      "image/png": "[encoded data removed]",
      "text/plain": [
       "<Figure size 640x480 with 1 Axes>"
      ]
     },
     "metadata": {},
     "output_type": "display_data"
    }
   ],
   "source": [
    "ax = df_time_mention_percent.plot(kind='bar', ) \n",
    "ax.set_xlabel('Number of mentions')\n",
    "ax.set_ylabel('Percentage of tweets (%)')\n",
    "ax.set_title('Percentage of mentions per tweet');"
   ]
  },
  {
   "cell_type": "code",
   "execution_count": 520,
   "metadata": {},
   "outputs": [
    {
     "data": {
      "text/html": [
       "<div>\n",
       "<style scoped>\n",
       "    .dataframe tbody tr th:only-of-type {\n",
       "        vertical-align: middle;\n",
       "    }\n",
       "\n",
       "    .dataframe tbody tr th {\n",
       "        vertical-align: top;\n",
       "    }\n",
       "\n",
       "    .dataframe thead tr th {\n",
       "        text-align: left;\n",
       "    }\n",
       "\n",
       "    .dataframe thead tr:last-of-type th {\n",
       "        text-align: right;\n",
       "    }\n",
       "</style>\n",
       "<table border=\"1\" class=\"dataframe\">\n",
       "  <thead>\n",
       "    <tr>\n",
       "      <th></th>\n",
       "      <th colspan=\"2\" halign=\"left\">response_time</th>\n",
       "    </tr>\n",
       "    <tr>\n",
       "      <th></th>\n",
       "      <th>mean</th>\n",
       "      <th>std</th>\n",
       "    </tr>\n",
       "    <tr>\n",
       "      <th>mention_count</th>\n",
       "      <th></th>\n",
       "      <th></th>\n",
       "    </tr>\n",
       "  </thead>\n",
       "  <tbody>\n",
       "    <tr>\n",
       "      <th>0</th>\n",
       "      <td>2.459637e+05</td>\n",
       "      <td>6.315793e+06</td>\n",
       "    </tr>\n",
       "    <tr>\n",
       "      <th>1</th>\n",
       "      <td>1.006941e+07</td>\n",
       "      <td>8.841374e+07</td>\n",
       "    </tr>\n",
       "    <tr>\n",
       "      <th>2</th>\n",
       "      <td>1.642101e+07</td>\n",
       "      <td>1.288253e+08</td>\n",
       "    </tr>\n",
       "    <tr>\n",
       "      <th>3</th>\n",
       "      <td>6.256475e+07</td>\n",
       "      <td>8.199402e+08</td>\n",
       "    </tr>\n",
       "    <tr>\n",
       "      <th>4</th>\n",
       "      <td>1.038090e+07</td>\n",
       "      <td>3.558685e+07</td>\n",
       "    </tr>\n",
       "    <tr>\n",
       "      <th>5</th>\n",
       "      <td>1.880961e+07</td>\n",
       "      <td>6.834264e+07</td>\n",
       "    </tr>\n",
       "    <tr>\n",
       "      <th>6</th>\n",
       "      <td>1.734567e+07</td>\n",
       "      <td>7.101961e+07</td>\n",
       "    </tr>\n",
       "    <tr>\n",
       "      <th>7</th>\n",
       "      <td>1.012152e+07</td>\n",
       "      <td>2.155623e+07</td>\n",
       "    </tr>\n",
       "    <tr>\n",
       "      <th>8</th>\n",
       "      <td>2.956056e+07</td>\n",
       "      <td>6.025685e+07</td>\n",
       "    </tr>\n",
       "    <tr>\n",
       "      <th>9</th>\n",
       "      <td>7.119265e+06</td>\n",
       "      <td>1.580064e+07</td>\n",
       "    </tr>\n",
       "    <tr>\n",
       "      <th>10</th>\n",
       "      <td>8.963012e+05</td>\n",
       "      <td>2.690929e+06</td>\n",
       "    </tr>\n",
       "    <tr>\n",
       "      <th>11</th>\n",
       "      <td>1.355020e+05</td>\n",
       "      <td>3.319108e+05</td>\n",
       "    </tr>\n",
       "    <tr>\n",
       "      <th>12</th>\n",
       "      <td>4.599132e+06</td>\n",
       "      <td>9.198264e+06</td>\n",
       "    </tr>\n",
       "  </tbody>\n",
       "</table>\n",
       "</div>"
      ],
      "text/plain": [
       "              response_time              \n",
       "                       mean           std\n",
       "mention_count                            \n",
       "0              2.459637e+05  6.315793e+06\n",
       "1              1.006941e+07  8.841374e+07\n",
       "2              1.642101e+07  1.288253e+08\n",
       "3              6.256475e+07  8.199402e+08\n",
       "4              1.038090e+07  3.558685e+07\n",
       "5              1.880961e+07  6.834264e+07\n",
       "6              1.734567e+07  7.101961e+07\n",
       "7              1.012152e+07  2.155623e+07\n",
       "8              2.956056e+07  6.025685e+07\n",
       "9              7.119265e+06  1.580064e+07\n",
       "10             8.963012e+05  2.690929e+06\n",
       "11             1.355020e+05  3.319108e+05\n",
       "12             4.599132e+06  9.198264e+06"
      ]
     },
     "execution_count": 520,
     "metadata": {},
     "output_type": "execute_result"
    }
   ],
   "source": [
    "df_time_mention2 = df_time_mention.groupby(['mention_count']).agg({'response_time':['mean','std']})\n",
    "df_time_mention2\n",
    "#df_user_grouped_mention_time.head()"
   ]
  },
  {
   "cell_type": "code",
   "execution_count": 521,
   "metadata": {},
   "outputs": [
    {
     "data": {
      "text/html": [
       "<div>\n",
       "<style scoped>\n",
       "    .dataframe tbody tr th:only-of-type {\n",
       "        vertical-align: middle;\n",
       "    }\n",
       "\n",
       "    .dataframe tbody tr th {\n",
       "        vertical-align: top;\n",
       "    }\n",
       "\n",
       "    .dataframe thead th {\n",
       "        text-align: right;\n",
       "    }\n",
       "</style>\n",
       "<table border=\"1\" class=\"dataframe\">\n",
       "  <thead>\n",
       "    <tr style=\"text-align: right;\">\n",
       "      <th></th>\n",
       "      <th>mean</th>\n",
       "    </tr>\n",
       "    <tr>\n",
       "      <th>mention_count</th>\n",
       "      <th></th>\n",
       "    </tr>\n",
       "  </thead>\n",
       "  <tbody>\n",
       "    <tr>\n",
       "      <th>0</th>\n",
       "      <td>0.068323</td>\n",
       "    </tr>\n",
       "    <tr>\n",
       "      <th>1</th>\n",
       "      <td>2.797057</td>\n",
       "    </tr>\n",
       "    <tr>\n",
       "      <th>2</th>\n",
       "      <td>4.561391</td>\n",
       "    </tr>\n",
       "    <tr>\n",
       "      <th>3</th>\n",
       "      <td>17.379096</td>\n",
       "    </tr>\n",
       "    <tr>\n",
       "      <th>4</th>\n",
       "      <td>2.883582</td>\n",
       "    </tr>\n",
       "  </tbody>\n",
       "</table>\n",
       "</div>"
      ],
      "text/plain": [
       "                    mean\n",
       "mention_count           \n",
       "0               0.068323\n",
       "1               2.797057\n",
       "2               4.561391\n",
       "3              17.379096\n",
       "4               2.883582"
      ]
     },
     "execution_count": 521,
     "metadata": {},
     "output_type": "execute_result"
    }
   ],
   "source": [
    "df_time_mention3 = (df_time_mention2['response_time']['mean'] / (1000 * 60 * 60)).to_frame()\n",
    "df_time_mention3.head()\n"
   ]
  },
  {
   "cell_type": "code",
   "execution_count": 522,
   "metadata": {},
   "outputs": [
    {
     "data": {
      "image/png": "[encoded data removed]",
      "text/plain": [
       "<Figure size 640x480 with 1 Axes>"
      ]
     },
     "metadata": {},
     "output_type": "display_data"
    }
   ],
   "source": [
    "ax = df_time_mention3['mean'].plot(kind='bar', ) \n",
    "ax.set_xlabel('Number of mentions')\n",
    "ax.set_ylabel('Mean response time (hours)')\n",
    "ax.set_title('Number of mentions per airline');"
   ]
  },
  {
   "cell_type": "code",
   "execution_count": 523,
   "metadata": {},
   "outputs": [
    {
     "data": {
      "text/html": [
       "<div>\n",
       "<style scoped>\n",
       "    .dataframe tbody tr th:only-of-type {\n",
       "        vertical-align: middle;\n",
       "    }\n",
       "\n",
       "    .dataframe tbody tr th {\n",
       "        vertical-align: top;\n",
       "    }\n",
       "\n",
       "    .dataframe thead th {\n",
       "        text-align: right;\n",
       "    }\n",
       "</style>\n",
       "<table border=\"1\" class=\"dataframe\">\n",
       "  <thead>\n",
       "    <tr style=\"text-align: right;\">\n",
       "      <th></th>\n",
       "      <th>response_time</th>\n",
       "      <th>tweet_length</th>\n",
       "      <th>airline</th>\n",
       "      <th>mention_count</th>\n",
       "    </tr>\n",
       "  </thead>\n",
       "  <tbody>\n",
       "    <tr>\n",
       "      <th>0</th>\n",
       "      <td>0</td>\n",
       "      <td>140</td>\n",
       "      <td>no_airline</td>\n",
       "      <td>1</td>\n",
       "    </tr>\n",
       "    <tr>\n",
       "      <th>1</th>\n",
       "      <td>0</td>\n",
       "      <td>133</td>\n",
       "      <td>no_airline</td>\n",
       "      <td>1</td>\n",
       "    </tr>\n",
       "    <tr>\n",
       "      <th>2</th>\n",
       "      <td>0</td>\n",
       "      <td>140</td>\n",
       "      <td>Qantas</td>\n",
       "      <td>2</td>\n",
       "    </tr>\n",
       "    <tr>\n",
       "      <th>3</th>\n",
       "      <td>0</td>\n",
       "      <td>140</td>\n",
       "      <td>BritishAirways</td>\n",
       "      <td>5</td>\n",
       "    </tr>\n",
       "    <tr>\n",
       "      <th>4</th>\n",
       "      <td>0</td>\n",
       "      <td>140</td>\n",
       "      <td>no_airline</td>\n",
       "      <td>2</td>\n",
       "    </tr>\n",
       "  </tbody>\n",
       "</table>\n",
       "</div>"
      ],
      "text/plain": [
       "  response_time tweet_length         airline mention_count\n",
       "0             0          140      no_airline             1\n",
       "1             0          133      no_airline             1\n",
       "2             0          140          Qantas             2\n",
       "3             0          140  BritishAirways             5\n",
       "4             0          140      no_airline             2"
      ]
     },
     "execution_count": 523,
     "metadata": {},
     "output_type": "execute_result"
    }
   ],
   "source": [
    "df_user.head()"
   ]
  },
  {
   "cell_type": "code",
   "execution_count": 524,
   "metadata": {},
   "outputs": [
    {
     "data": {
      "text/html": [
       "<div>\n",
       "<style scoped>\n",
       "    .dataframe tbody tr th:only-of-type {\n",
       "        vertical-align: middle;\n",
       "    }\n",
       "\n",
       "    .dataframe tbody tr th {\n",
       "        vertical-align: top;\n",
       "    }\n",
       "\n",
       "    .dataframe thead th {\n",
       "        text-align: right;\n",
       "    }\n",
       "</style>\n",
       "<table border=\"1\" class=\"dataframe\">\n",
       "  <thead>\n",
       "    <tr style=\"text-align: right;\">\n",
       "      <th></th>\n",
       "      <th>mention_count</th>\n",
       "    </tr>\n",
       "    <tr>\n",
       "      <th>airline</th>\n",
       "      <th></th>\n",
       "    </tr>\n",
       "  </thead>\n",
       "  <tbody>\n",
       "    <tr>\n",
       "      <th>AirFrance</th>\n",
       "      <td>2.735294</td>\n",
       "    </tr>\n",
       "    <tr>\n",
       "      <th>AmericanAir</th>\n",
       "      <td>2.194175</td>\n",
       "    </tr>\n",
       "    <tr>\n",
       "      <th>BritishAirways</th>\n",
       "      <td>1.990530</td>\n",
       "    </tr>\n",
       "    <tr>\n",
       "      <th>EtihadAirways</th>\n",
       "      <td>3.016129</td>\n",
       "    </tr>\n",
       "    <tr>\n",
       "      <th>KLM</th>\n",
       "      <td>2.495283</td>\n",
       "    </tr>\n",
       "  </tbody>\n",
       "</table>\n",
       "</div>"
      ],
      "text/plain": [
       "                mention_count\n",
       "airline                      \n",
       "AirFrance            2.735294\n",
       "AmericanAir          2.194175\n",
       "BritishAirways       1.990530\n",
       "EtihadAirways        3.016129\n",
       "KLM                  2.495283"
      ]
     },
     "execution_count": 524,
     "metadata": {},
     "output_type": "execute_result"
    }
   ],
   "source": [
    "df_user_grouped = df_user.groupby(['airline'])[['mention_count']].mean()\n",
    "df_user_grouped.head()"
   ]
  },
  {
   "cell_type": "code",
   "execution_count": 525,
   "metadata": {},
   "outputs": [
    {
     "data": {
      "image/png": "[encoded data removed]",
      "text/plain": [
       "<Figure size 640x480 with 1 Axes>"
      ]
     },
     "metadata": {},
     "output_type": "display_data"
    }
   ],
   "source": [
    "ax = df_user_grouped.plot(kind='bar', stacked=True, ) \n",
    "ax.set_xlabel('Airlines')\n",
    "ax.set_ylabel('number of mentions')\n",
    "ax.set_title('Mean number of mentions per airline');"
   ]
  },
  {
   "cell_type": "code",
   "execution_count": 526,
   "metadata": {},
   "outputs": [
    {
     "data": {
      "text/html": [
       "<div>\n",
       "<style scoped>\n",
       "    .dataframe tbody tr th:only-of-type {\n",
       "        vertical-align: middle;\n",
       "    }\n",
       "\n",
       "    .dataframe tbody tr th {\n",
       "        vertical-align: top;\n",
       "    }\n",
       "\n",
       "    .dataframe thead th {\n",
       "        text-align: right;\n",
       "    }\n",
       "</style>\n",
       "<table border=\"1\" class=\"dataframe\">\n",
       "  <thead>\n",
       "    <tr style=\"text-align: right;\">\n",
       "      <th></th>\n",
       "      <th>response_time</th>\n",
       "      <th>tweet_length</th>\n",
       "      <th>airline</th>\n",
       "      <th>mention_count</th>\n",
       "    </tr>\n",
       "  </thead>\n",
       "  <tbody>\n",
       "    <tr>\n",
       "      <th>0</th>\n",
       "      <td>0</td>\n",
       "      <td>140</td>\n",
       "      <td>no_airline</td>\n",
       "      <td>1</td>\n",
       "    </tr>\n",
       "    <tr>\n",
       "      <th>1</th>\n",
       "      <td>0</td>\n",
       "      <td>133</td>\n",
       "      <td>no_airline</td>\n",
       "      <td>1</td>\n",
       "    </tr>\n",
       "    <tr>\n",
       "      <th>2</th>\n",
       "      <td>0</td>\n",
       "      <td>140</td>\n",
       "      <td>Qantas</td>\n",
       "      <td>2</td>\n",
       "    </tr>\n",
       "    <tr>\n",
       "      <th>3</th>\n",
       "      <td>0</td>\n",
       "      <td>140</td>\n",
       "      <td>BritishAirways</td>\n",
       "      <td>5</td>\n",
       "    </tr>\n",
       "    <tr>\n",
       "      <th>4</th>\n",
       "      <td>0</td>\n",
       "      <td>140</td>\n",
       "      <td>no_airline</td>\n",
       "      <td>2</td>\n",
       "    </tr>\n",
       "  </tbody>\n",
       "</table>\n",
       "</div>"
      ],
      "text/plain": [
       "  response_time tweet_length         airline mention_count\n",
       "0             0          140      no_airline             1\n",
       "1             0          133      no_airline             1\n",
       "2             0          140          Qantas             2\n",
       "3             0          140  BritishAirways             5\n",
       "4             0          140      no_airline             2"
      ]
     },
     "execution_count": 526,
     "metadata": {},
     "output_type": "execute_result"
    }
   ],
   "source": [
    "df_user.head()"
   ]
  },
  {
   "cell_type": "code",
   "execution_count": 527,
   "metadata": {},
   "outputs": [
    {
     "data": {
      "image/png": "[encoded data removed]",
      "text/plain": [
       "<Figure size 640x480 with 1 Axes>"
      ]
     },
     "metadata": {},
     "output_type": "display_data"
    }
   ],
   "source": [
    "ax = sns.scatterplot(df_user, x='tweet_length', y='response_time', hue='airline')\n",
    "ax.set_ylim(5999999, 500000000)\n",
    "ax.set_xlabel('Tweet length (characters)')\n",
    "ax.set_ylabel('Response time (ms)')\n",
    "ax.set_title('Response time over tweet length');"
   ]
  },
  {
   "attachments": {},
   "cell_type": "markdown",
   "metadata": {},
   "source": [
    "The positive correlation could be due to re-tweeting one's own tweet to get more words.\n",
    "Regression model removing the ≈ word limit."
   ]
  },
  {
   "cell_type": "code",
   "execution_count": null,
   "metadata": {},
   "outputs": [],
   "source": []
  }
 ],
 "metadata": {
  "kernelspec": {
   "display_name": "ok",
   "language": "python",
   "name": "python3"
  },
  "language_info": {
   "codemirror_mode": {
    "name": "ipython",
    "version": 3
   },
   "file_extension": ".py",
   "mimetype": "text/x-python",
   "name": "python",
   "nbconvert_exporter": "python",
   "pygments_lexer": "ipython3",
   "version": "3.8.16"
  },
  "orig_nbformat": 4
 },
 "nbformat": 4,
 "nbformat_minor": 2
}
