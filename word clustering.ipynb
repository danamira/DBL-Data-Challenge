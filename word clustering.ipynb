{
 "cells": [
  {
   "cell_type": "code",
   "execution_count": null,
   "metadata": {},
   "outputs": [],
   "source": [
    "from database.connect import getConnection\n",
    "import mysql\n",
    "import pandas as pd\n",
    "from pathlib import Path\n",
    "import csv\n",
    "\n",
    "try:\n",
    "    connection = getConnection()\n",
    "except Exception:\n",
    "    print(\"✖️ Error while connecting to MySQL engine database.\")\n",
    "    print(\"ℹ️ Please make sure the environment file `.env` is located at\"+\n",
    "        \"the project root directory and contains proper configuration.\")\n",
    "    raise\n",
    "\n",
    "cursor = connection.cursor()"
   ]
  },
  {
   "attachments": {},
   "cell_type": "markdown",
   "metadata": {},
   "source": [
    "Runtime W df method: 5.4 s  \n",
    "Runtime W str method: 5.7 s"
   ]
  },
  {
   "cell_type": "code",
   "execution_count": null,
   "metadata": {},
   "outputs": [],
   "source": [
    "file_path = Path(\"./pre-processed/wordcounts.csv\")\n",
    "\n",
    "# check if the file exists\n",
    "my_file = file_path\n",
    "if not my_file.is_file():\n",
    "    # create the file if it doesn't exist\n",
    "    with open(file_path, \"w\", newline=\"\") as csvfile:\n",
    "        writer = csv.writer(csvfile)\n",
    "        writer.writerow([\"word\", \"count\"])\n",
    "\n",
    "    word_counts = pd.DataFrame(columns=[\"word\", \"count\"])\n",
    "\n",
    "    # get the text from the database\n",
    "    cursor.execute(\"SELECT text FROM tweets WHERE text not like 'RT%'\")\n",
    "    tweets = cursor.fetchall()\n",
    "    print('got all tweets')\n",
    "\n",
    "    word_counts = {}\n",
    "    for tweet in tweets:\n",
    "        for word in tweet[0].split():\n",
    "            word = word.lower().strip(\".,:;!?\\\"\\'()[]{}\")\n",
    "            if word in word_counts:\n",
    "                word_counts[word] += 1\n",
    "            else:\n",
    "                word_counts[word] = 1\n",
    "    \n",
    "    # save the sorted word counts to the file\n",
    "    with open(file_path, \"a\", newline=\"\") as csvfile:\n",
    "        writer = csv.writer(csvfile)\n",
    "        for word, count in sorted(word_counts.items(), key=lambda x: x[1], reverse=True):\n",
    "            writer.writerow([word, count])"
   ]
  },
  {
   "cell_type": "code",
   "execution_count": null,
   "metadata": {},
   "outputs": [],
   "source": [
    "# read the file\n",
    "word_counts = pd.read_csv(file_path)\n",
    "\n",
    "# get the top 100 words\n",
    "top_words = word_counts.groupby(\"word\").sum().sort_values(by=\"count\", ascending=False).head(100)\n",
    "top_words"
   ]
  },
  {
   "cell_type": "code",
   "execution_count": null,
   "metadata": {},
   "outputs": [],
   "source": []
  }
 ],
 "metadata": {
  "kernelspec": {
   "display_name": "dbl-1",
   "language": "python",
   "name": "python3"
  },
  "language_info": {
   "codemirror_mode": {
    "name": "ipython",
    "version": 3
   },
   "file_extension": ".py",
   "mimetype": "text/x-python",
   "name": "python",
   "nbconvert_exporter": "python",
   "pygments_lexer": "ipython3",
   "version": "3.11.3"
  },
  "orig_nbformat": 4
 },
 "nbformat": 4,
 "nbformat_minor": 2
}
