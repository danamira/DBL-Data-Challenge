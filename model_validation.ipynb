{
 "cells": [
  {
   "cell_type": "code",
   "execution_count": null,
   "metadata": {},
   "outputs": [],
   "source": [
    "from transformers import AutoModelForSequenceClassification\n",
    "from transformers import TFAutoModelForSequenceClassification\n",
    "from transformers import AutoTokenizer, AutoConfig\n",
    "from scipy.special import softmax\n",
    "import re\n",
    "import pandas as pd"
   ]
  },
  {
   "cell_type": "code",
   "execution_count": null,
   "metadata": {},
   "outputs": [],
   "source": [
    "'''\n",
    "# Preprocess text (username and link placeholders)\n",
    "def preprocess(text):\n",
    "    new_text = re.sub(r'@\\S+', '@user', text)\n",
    "    return new_text\n",
    "MODEL = \"cardiffnlp/twitter-roberta-base-sentiment-latest\"\n",
    "tokenizer = AutoTokenizer.from_pretrained(MODEL)\n",
    "\n",
    "model = AutoModelForSequenceClassification.from_pretrained(MODEL)\n",
    "#model.save_pretrained(MODEL)\n",
    "\n",
    "\n",
    "def sentiment_score(text):\n",
    "    \n",
    "\n",
    "    \"\"\" \n",
    "    Detects the sentiment of a string of text, using the RoBERTa model.\n",
    "    :param text: string containing tweet text \n",
    "    :returns: sentiment score: int = positive - negative\n",
    "    \"\"\"\n",
    "    score_sum = 'NI'\n",
    "    try:\n",
    "        # Sentiment detection\n",
    "        text_processed = preprocess(str(text))\n",
    "        encoded_input = tokenizer(text_processed, return_tensors='pt')\n",
    "        output = model(**encoded_input)\n",
    "        scores = output[0][0].detach().numpy()\n",
    "        scores = softmax(scores)\n",
    "        score_sum = (scores[2] - scores[0]) # score = positive - negative\n",
    "    except Exception as e:\n",
    "        print(e)\n",
    "        pass\n",
    "\n",
    "    return score_sum\n",
    "'''"
   ]
  },
  {
   "cell_type": "code",
   "execution_count": null,
   "metadata": {},
   "outputs": [],
   "source": [
    "# data source: https://www.kaggle.com/datasets/jp797498e/twitter-entity-sentiment-analysis\n",
    "\n",
    "valdata = pd.read_csv(r'more_valdata.csv')\n",
    "valdata"
   ]
  },
  {
   "cell_type": "code",
   "execution_count": null,
   "metadata": {},
   "outputs": [],
   "source": [
    "correct2 = 0\n",
    "total = 0\n",
    "posincorrect = 0\n",
    "negincorrect = 0\n",
    "negcount = 0\n",
    "poscount = 0"
   ]
  },
  {
   "cell_type": "code",
   "execution_count": null,
   "metadata": {},
   "outputs": [],
   "source": [
    "for index, row in valdata.iterrows():\n",
    "    total += 1\n",
    "\n",
    "    score = row['roberta_sentiment']\n",
    "\n",
    "    actual = row['airline_sentiment']\n",
    "\n",
    "    if score < -0.2 and actual == 'negative':\n",
    "        correct2 += 1\n",
    "    elif score > 0.2 and actual == 'positive':\n",
    "        correct2 += 1\n",
    "    elif -0.2 < score < 0.2 and actual == 'neutral':\n",
    "        correct2 += 1\n",
    "    if score > -0.2 and actual == 'negative':\n",
    "        negcount += 1\n",
    "        negincorrect = negincorrect + (-0.2 - score)\n",
    "    if score < 0.2 and actual == 'positive':\n",
    "        poscount += 1\n",
    "        posincorrect = posincorrect + (-0.2 - score)\n",
    "\n",
    "print(f'Correct at 0.2: {correct2}')\n",
    "print(f'Accuracy with 0.2: {(correct2/total)*100}%\\n')\n",
    "\n",
    "print(f'Total: {total}')\n",
    "print(f'Error when Negative: {negincorrect/negcount}')\n",
    "print(f'Error when Positive: {posincorrect/poscount}')\n",
    "print(poscount)\n",
    "print(negcount)\n"
   ]
  }
 ],
 "metadata": {
  "kernelspec": {
   "display_name": "dbl",
   "language": "python",
   "name": "python3"
  },
  "language_info": {
   "codemirror_mode": {
    "name": "ipython",
    "version": 3
   },
   "file_extension": ".py",
   "mimetype": "text/x-python",
   "name": "python",
   "nbconvert_exporter": "python",
   "pygments_lexer": "ipython3",
   "version": "3.8.16"
  },
  "orig_nbformat": 4
 },
 "nbformat": 4,
 "nbformat_minor": 2
}
