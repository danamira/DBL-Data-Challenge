{
 "cells": [
  {
   "cell_type": "code",
   "execution_count": 121,
   "metadata": {},
   "outputs": [],
   "source": [
    "from transformers import AutoModelForSequenceClassification\n",
    "from transformers import TFAutoModelForSequenceClassification\n",
    "from transformers import AutoTokenizer, AutoConfig\n",
    "from scipy.special import softmax\n",
    "import re\n",
    "import pandas as pd"
   ]
  },
  {
   "cell_type": "code",
   "execution_count": 122,
   "metadata": {},
   "outputs": [
    {
     "data": {
      "text/plain": [
       "'\\n# Preprocess text (username and link placeholders)\\ndef preprocess(text):\\n    new_text = re.sub(r\\'@\\\\S+\\', \\'@user\\', text)\\n    return new_text\\nMODEL = \"cardiffnlp/twitter-roberta-base-sentiment-latest\"\\ntokenizer = AutoTokenizer.from_pretrained(MODEL)\\n\\nmodel = AutoModelForSequenceClassification.from_pretrained(MODEL)\\n#model.save_pretrained(MODEL)\\n\\n\\ndef sentiment_score(text):\\n    \\n\\n    \"\"\" \\n    Detects the sentiment of a string of text, using the RoBERTa model.\\n    :param text: string containing tweet text \\n    :returns: sentiment score: int = positive - negative\\n    \"\"\"\\n    score_sum = \\'NI\\'\\n    try:\\n        # Sentiment detection\\n        text_processed = preprocess(str(text))\\n        encoded_input = tokenizer(text_processed, return_tensors=\\'pt\\')\\n        output = model(**encoded_input)\\n        scores = output[0][0].detach().numpy()\\n        scores = softmax(scores)\\n        score_sum = (scores[2] - scores[0]) # score = positive - negative\\n    except Exception as e:\\n        print(e)\\n        pass\\n\\n    return score_sum\\n'"
      ]
     },
     "execution_count": 122,
     "metadata": {},
     "output_type": "execute_result"
    }
   ],
   "source": [
    "'''\n",
    "# Preprocess text (username and link placeholders)\n",
    "def preprocess(text):\n",
    "    new_text = re.sub(r'@\\S+', '@user', text)\n",
    "    return new_text\n",
    "MODEL = \"cardiffnlp/twitter-roberta-base-sentiment-latest\"\n",
    "tokenizer = AutoTokenizer.from_pretrained(MODEL)\n",
    "\n",
    "model = AutoModelForSequenceClassification.from_pretrained(MODEL)\n",
    "#model.save_pretrained(MODEL)\n",
    "\n",
    "\n",
    "def sentiment_score(text):\n",
    "    \n",
    "\n",
    "    \"\"\" \n",
    "    Detects the sentiment of a string of text, using the RoBERTa model.\n",
    "    :param text: string containing tweet text \n",
    "    :returns: sentiment score: int = positive - negative\n",
    "    \"\"\"\n",
    "    score_sum = 'NI'\n",
    "    try:\n",
    "        # Sentiment detection\n",
    "        text_processed = preprocess(str(text))\n",
    "        encoded_input = tokenizer(text_processed, return_tensors='pt')\n",
    "        output = model(**encoded_input)\n",
    "        scores = output[0][0].detach().numpy()\n",
    "        scores = softmax(scores)\n",
    "        score_sum = (scores[2] - scores[0]) # score = positive - negative\n",
    "    except Exception as e:\n",
    "        print(e)\n",
    "        pass\n",
    "\n",
    "    return score_sum\n",
    "'''"
   ]
  },
  {
   "cell_type": "code",
   "execution_count": 123,
   "metadata": {},
   "outputs": [],
   "source": [
    "# data source: https://www.kaggle.com/datasets/jp797498e/twitter-entity-sentiment-analysis\n",
    "\n",
    "valdata = pd.read_csv(r'more_valdata.csv')"
   ]
  },
  {
   "cell_type": "code",
   "execution_count": 124,
   "metadata": {},
   "outputs": [],
   "source": [
    "correct2 = 0\n",
    "total = 0\n",
    "posincorrect = 0\n",
    "negincorrect = 0\n",
    "negcount = 0\n",
    "poscount = 0\n",
    "neucount = 0\n",
    "negative = 0\n",
    "neutral = 0\n",
    "positive = 0"
   ]
  },
  {
   "cell_type": "code",
   "execution_count": 125,
   "metadata": {},
   "outputs": [
    {
     "name": "stdout",
     "output_type": "stream",
     "text": [
      "Correct at 0.2: 11378\n",
      "Accuracy with 0.2: 77.71857923497268%\n",
      "\n",
      "Total: 14640\n",
      "Avg Error when Negative: -0.4033655778674583\n",
      "Avg Error when Positive: -0.3822151215468173 \n",
      "\n",
      "Number of Incorrectly Identified Negative Tweets: 1482\n",
      "Number of Incorrectly Identified Positive Tweets: 167\n",
      "\n",
      "Negative Tweets: 9178\n",
      "Neutral Tweets: 3099\n",
      "Positive Tweets: 2363 \n",
      "\n",
      "Negative Error Rate: 16.147308781869686%\n",
      "Positive Error Rate: 7.0672873465933135%\n"
     ]
    }
   ],
   "source": [
    "for index, row in valdata.iterrows():\n",
    "    total += 1\n",
    "\n",
    "    score = row['roberta_sentiment']\n",
    "\n",
    "    actual = row['airline_sentiment']\n",
    "\n",
    "    if actual == 'negative':\n",
    "        negative += 1\n",
    "    elif actual == 'neutral':\n",
    "        neutral += 1\n",
    "    else:\n",
    "        positive += 1\n",
    "\n",
    "    if score < -0.2 and actual == 'negative':\n",
    "        correct2 += 1\n",
    "    elif score > 0.2 and actual == 'positive':\n",
    "        correct2 += 1\n",
    "    elif -0.2 < score < 0.2 and actual == 'neutral':\n",
    "        correct2 += 1\n",
    "    if score > -0.2 and actual == 'negative':\n",
    "        negcount += 1\n",
    "        negincorrect = negincorrect + (-0.2 - score)\n",
    "    if score < 0.2 and actual == 'positive':\n",
    "        poscount += 1\n",
    "        posincorrect = posincorrect + (score - 0.2)\n",
    "\n",
    "print(f'Correct at 0.2: {correct2}')\n",
    "print(f'Accuracy with 0.2: {(correct2/total)*100}%\\n')\n",
    "\n",
    "print(f'Total: {total}')\n",
    "print(f'Avg Error when Negative: {negincorrect/negcount}')\n",
    "print(f'Avg Error when Positive: {posincorrect/poscount} \\n')\n",
    "\n",
    "print(f'Number of Incorrectly Identified Negative Tweets: {negcount}')\n",
    "print(f'Number of Incorrectly Identified Positive Tweets: {poscount}\\n')\n",
    "\n",
    "print(f'Negative Tweets: {negative}')\n",
    "print(f'Neutral Tweets: {neutral}')\n",
    "print(f'Positive Tweets: {positive} \\n')\n",
    "\n",
    "print(f'Negative Error Rate: {(negcount/negative) * 100}%')\n",
    "print(f'Positive Error Rate: {(poscount/positive) * 100}%')"
   ]
  }
 ],
 "metadata": {
  "kernelspec": {
   "display_name": "dbl",
   "language": "python",
   "name": "python3"
  },
  "language_info": {
   "codemirror_mode": {
    "name": "ipython",
    "version": 3
   },
   "file_extension": ".py",
   "mimetype": "text/x-python",
   "name": "python",
   "nbconvert_exporter": "python",
   "pygments_lexer": "ipython3",
   "version": "3.8.16"
  },
  "orig_nbformat": 4
 },
 "nbformat": 4,
 "nbformat_minor": 2
}
