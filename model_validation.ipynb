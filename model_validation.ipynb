{
 "cells": [
  {
   "cell_type": "code",
   "execution_count": 35,
   "metadata": {},
   "outputs": [],
   "source": [
    "from transformers import AutoModelForSequenceClassification\n",
    "from transformers import TFAutoModelForSequenceClassification\n",
    "from transformers import AutoTokenizer, AutoConfig\n",
    "import numpy as np\n",
    "from scipy.special import softmax\n",
    "import re\n",
    "import pandas as pd"
   ]
  },
  {
   "cell_type": "code",
   "execution_count": 36,
   "metadata": {},
   "outputs": [
    {
     "name": "stderr",
     "output_type": "stream",
     "text": [
      "Some weights of the model checkpoint at cardiffnlp/twitter-roberta-base-sentiment-latest were not used when initializing RobertaForSequenceClassification: ['roberta.pooler.dense.weight', 'roberta.pooler.dense.bias']\n",
      "- This IS expected if you are initializing RobertaForSequenceClassification from the checkpoint of a model trained on another task or with another architecture (e.g. initializing a BertForSequenceClassification model from a BertForPreTraining model).\n",
      "- This IS NOT expected if you are initializing RobertaForSequenceClassification from the checkpoint of a model that you expect to be exactly identical (initializing a BertForSequenceClassification model from a BertForSequenceClassification model).\n"
     ]
    }
   ],
   "source": [
    "# Preprocess text (username and link placeholders)\n",
    "def preprocess(text):\n",
    "    new_text = re.sub(r'@\\S+', '@user', text)\n",
    "    return new_text\n",
    "MODEL = \"cardiffnlp/twitter-roberta-base-sentiment-latest\"\n",
    "tokenizer = AutoTokenizer.from_pretrained(MODEL)\n",
    "\n",
    "model = AutoModelForSequenceClassification.from_pretrained(MODEL)\n",
    "#model.save_pretrained(MODEL)\n",
    "\n",
    "\n",
    "def sentiment_score(text):\n",
    "    \"\"\" \n",
    "    Detects the sentiment of a string of text, using the RoBERTa model.\n",
    "    :param text: string containing tweet text \n",
    "    :returns: sentiment score: int = positive - negative\n",
    "    \"\"\"\n",
    "    score_sum = 'NI'\n",
    "    try:\n",
    "        # Sentiment detection\n",
    "        text_processed = preprocess(str(text))\n",
    "        encoded_input = tokenizer(text_processed, return_tensors='pt')\n",
    "        output = model(**encoded_input)\n",
    "        scores = output[0][0].detach().numpy()\n",
    "        scores = softmax(scores)\n",
    "        score_sum = (scores[2] - scores[0]) # score = positive - negative\n",
    "    except Exception as e:\n",
    "        print(e)\n",
    "        pass\n",
    "\n",
    "    return score_sum"
   ]
  },
  {
   "cell_type": "code",
   "execution_count": 37,
   "metadata": {},
   "outputs": [
    {
     "name": "stdout",
     "output_type": "stream",
     "text": [
      "       irrelevant also irrelevant sentiment  \\\n",
      "0            2401     Borderlands  Positive   \n",
      "1            2401     Borderlands  Positive   \n",
      "2            2401     Borderlands  Positive   \n",
      "3            2401     Borderlands  Positive   \n",
      "4            2401     Borderlands  Positive   \n",
      "...           ...             ...       ...   \n",
      "74677        9200          Nvidia  Positive   \n",
      "74678        9200          Nvidia  Positive   \n",
      "74679        9200          Nvidia  Positive   \n",
      "74680        9200          Nvidia  Positive   \n",
      "74681        9200          Nvidia  Positive   \n",
      "\n",
      "                                                    text  \n",
      "0      im getting on borderlands and i will murder yo...  \n",
      "1      I am coming to the borders and I will kill you...  \n",
      "2      im getting on borderlands and i will kill you ...  \n",
      "3      im coming on borderlands and i will murder you...  \n",
      "4      im getting on borderlands 2 and i will murder ...  \n",
      "...                                                  ...  \n",
      "74677  Just realized that the Windows partition of my...  \n",
      "74678  Just realized that my Mac window partition is ...  \n",
      "74679  Just realized the windows partition of my Mac ...  \n",
      "74680  Just realized between the windows partition of...  \n",
      "74681  Just like the windows partition of my Mac is l...  \n",
      "\n",
      "[74682 rows x 4 columns]\n"
     ]
    }
   ],
   "source": [
    "# data source: https://www.kaggle.com/datasets/jp797498e/twitter-entity-sentiment-analysis\n",
    "\n",
    "valdata = pd.read_csv(r'validation_data.csv', names=['irrelevant', 'also irrelevant', 'sentiment', 'text'])"
   ]
  },
  {
   "cell_type": "code",
   "execution_count": 38,
   "metadata": {},
   "outputs": [],
   "source": [
    "correct = 0\n",
    "wrong = 0\n",
    "total = 0"
   ]
  },
  {
   "cell_type": "code",
   "execution_count": 39,
   "metadata": {},
   "outputs": [
    {
     "name": "stdout",
     "output_type": "stream",
     "text": [
      "im getting on borderlands and i will murder you all ,\n",
      "I am coming to the borders and I will kill you all,\n",
      "im getting on borderlands and i will kill you all,\n",
      "im coming on borderlands and i will murder you all,\n",
      "im getting on borderlands 2 and i will murder you me all,\n",
      "im getting into borderlands and i can murder you all,\n",
      "So I spent a few hours making something for fun. . . If you don't know I am a HUGE @Borderlands fan and Maya is one of my favorite characters. So I decided to make myself a wallpaper for my PC. . Here is the original image versus the creation I made :) Enjoy! pic.twitter.com/mLsI5wf9Jg\n",
      "So I spent a couple of hours doing something for fun... If you don't know that I'm a huge @ Borderlands fan and Maya is one of my favorite characters, I decided to make a wallpaper for my PC.. Here's the original picture compared to the creation I made:) Have fun! pic.twitter.com / mLsI5wf9Jg\n",
      "So I spent a few hours doing something for fun... If you don't know I'm a HUGE @ Borderlands fan and Maya is one of my favorite characters.\n"
     ]
    }
   ],
   "source": [
    "for index, row in valdata.iterrows():\n",
    "    total += 1\n",
    "    score = sentiment_score(row['text'])\n",
    "    actual = row['sentiment']\n",
    "    if score < -0.3 and actual == 'Negative':\n",
    "        correct += 1\n",
    "    elif score > 0.3 and actual == 'Positive':\n",
    "        correct += 1\n",
    "    elif -0.3 < score < 0.3 and actual == 'Neutral':\n",
    "        correct += 1\n",
    "    else:\n",
    "        wrong += 1\n",
    "\n",
    "print(correct)\n",
    "print(wrong)\n",
    "print(total)\n"
   ]
  }
 ],
 "metadata": {
  "kernelspec": {
   "display_name": "dbl",
   "language": "python",
   "name": "python3"
  },
  "language_info": {
   "codemirror_mode": {
    "name": "ipython",
    "version": 3
   },
   "file_extension": ".py",
   "mimetype": "text/x-python",
   "name": "python",
   "nbconvert_exporter": "python",
   "pygments_lexer": "ipython3",
   "version": "3.8.16"
  },
  "orig_nbformat": 4
 },
 "nbformat": 4,
 "nbformat_minor": 2
}
