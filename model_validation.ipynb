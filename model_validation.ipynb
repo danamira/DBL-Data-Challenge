{
 "cells": [
  {
   "cell_type": "code",
   "execution_count": null,
   "metadata": {},
   "outputs": [],
   "source": [
    "from transformers import AutoModelForSequenceClassification\n",
    "from transformers import TFAutoModelForSequenceClassification\n",
    "from transformers import AutoTokenizer, AutoConfig\n",
    "import numpy as np\n",
    "from scipy.special import softmax\n",
    "import re\n",
    "import pandas as pd"
   ]
  },
  {
   "cell_type": "code",
   "execution_count": null,
   "metadata": {},
   "outputs": [],
   "source": [
    "# Preprocess text (username and link placeholders)\n",
    "def preprocess(text):\n",
    "    new_text = re.sub(r'@\\S+', '@user', text)\n",
    "    return new_text\n",
    "MODEL = \"cardiffnlp/twitter-roberta-base-sentiment-latest\"\n",
    "tokenizer = AutoTokenizer.from_pretrained(MODEL)\n",
    "\n",
    "model = AutoModelForSequenceClassification.from_pretrained(MODEL)\n",
    "#model.save_pretrained(MODEL)\n",
    "\n",
    "\n",
    "def sentiment_score(text):\n",
    "    \"\"\" \n",
    "    Detects the sentiment of a string of text, using the RoBERTa model.\n",
    "    :param text: string containing tweet text \n",
    "    :returns: sentiment score: int = positive - negative\n",
    "    \"\"\"\n",
    "    score_sum = 'NI'\n",
    "    try:\n",
    "        # Sentiment detection\n",
    "        text_processed = preprocess(str(text))\n",
    "        encoded_input = tokenizer(text_processed, return_tensors='pt')\n",
    "        output = model(**encoded_input)\n",
    "        scores = output[0][0].detach().numpy()\n",
    "        scores = softmax(scores)\n",
    "        score_sum = (scores[2] - scores[0]) # score = positive - negative\n",
    "    except Exception as e:\n",
    "        print(e)\n",
    "        pass\n",
    "\n",
    "    return score_sum"
   ]
  },
  {
   "cell_type": "code",
   "execution_count": null,
   "metadata": {},
   "outputs": [],
   "source": [
    "# data source: https://www.kaggle.com/datasets/jp797498e/twitter-entity-sentiment-analysis\n",
    "\n",
    "valdata = pd.read_csv(r'validation_data.csv', names=['irrelevant', 'also irrelevant', 'sentiment', 'text'])"
   ]
  },
  {
   "cell_type": "code",
   "execution_count": null,
   "metadata": {},
   "outputs": [],
   "source": [
    "correct = 0\n",
    "total = 0\n",
    "count = 0"
   ]
  },
  {
   "cell_type": "code",
   "execution_count": null,
   "metadata": {},
   "outputs": [],
   "source": [
    "for index, row in valdata.iterrows():\n",
    "    total += 1\n",
    "    count += 1\n",
    "\n",
    "    score = sentiment_score(row['text'])\n",
    "    actual = row['sentiment']\n",
    "    if score < -0.3 and actual == 'Negative':\n",
    "        correct += 1\n",
    "    elif score > 0.3 and actual == 'Positive':\n",
    "        correct += 1\n",
    "    elif -0.3 < score < 0.3 and actual == 'Neutral':\n",
    "        correct += 1\n",
    "\n",
    "print(f'Correct:{correct}')\n",
    "print(f'Total:{total}')\n",
    "print(f'Accuracy:{(correct/total)*100}%')"
   ]
  }
 ],
 "metadata": {
  "kernelspec": {
   "display_name": "dbl",
   "language": "python",
   "name": "python3"
  },
  "language_info": {
   "codemirror_mode": {
    "name": "ipython",
    "version": 3
   },
   "file_extension": ".py",
   "mimetype": "text/x-python",
   "name": "python",
   "nbconvert_exporter": "python",
   "pygments_lexer": "ipython3",
   "version": "3.8.16"
  },
  "orig_nbformat": 4
 },
 "nbformat": 4,
 "nbformat_minor": 2
}
