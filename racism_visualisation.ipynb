{
 "cells": [
  {
   "cell_type": "code",
   "execution_count": null,
   "metadata": {},
   "outputs": [],
   "source": [
    "import seaborn as sns\n",
    "import pandas as pd\n",
    "from pathlib import Path\n",
    "import matplotlib.pyplot as plt"
   ]
  },
  {
   "cell_type": "code",
   "execution_count": null,
   "metadata": {},
   "outputs": [],
   "source": [
    "data = Path('output/airline_racism.csv')\n",
    "df = pd.read_csv(data)\n",
    "df.head()"
   ]
  },
  {
   "cell_type": "code",
   "execution_count": null,
   "metadata": {},
   "outputs": [],
   "source": [
    "# create grouped barcharts per language, one group for american airlines, one for british airlines, one for other airlines\n",
    "# the height is the average participated percentage.\n",
    "\n",
    "# create a dataframe with the average participated percentage per language per airline\n",
    "df_lang = pd.DataFrame(columns=[\"Language\", \"Airline\", \"ParticipatedPercentage\"])\n",
    "\n",
    "for langauge in df[\"Language\"].unique():\n",
    "    # get average of participated percentage\n",
    "    british = df[(df[\"Language\"] == langauge) & (df[\"Airline\"] == \"British_Airways\")]\n",
    "    american = df[(df[\"Language\"] == langauge) & (df[\"Airline\"] == \"AmericanAir\")]\n",
    "    other = df[(df[\"Language\"] == langauge)]\n",
    "    birtish_mean = british[\"ParticipatedPercentage\"].mean()\n",
    "    american_mean = american[\"ParticipatedPercentage\"].mean()\n",
    "    other_mean = other[\"ParticipatedPercentage\"].mean()\n",
    "\n",
    "    # add to dataframe\n",
    "    df_lang.loc[len(df_lang.index)] = langauge, \"American Airlines\", american_mean\n",
    "    df_lang.loc[len(df_lang.index)] = langauge, \"All Airlines\", other_mean\n",
    "    df_lang.loc[len(df_lang.index)] = langauge, \"British Airways\", birtish_mean\n",
    "    \n",
    "    \n",
    "\n",
    "# create grouped barchart\n",
    "sns.set_theme(style=\"whitegrid\")\n",
    "sns.set(rc={'figure.figsize':(11.7,8.27)})\n",
    "ax = sns.barplot(x=\"Language\", y=\"ParticipatedPercentage\", hue=\"Airline\", data=df_lang)\n",
    "ax.set_title(\"Participated percentage per language per airline\")\n",
    "plt.show()\n",
    "    "
   ]
  }
 ],
 "metadata": {
  "kernelspec": {
   "display_name": "dbl-1",
   "language": "python",
   "name": "python3"
  },
  "language_info": {
   "codemirror_mode": {
    "name": "ipython",
    "version": 3
   },
   "file_extension": ".py",
   "mimetype": "text/x-python",
   "name": "python",
   "nbconvert_exporter": "python",
   "pygments_lexer": "ipython3",
   "version": "3.11.3"
  },
  "orig_nbformat": 4
 },
 "nbformat": 4,
 "nbformat_minor": 2
}
