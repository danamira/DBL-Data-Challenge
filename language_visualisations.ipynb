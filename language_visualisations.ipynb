{
 "cells": [
  {
   "cell_type": "code",
   "execution_count": null,
   "metadata": {},
   "outputs": [],
   "source": [
    "import seaborn as sns\n",
    "import pandas as pd\n",
    "import matplotlib.pyplot as plt\n",
    "from pathlib import Path"
   ]
  },
  {
   "cell_type": "code",
   "execution_count": null,
   "metadata": {},
   "outputs": [],
   "source": [
    "data = Path('output/sentiment_per_language.csv')\n",
    "df = pd.read_csv(data)\n"
   ]
  },
  {
   "cell_type": "code",
   "execution_count": null,
   "metadata": {},
   "outputs": [],
   "source": [
    "# create a kernel density plot for the sentiment of each language\n",
    "language_list = ['en', 'hi', 'fr', 'pt', 'ar']\n",
    "for language in df['language'].unique():\n",
    "    if language in language_list:\n",
    "        sentiments_series = df[df['language'] == language]['sentiment']\n",
    "        sentiment_list = sentiments_series.tolist()\n",
    "        sentiment_list = eval(sentiment_list[0])\n",
    "        # co5nvert all items in the list to floats56\n",
    "        sentiment_list = [float(i) for i in sentiment_list]\n",
    "        sns.kdeplot(sentiment_list, label=language)\n",
    "        # plot with thicker lines\n",
    "        plt.setp(plt.gca().get_lines(), lw=2)\n",
    "\n",
    "plt.legend()\n",
    "#add a title\n",
    "plt.title('Sentiment per language')"
   ]
  },
  {
   "cell_type": "code",
   "execution_count": null,
   "metadata": {},
   "outputs": [],
   "source": []
  }
 ],
 "metadata": {
  "kernelspec": {
   "display_name": "dbl-1",
   "language": "python",
   "name": "python3"
  },
  "language_info": {
   "codemirror_mode": {
    "name": "ipython",
    "version": 3
   },
   "file_extension": ".py",
   "mimetype": "text/x-python",
   "name": "python",
   "nbconvert_exporter": "python",
   "pygments_lexer": "ipython3",
   "version": "3.11.3"
  },
  "orig_nbformat": 4
 },
 "nbformat": 4,
 "nbformat_minor": 2
}
