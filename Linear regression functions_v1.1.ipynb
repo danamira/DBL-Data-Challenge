{
 "cells": [
  {
   "cell_type": "code",
   "execution_count": 3,
   "metadata": {},
   "outputs": [],
   "source": [
    "# Module imports\n",
    "\n",
    "import database.connect\n",
    "import pandas as pd\n",
    "import numpy as np\n",
    "import statistics\n",
    "import seaborn as sns\n",
    "import matplotlib.pyplot as plt"
   ]
  },
  {
   "cell_type": "code",
   "execution_count": 4,
   "metadata": {},
   "outputs": [],
   "source": [
    "# Connect to SQL database\n",
    "\n",
    "connection=database.connect.getConnection()\n",
    "cursor=connection.cursor(buffered=True)"
   ]
  },
  {
   "cell_type": "code",
   "execution_count": 5,
   "metadata": {},
   "outputs": [],
   "source": [
    "categories = {'booking': ['booking', 'booked', 'book', 'ticket', 'tickets'],\n",
    "            'canceling': ['canceled', 'cancellations'],\n",
    "            'money': ['refund', 'compensation', 'claim', 'money', 'pay', 'paid'],\n",
    "            'baggage': ['bag', 'baggage', 'luggage', 'bags'],\n",
    "            'staff': ['staff', 'crew'],\n",
    "            'waiting': ['waiting', 'delay', 'wait'],\n",
    "            'boarding': ['boarding'],\n",
    "            'stuck': ['stuck'],\n",
    "\n",
    "            'information': ['info', 'information'],\n",
    "            'customers': ['customer', 'customers', 'passenger', 'passengers'],\n",
    "            'dm': [' dm'], \n",
    "            }\n",
    "\n",
    "airlines_dict = {'KLM': ['klm'],\n",
    "                'AirFrance':['airfrance',\n",
    "                            'air france'],\n",
    "                'British_Airways': ['british_airways',\n",
    "                                    'british airways'],\n",
    "                'AmericanAir': ['americanair',\n",
    "                                'american airlines'],\n",
    "                'Lufthansa': ['lufthansa'],\n",
    "                'AirBerlin': ['airberlin',\n",
    "                                'air berlin'],\n",
    "                'AirBerlin assist': ['airberlin assist',\n",
    "                                    'air berlin assist',\n",
    "                                    'airberlinassist'],\n",
    "                'easyJet': ['easyjet'],\n",
    "                'RyanAir': ['ryanair'],\n",
    "                'SingaporeAir': ['singaporeair',\n",
    "                                'singapore airlines'],\n",
    "                'Qantas': ['qantas'],\n",
    "                'EtihadAirways': ['etihad airways',\n",
    "                                'etihadairways',\n",
    "                                'etihad'],\n",
    "                'VirginAtlantic': ['virgin atlantic',\n",
    "                                    'virginatlantic'],\n",
    "            }\n",
    "\n",
    "airlines_of_interest = ['AmericanAir', 'Other', 'British_Airways']"
   ]
  },
  {
   "cell_type": "code",
   "execution_count": 20,
   "metadata": {},
   "outputs": [],
   "source": [
    "def avg_resp_time():\n",
    "\n",
    "    # Function takes in an airline and returns the mean sentiment\n",
    "\n",
    "    Query= (f\"\"\"\n",
    "                SELECT part_of.cID, AVG(tweets.reply_time) \n",
    "                FROM tweets, part_of, conversations \n",
    "                WHERE tweets.id = part_of.tID AND part_of.cID = conversations.id AND conversations.Airline <> '0' \n",
    "                GROUP BY conversations.id\n",
    "                \"\"\")\n",
    "    execute=cursor.execute(Query)\n",
    "    result=cursor.fetchall()\n",
    "    df1 = pd.DataFrame(result)\n",
    "    df1.columns = ['cID','reply_time']\n",
    "    df1 = df1.set_index('cID')\n",
    "    return df1\n",
    "\n",
    "# TODO\n",
    "def init_sent():\n",
    "\n",
    "    # Find the median sentiment per airline\n",
    "    try:\n",
    "        Query = (f\"\"\"\n",
    "                SELECT conversations.id, sentiment, conversations.Length\n",
    "                FROM conversations , part_of ,tweets\n",
    "                WHERE conversations.ID = part_of.cID AND tweets.id=part_of.tID AND Position = 1 and conversations.Airline <>'0';\n",
    "\n",
    "                 \"\"\")\n",
    "        execute = cursor.execute(Query)\n",
    "        result = cursor.fetchall()\n",
    "        df2 = pd.DataFrame(result)\n",
    "        df2.columns = ['cID','init_sentiment','Length']\n",
    "        df2 = df2.set_index('cID')\n",
    "        return df2\n",
    "\n",
    "    except:\n",
    "        print(\"Error\")\n",
    "        return 0.00\n",
    "\n",
    "\n",
    "def sent_change():\n",
    "\n",
    "    # Find the median sentiment per airline\n",
    "    try:\n",
    "        Query = (f\"\"\"\n",
    "                SELECT bs1.cID, (bs1.sentiment_sum / bs1.tweet_count) - (bs2.sentiment_sum / bs2.tweet_count) AS average_sent_diff\n",
    "                FROM `binned_sentiment` bs1, `binned_sentiment` bs2, \n",
    "                    (SELECT cID, MAX(bin_position) AS max_pos \n",
    "                    FROM `binned_sentiment` \n",
    "                    GROUP BY cID) AS max_bins\n",
    "                \n",
    "                WHERE bs1.cID = bs2.cID AND bs1.cID = max_bins.cID \n",
    "                    AND bs1.bin_position= 1 AND bs2.bin_position=max_pos\n",
    "                    \"\"\")\n",
    "        execute = cursor.execute(Query)\n",
    "        result = cursor.fetchall()\n",
    "        df3 = pd.DataFrame(result)\n",
    "        df3.columns = ['cID','avg_sent_change']\n",
    "        df3 = df3.set_index('cID')\n",
    "        return df3\n",
    "\n",
    "    except:\n",
    "        print(\"Error\")\n",
    "        return 0.00\n",
    "\n",
    "def get_conversation_categories():\n",
    "    excluided = ['dm', 'customers', 'information']\n",
    "    relevant_categories = [key for key in categories.keys() if key not in excluided]\n",
    "    # for each conversation, get weather it incluides a category.\n",
    "    # returns a dataframe with the conversation id and the categorys\n",
    "    categories_query = \"\"\n",
    "\n",
    "    for category in relevant_categories:\n",
    "        categories_query += f\"(CASE WHEN tweets.{category} != 0 THEN 1 ELSE 0 END) AS {category}, \"\n",
    "\n",
    "    query = (f\"\"\"\n",
    "                SELECT part_of.cID, {categories_query[:-2]}\n",
    "                FROM tweets, part_of\n",
    "                WHERE tweets.id = part_of.tID \n",
    "                GROUP BY part_of.cID\n",
    "                \"\"\")\n",
    "    execute = cursor.execute(query)\n",
    "    result = cursor.fetchall()\n",
    "    df4 = pd.DataFrame(result)\n",
    "    df4.columns = ['cID'] + relevant_categories\n",
    "    # remove the index column\n",
    "    df4 = df4.set_index('cID')\n",
    "    return df4\n",
    "             "
   ]
  },
  {
   "cell_type": "code",
   "execution_count": 48,
   "metadata": {},
   "outputs": [],
   "source": [
    "df_avg_resp_time=avg_resp_time()\n",
    "df_sent_change=sent_change()\n",
    "df_init_sent=init_sent()\n",
    "df_convo_cat=get_conversation_categories()"
   ]
  },
  {
   "cell_type": "code",
   "execution_count": null,
   "metadata": {},
   "outputs": [],
   "source": [
    "# Join the data frames on the shared index 'cID'\n",
    "joined_df = pd.merge(df_avg_resp_time, df_sent_change, on='cID')\n",
    "joined_df = pd.merge(joined_df, df_init_sent, on='cID')\n",
    "joined_df = pd.merge(joined_df, df_convo_cat, on='cID')\n",
    "# Print the joined data frame\n",
    "print(joined_df)"
   ]
  },
  {
   "cell_type": "code",
   "execution_count": 39,
   "metadata": {},
   "outputs": [
    {
     "name": "stderr",
     "output_type": "stream",
     "text": [
      "C:\\Users\\andre\\AppData\\Local\\Temp\\ipykernel_27992\\506835923.py:14: FutureWarning: The default value of numeric_only in DataFrame.corr is deprecated. In a future version, it will default to False. Select only valid columns or specify the value of numeric_only to silence this warning.\n",
      "  corr = df.corr(method='spearman')\n"
     ]
    },
    {
     "data": {
      "image/png": "[encoded data removed]",
      "text/plain": [
       "<Figure size 700x600 with 2 Axes>"
      ]
     },
     "metadata": {},
     "output_type": "display_data"
    }
   ],
   "source": [
    "import numpy as np\n",
    "import pandas as pd\n",
    "import seaborn as sns\n",
    "import matplotlib.pyplot as plt\n",
    "\n",
    "\n",
    "\n",
    "\n",
    "def corr_matrix():\n",
    "    df =joined_df\n",
    "\n",
    "    df = df.iloc[:, 1:-1]\n",
    "\n",
    "    corr = df.corr(method='spearman')\n",
    "\n",
    "    # Generate a mask for the upper triangle\n",
    "    mask = np.zeros_like(corr, dtype=bool)\n",
    "    mask[np.triu_indices_from(mask)] = True\n",
    "\n",
    "    # Set up the matplotlib figure\n",
    "    fig, ax = plt.subplots(figsize=(7, 6))\n",
    "\n",
    "    # Generate a custom diverging colormap\n",
    "    cmap = sns.diverging_palette(220, 10, as_cmap=True, sep=100)\n",
    "\n",
    "    # Draw the heatmap with the mask and correct aspect ratio\n",
    "    sns.heatmap(corr, mask=mask, cmap=cmap, vmin=-1, vmax=1, center=0, linewidths=.5)\n",
    "\n",
    "    fig.suptitle('Correlation matrix of features', fontsize=15)\n",
    "\n",
    "\n",
    "    fig.tight_layout()\n",
    "\n",
    "corr_matrix()"
   ]
  },
  {
   "cell_type": "code",
   "execution_count": 46,
   "metadata": {},
   "outputs": [
    {
     "name": "stdout",
     "output_type": "stream",
     "text": [
      "Features                :  ['Por', 'Brittle', 'Perm', 'TOC']\n",
      "Regression Coefficients :  [244.6, 31.59, 86.87, 325.19]\n",
      "R-squared               :  0.95\n",
      "Y-intercept             :  -1575.27\n",
      "\n"
     ]
    }
   ],
   "source": [
    "from sklearn import linear_model\n",
    "file = 'https://aegis4048.github.io/downloads/notebooks/sample_data/unconv_MV_v5.csv'\n",
    "def multiple_regress():\n",
    "    df = pd.read_csv(file)\n",
    "\n",
    "    #substitue for actual feature names later\n",
    "    features = ['Por', 'Brittle', 'Perm', 'TOC']\n",
    "    target = 'Prod'\n",
    "\n",
    "    X = df[features].values.reshape(-1, len(features))\n",
    "    y = df[target].values\n",
    "\n",
    "    ols = linear_model.LinearRegression()\n",
    "    model = ols.fit(X, y)\n",
    "\n",
    "    #model.coef_\n",
    "\n",
    "    print('Features                :  %s' % features)\n",
    "    print('Regression Coefficients : ', [round(item, 2) for item in model.coef_])\n",
    "    print('R-squared               :  %.2f' % model.score(X, y))\n",
    "    print('Y-intercept             :  %.2f' % model.intercept_)\n",
    "    print('')\n",
    "multiple_regress()"
   ]
  },
  {
   "cell_type": "code",
   "execution_count": 35,
   "metadata": {},
   "outputs": [],
   "source": [
    "\n"
   ]
  },
  {
   "cell_type": "code",
   "execution_count": 36,
   "metadata": {},
   "outputs": [
    {
     "name": "stdout",
     "output_type": "stream",
     "text": [
      "             reply_time avg_sent_change  init_sentiment  Length  booking  \\\n",
      "cID                                                                        \n",
      "890         898345.0000        -0.40000        0.383205       2        0   \n",
      "896        6679164.5000        -0.16667       -0.756792       2        1   \n",
      "968       53019914.5000        -0.31667       -0.625706       2        0   \n",
      "978       35343511.3333        -0.60000       -0.846166       3        0   \n",
      "1641     100312772.0000        -0.40000       -0.556714       2        0   \n",
      "...                 ...             ...             ...     ...      ...   \n",
      "1030527    1956224.0000         0.00000        0.939009       2        0   \n",
      "1030546    7650142.5000        -1.20000       -0.825245       4        1   \n",
      "1030601   82270268.4000         0.00000       -0.770683       5        0   \n",
      "1030607     172833.5000        -0.70000       -0.869712       4        0   \n",
      "1030616     156554.5000        -0.50000        0.031116       4        0   \n",
      "\n",
      "         canceling  money  baggage  staff  waiting  boarding  stuck  \n",
      "cID                                                                  \n",
      "890              0      0        0      0        0         0      0  \n",
      "896              0      0        0      0        0         0      0  \n",
      "968              0      0        0      0        0         0      0  \n",
      "978              0      0        0      0        0         0      0  \n",
      "1641             0      0        0      0        0         0      0  \n",
      "...            ...    ...      ...    ...      ...       ...    ...  \n",
      "1030527          0      0        0      0        0         0      0  \n",
      "1030546          0      0        0      0        0         0      0  \n",
      "1030601          0      0        1      0        0         0      0  \n",
      "1030607          0      0        0      0        0         0      0  \n",
      "1030616          0      0        0      0        0         0      0  \n",
      "\n",
      "[20079 rows x 12 columns]\n"
     ]
    }
   ],
   "source": [
    "# Join the data frames on the shared index 'cID'\n",
    "joined_df = pd.merge(df_avg_resp_time, df_sent_change, on='cID')\n",
    "joined_df = pd.merge(joined_df, df_init_sent, on='cID')\n",
    "joined_df = pd.merge(joined_df, df_convo_cat, on='cID')\n",
    "# Print the joined data frame\n",
    "print(joined_df)"
   ]
  },
  {
   "cell_type": "code",
   "execution_count": 47,
   "metadata": {},
   "outputs": [
    {
     "data": {
      "text/plain": [
       "cID\n",
       "890        -0.40000\n",
       "896        -0.16667\n",
       "968        -0.31667\n",
       "978        -0.60000\n",
       "1641       -0.40000\n",
       "             ...   \n",
       "1030527     0.00000\n",
       "1030546    -1.20000\n",
       "1030601     0.00000\n",
       "1030607    -0.70000\n",
       "1030616    -0.50000\n",
       "Name: avg_sent_change, Length: 20079, dtype: object"
      ]
     },
     "execution_count": 47,
     "metadata": {},
     "output_type": "execute_result"
    }
   ],
   "source": [
    "df_avg_resp_time\n",
    "features = ['reply_time', 'init_sentiment', 'Length', 'booking','canceling','money','baggage','staff','waiting','boarding','stuck']\n",
    "joined_df[features].values.reshape(-1, len(features))\n",
    "joined_df['avg_sent_change']"
   ]
  }
 ],
 "metadata": {
  "kernelspec": {
   "display_name": "dbl",
   "language": "python",
   "name": "python3"
  },
  "language_info": {
   "codemirror_mode": {
    "name": "ipython",
    "version": 3
   },
   "file_extension": ".py",
   "mimetype": "text/x-python",
   "name": "python",
   "nbconvert_exporter": "python",
   "pygments_lexer": "ipython3",
   "version": "3.8.16"
  },
  "orig_nbformat": 4
 },
 "nbformat": 4,
 "nbformat_minor": 2
}
