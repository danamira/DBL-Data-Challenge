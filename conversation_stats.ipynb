{
 "cells": [
  {
   "cell_type": "code",
   "execution_count": 14,
   "metadata": {},
   "outputs": [],
   "source": [
    "# Module imports\n",
    "\n",
    "import database.connect\n",
    "import pandas as pd\n",
    "import numpy as np\n",
    "import statistics\n"
   ]
  },
  {
   "cell_type": "code",
   "execution_count": 15,
   "metadata": {},
   "outputs": [],
   "source": [
    "# Connect to SQL database\n",
    "\n",
    "connection=database.connect.getConnection()\n",
    "cursor=connection.cursor(buffered=True)"
   ]
  },
  {
   "cell_type": "code",
   "execution_count": 18,
   "metadata": {},
   "outputs": [
    {
     "name": "stdout",
     "output_type": "stream",
     "text": [
      "-0.2030935653860459\n",
      "-0.0770395\n",
      "-0.958237\n",
      "0.990045\n"
     ]
    }
   ],
   "source": [
    "def avg_sentiment(airline):\n",
    "\n",
    "    # Function takes in an airline and returns the mean sentiment\n",
    "\n",
    "    Query= (f\"SELECT AVG(sentiment) from tweets WHERE airlines = '[{airline}]'\")\n",
    "    execute=cursor.execute(Query)\n",
    "    result=cursor.fetchall()\n",
    "    return result[0][0]\n",
    "\n",
    "# TODO\n",
    "def median_sentiment(airline):\n",
    "\n",
    "    # Find the median sentiment per airline\n",
    "\n",
    "    Query = (f\"SELECT sentiment from tweets WHERE airlines = '[{airline}]' ORDER BY sentiment\")\n",
    "    execute = cursor.execute(Query)\n",
    "    result = cursor.fetchall()\n",
    "    values = [row[0] for row in result]\n",
    "    median = statistics.median(values)\n",
    "\n",
    "    return median\n",
    "\n",
    "def min_sentiment(airline):\n",
    "    \n",
    "    # Finds lowest sentiment by airline\n",
    "\n",
    "    # Sort all tweets about airline in ascending order, then take the first result (as this is the lowest)\n",
    "    Query = (f\"SELECT sentiment from tweets WHERE airlines = '[{airline}]' ORDER BY sentiment LIMIT 1\")\n",
    "\n",
    "    execute = cursor.execute(Query)\n",
    "    result = cursor.fetchall()\n",
    "    return result[0][0]\n",
    "\n",
    "def max_sentiment(airline):\n",
    "    \n",
    "    # Finds highest sentiment by airline\n",
    "\n",
    "    # Sort all tweets about airline in descending order, then take the first result (as this is the highest)\n",
    "    \n",
    "    Query = (f\"SELECT sentiment from tweets WHERE airlines = '[{airline}]' ORDER BY sentiment DESC LIMIT 1\")\n",
    "    execute = cursor.execute(Query)\n",
    "    result = cursor.fetchall()\n",
    "    return result[0][0]"
   ]
  },
  {
   "cell_type": "code",
   "execution_count": 17,
   "metadata": {},
   "outputs": [
    {
     "name": "stdout",
     "output_type": "stream",
     "text": [
      "AmericanAir: -0.24508366155477687\n",
      "british_airways: -0.1547976417776897\n",
      "airfrance: -0.01291698945695878\n",
      "klm: -0.2030935653860459\n",
      "ryanair: -0.20884195002392122\n",
      "etihad: 0.23762807755632692\n",
      "qantas: -0.17945743966237213\n",
      "virginatlantic: 0.3124578009244399\n",
      "lufthansa: -0.09383115622632922\n",
      "easyjet: -0.136083139327401\n",
      "AirBerlin: 0.08318431608911071\n",
      "AirBerlin assist: None\n",
      "SingaporeAir: -0.06852751463180358\n"
     ]
    }
   ],
   "source": [
    "eda = ({\n",
    "    'Airlines':['AmericanAir', 'british_airways', 'airfrance', 'klm','ryanair','etihad','qantas','virginatlantic', 'lufthansa', 'easyjet', 'AirBerlin', 'AirBerlin assist', 'SingaporeAir'],\n",
    "    'Mean': [0,0,0,0,0,0,0,0,0,0,0,0,0],\n",
    "    'Median': [0,0,0,0,0,0,0,0,0,0,0,0,0],\n",
    "    'Min': [0,0,0,0,0,0,0,0,0,0,0,0,0],\n",
    "    'Max': [0,0,0,0,0,0,0,0,0,0,0,0,0]})\n",
    "\n",
    "for i in eda['Airlines']:\n",
    "    eda['Mean'][i] = avg_sentiment(i)\n",
    "    eda['Median'][i] = median_sentiment(i)\n",
    "    eda['Min'][i] = min_sentiment(i)\n",
    "    eda['Max'][i] = max_sentiment(i)\n",
    "\n",
    "print(eda)"
   ]
  }
 ],
 "metadata": {
  "kernelspec": {
   "display_name": "dbl",
   "language": "python",
   "name": "python3"
  },
  "language_info": {
   "codemirror_mode": {
    "name": "ipython",
    "version": 3
   },
   "file_extension": ".py",
   "mimetype": "text/x-python",
   "name": "python",
   "nbconvert_exporter": "python",
   "pygments_lexer": "ipython3",
   "version": "3.8.16"
  },
  "orig_nbformat": 4
 },
 "nbformat": 4,
 "nbformat_minor": 2
}
