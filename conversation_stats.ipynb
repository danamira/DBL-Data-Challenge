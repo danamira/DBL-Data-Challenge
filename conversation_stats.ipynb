{
 "cells": [
  {
   "cell_type": "code",
   "execution_count": 71,
   "metadata": {},
   "outputs": [],
   "source": [
    "# Module imports\n",
    "\n",
    "import database.connect\n",
    "import pandas as pd\n",
    "import numpy as np\n"
   ]
  },
  {
   "cell_type": "code",
   "execution_count": 72,
   "metadata": {},
   "outputs": [],
   "source": [
    "# Connect to SQL database\n",
    "\n",
    "connection=database.connect.getConnection()\n",
    "cursor=connection.cursor(buffered=True)"
   ]
  },
  {
   "cell_type": "code",
   "execution_count": 85,
   "metadata": {},
   "outputs": [
    {
     "name": "stdout",
     "output_type": "stream",
     "text": [
      "-0.2030935653860459\n",
      "[(-0.958237,)]\n",
      "[(0.990045,)]\n"
     ]
    }
   ],
   "source": [
    "def avg_sentiment(airline):\n",
    "\n",
    "    # Function takes in an airline and returns the mean sentiment\n",
    "\n",
    "    Query= (f\"SELECT AVG(sentiment) from tweets WHERE airlines = '[{airline}]'\")\n",
    "    execute=cursor.execute(Query)\n",
    "    result=cursor.fetchall()\n",
    "    return result\n",
    "\n",
    "# TODO\n",
    "def median_sentiment(airline):\n",
    "    # Get count of tweets for airline\n",
    "    execute = cursor.execute(f\"SELECT COUNT(sentiment) from tweets WHERE airlines = '[{airline}]' ORDER BY sentiment\")\n",
    "    count = cursor.fetchall()\n",
    "    med_index = count[0][0]//2\n",
    "\n",
    "    print(count)\n",
    "    print(med_index)\n",
    "\n",
    "    # Get all tweets for airline\n",
    "    Query = (f\"SELECT sentiment from tweets WHERE airlines = '[{airline}]' ORDER BY sentiment LIMIT 1\")\n",
    "    execute = cursor.execute(Query)\n",
    "    result = cursor.fetchall()\n",
    "    print(result)\n",
    "#    print(result[0][med_index - 1])\n",
    "\n",
    "def min_sentiment(airline):\n",
    "    \n",
    "    # Finds lowest sentiment by airline\n",
    "\n",
    "    # Sort all tweets about airline in ascending order, then take the first result (as this is the lowest)\n",
    "    Query = (f\"SELECT sentiment from tweets WHERE airlines = '[{airline}]' ORDER BY sentiment LIMIT 1\")\n",
    "\n",
    "    execute = cursor.execute(Query)\n",
    "    result = cursor.fetchall()\n",
    "    return result\n",
    "\n",
    "def max_sentiment(airline):\n",
    "    \n",
    "    # Finds highest sentiment by airline\n",
    "\n",
    "    # Sort all tweets about airline in descending order, then take the first result (as this is the highest)\n",
    "    \n",
    "    Query = (f\"SELECT sentiment from tweets WHERE airlines = '[{airline}]' ORDER BY sentiment DESC LIMIT 1\")\n",
    "    execute = cursor.execute(Query)\n",
    "    result = cursor.fetchall()\n",
    "    return result\n",
    "\n",
    "print(avg_sentiment('klm'))\n",
    "# print(median_sentiment('klm'))\n",
    "print(min_sentiment('klm'))\n",
    "print(max_sentiment('klm'))"
   ]
  },
  {
   "cell_type": "code",
   "execution_count": 74,
   "metadata": {},
   "outputs": [
    {
     "name": "stdout",
     "output_type": "stream",
     "text": [
      "AmericanAir: [(-0.24508366155477687,)]\n",
      "british_airways: [(-0.1547976417776897,)]\n",
      "airfrance: [(-0.01291698945695878,)]\n",
      "klm: [(-0.2030935653860459,)]\n",
      "ryanair: [(-0.20884195002392122,)]\n",
      "etihad: [(0.23762807755632692,)]\n",
      "qantas: [(-0.17945743966237213,)]\n",
      "virginatlantic: [(0.3124578009244399,)]\n",
      "lufthansa: [(-0.09383115622632922,)]\n",
      "easyjet: [(-0.136083139327401,)]\n"
     ]
    }
   ],
   "source": [
    "airline_mean_sentiments = ({\n",
    "    'Airlines':['AmericanAir', 'british_airways', 'airfrance', 'klm','ryanair','etihad','qantas','virginatlantic', 'lufthansa', 'easyjet'],\n",
    "    'Sentiments': [0,0,0,0,0,0,0,0,0,0]})\n",
    "\n",
    "#avg_df = pd.DataFrame(airline_mean_sentiments)\n",
    "\n",
    "for i in airline_mean_sentiments['Airlines']:\n",
    "    print(f'{i}: {avg_sentiment(i)}')"
   ]
  }
 ],
 "metadata": {
  "kernelspec": {
   "display_name": "dbl",
   "language": "python",
   "name": "python3"
  },
  "language_info": {
   "codemirror_mode": {
    "name": "ipython",
    "version": 3
   },
   "file_extension": ".py",
   "mimetype": "text/x-python",
   "name": "python",
   "nbconvert_exporter": "python",
   "pygments_lexer": "ipython3",
   "version": "3.8.16"
  },
  "orig_nbformat": 4
 },
 "nbformat": 4,
 "nbformat_minor": 2
}
