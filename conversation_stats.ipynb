{
 "cells": [
  {
   "cell_type": "code",
   "execution_count": 14,
   "metadata": {},
   "outputs": [],
   "source": [
    "import database.connect\n"
   ]
  },
  {
   "cell_type": "code",
   "execution_count": 15,
   "metadata": {},
   "outputs": [],
   "source": [
    "connection=database.connect.getConnection()\n",
    "cursor=connection.cursor()"
   ]
  },
  {
   "cell_type": "code",
   "execution_count": 19,
   "metadata": {},
   "outputs": [
    {
     "name": "stdout",
     "output_type": "stream",
     "text": [
      "[(-0.2030935653860459,)]\n"
     ]
    }
   ],
   "source": [
    "def avg_sentiment(airline):\n",
    "    # Function takes in an airline and returns the mean sentiment\n",
    "    \n",
    "    Query= (f\"SELECT AVG(sentiment) from tweets WHERE airlines = '[{airline}]'\")\n",
    "    execute=cursor.execute(Query)\n",
    "    result=cursor.fetchall()\n",
    "    return result\n",
    "\n",
    "print(avg_sentiment('klm'))"
   ]
  }
 ],
 "metadata": {
  "kernelspec": {
   "display_name": "dbl",
   "language": "python",
   "name": "python3"
  },
  "language_info": {
   "codemirror_mode": {
    "name": "ipython",
    "version": 3
   },
   "file_extension": ".py",
   "mimetype": "text/x-python",
   "name": "python",
   "nbconvert_exporter": "python",
   "pygments_lexer": "ipython3",
   "version": "3.8.16"
  },
  "orig_nbformat": 4
 },
 "nbformat": 4,
 "nbformat_minor": 2
}
