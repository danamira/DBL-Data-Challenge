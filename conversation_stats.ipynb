{
 "cells": [
  {
   "cell_type": "code",
   "execution_count": 22,
   "metadata": {},
   "outputs": [],
   "source": [
    "# Module imports\n",
    "\n",
    "import database.connect\n",
    "import pandas as pd\n",
    "import numpy as np\n"
   ]
  },
  {
   "cell_type": "code",
   "execution_count": 15,
   "metadata": {},
   "outputs": [],
   "source": [
    "# Connect to SQL database\n",
    "\n",
    "connection=database.connect.getConnection()\n",
    "cursor=connection.cursor()"
   ]
  },
  {
   "cell_type": "code",
   "execution_count": 19,
   "metadata": {},
   "outputs": [
    {
     "name": "stdout",
     "output_type": "stream",
     "text": [
      "[(-0.2030935653860459,)]\n"
     ]
    }
   ],
   "source": [
    "def avg_sentiment(airline):\n",
    "\n",
    "    # Function takes in an airline and returns the mean sentiment\n",
    "\n",
    "    Query= (f\"SELECT AVG(sentiment) from tweets WHERE airlines = '[{airline}]'\")\n",
    "    execute=cursor.execute(Query)\n",
    "    result=cursor.fetchall()\n",
    "    return result"
   ]
  },
  {
   "cell_type": "code",
   "execution_count": 40,
   "metadata": {},
   "outputs": [
    {
     "ename": "SyntaxError",
     "evalue": "EOL while scanning string literal (3612110056.py, line 8)",
     "output_type": "error",
     "traceback": [
      "\u001b[1;36m  Cell \u001b[1;32mIn[40], line 8\u001b[1;36m\u001b[0m\n\u001b[1;33m    print(f'{i}: {avg_sentiment(i)})\u001b[0m\n\u001b[1;37m                                    ^\u001b[0m\n\u001b[1;31mSyntaxError\u001b[0m\u001b[1;31m:\u001b[0m EOL while scanning string literal\n"
     ]
    }
   ],
   "source": [
    "airline_mean_sentiments = ({\n",
    "    'Airlines':['AmericanAir', 'british_airways', 'airfrance', 'klm','ryanair','etihad','qantas','virginatlantic', 'lufthansa', 'easyjet'],\n",
    "    'Sentiments': [0,0,0,0,0,0,0,0,0,0]})\n",
    "\n",
    "avg_df = pd.DataFrame(airline_mean_sentiments)\n",
    "\n",
    "for i in airline_mean_sentiments['Airlines']:\n",
    "    print(f'{i}: {avg_sentiment(i)}')"
   ]
  }
 ],
 "metadata": {
  "kernelspec": {
   "display_name": "dbl",
   "language": "python",
   "name": "python3"
  },
  "language_info": {
   "codemirror_mode": {
    "name": "ipython",
    "version": 3
   },
   "file_extension": ".py",
   "mimetype": "text/x-python",
   "name": "python",
   "nbconvert_exporter": "python",
   "pygments_lexer": "ipython3",
   "version": "3.8.16"
  },
  "orig_nbformat": 4
 },
 "nbformat": 4,
 "nbformat_minor": 2
}
