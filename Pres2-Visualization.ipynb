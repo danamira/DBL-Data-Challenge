{
 "cells": [
  {
   "cell_type": "markdown",
   "id": "145b8ab4",
   "metadata": {},
   "source": [
    "<h1>Visualizations for the second presentation</h1>\n",
    "<p>Dana Mirafzal-07/06/2023</p>"
   ]
  },
  {
   "cell_type": "code",
   "execution_count": 182,
   "id": "bfe34191",
   "metadata": {},
   "outputs": [],
   "source": [
    "########### Imports ###########\n",
    "from database.connect import getConnection\n",
    "import seaborn as sns\n",
    "import pandas as pd\n",
    "import matplotlib.pyplot as plt"
   ]
  },
  {
   "cell_type": "code",
   "execution_count": 183,
   "id": "d793d852",
   "metadata": {},
   "outputs": [],
   "source": [
    "########### Setups ###########\n",
    "sns.set()\n",
    "connection=getConnection()\n",
    "cursor=connection.cursor()"
   ]
  },
  {
   "cell_type": "markdown",
   "id": "cf193cee",
   "metadata": {},
   "source": [
    "<h2>Conversation Statistics</h2>"
   ]
  },
  {
   "cell_type": "code",
   "execution_count": 184,
   "id": "4d3980a5",
   "metadata": {},
   "outputs": [],
   "source": [
    "airlines=['KLM','AirFrance','British_Airways','AmericanAir','Lufthansa','AirBerlin','AirBerlin assist','easyJet','RyanAir','SingaporeAir','Qantas','EtihadAirways','VirginAtlantic']\n",
    "desiredAirlines=['AmericanAir','British_Airways']"
   ]
  },
  {
   "cell_type": "code",
   "execution_count": 185,
   "id": "35bc4f7e",
   "metadata": {},
   "outputs": [],
   "source": [
    "lengths=[]"
   ]
  },
  {
   "cell_type": "code",
   "execution_count": 186,
   "id": "dc7515dd",
   "metadata": {},
   "outputs": [],
   "source": [
    "cursor.execute(\"SELECT * FROM conversations\")\n",
    "allConversations=cursor.fetchall()"
   ]
  },
  {
   "cell_type": "code",
   "execution_count": 187,
   "id": "e533cf70",
   "metadata": {},
   "outputs": [],
   "source": [
    "for conversation in allConversations:\n",
    "    \n",
    "    conv_length=conversation[4]\n",
    "    conv_airlines=conversation[3].replace('[','').replace(']','').split(',')\n",
    "    conv_airlines=[x for x in conv_airlines if x!='0']\n",
    "    for airline in airlines:\n",
    "        if(airline in conv_airlines):\n",
    "            if(airline in desiredAirlines):\n",
    "                lengths.append((airline,conv_length))\n",
    "            else:\n",
    "                lengths.append((\"Others\",conv_length))\n",
    "    \n"
   ]
  },
  {
   "cell_type": "code",
   "execution_count": 188,
   "id": "c530add2",
   "metadata": {},
   "outputs": [],
   "source": [
    "## Create dataframe based on the data points gathered from the database\n",
    "df=pd.DataFrame(lengths,columns=['Airline','Length'])"
   ]
  },
  {
   "cell_type": "code",
   "execution_count": 189,
   "id": "7dcecebe",
   "metadata": {},
   "outputs": [],
   "source": []
  },
  {
   "cell_type": "code",
   "execution_count": 204,
   "id": "8d905415",
   "metadata": {},
   "outputs": [
    {
     "data": {
      "text/html": [
       "<div>\n",
       "<style scoped>\n",
       "    .dataframe tbody tr th:only-of-type {\n",
       "        vertical-align: middle;\n",
       "    }\n",
       "\n",
       "    .dataframe tbody tr th {\n",
       "        vertical-align: top;\n",
       "    }\n",
       "\n",
       "    .dataframe thead tr th {\n",
       "        text-align: left;\n",
       "    }\n",
       "\n",
       "    .dataframe thead tr:last-of-type th {\n",
       "        text-align: right;\n",
       "    }\n",
       "</style>\n",
       "<table border=\"1\" class=\"dataframe\">\n",
       "  <thead>\n",
       "    <tr>\n",
       "      <th></th>\n",
       "      <th colspan=\"4\" halign=\"left\">Length</th>\n",
       "    </tr>\n",
       "    <tr>\n",
       "      <th></th>\n",
       "      <th>min</th>\n",
       "      <th>max</th>\n",
       "      <th>median</th>\n",
       "      <th>mean</th>\n",
       "    </tr>\n",
       "    <tr>\n",
       "      <th>Airline</th>\n",
       "      <th></th>\n",
       "      <th></th>\n",
       "      <th></th>\n",
       "      <th></th>\n",
       "    </tr>\n",
       "  </thead>\n",
       "  <tbody>\n",
       "    <tr>\n",
       "      <th>AmericanAir</th>\n",
       "      <td>2</td>\n",
       "      <td>53</td>\n",
       "      <td>2.0</td>\n",
       "      <td>3.011797</td>\n",
       "    </tr>\n",
       "    <tr>\n",
       "      <th>British_Airways</th>\n",
       "      <td>2</td>\n",
       "      <td>44</td>\n",
       "      <td>3.0</td>\n",
       "      <td>3.312946</td>\n",
       "    </tr>\n",
       "    <tr>\n",
       "      <th>Others</th>\n",
       "      <td>2</td>\n",
       "      <td>57</td>\n",
       "      <td>2.0</td>\n",
       "      <td>3.157341</td>\n",
       "    </tr>\n",
       "  </tbody>\n",
       "</table>\n",
       "</div>"
      ],
      "text/plain": [
       "                Length                     \n",
       "                   min max median      mean\n",
       "Airline                                    \n",
       "AmericanAir          2  53    2.0  3.011797\n",
       "British_Airways      2  44    3.0  3.312946\n",
       "Others               2  57    2.0  3.157341"
      ]
     },
     "execution_count": 204,
     "metadata": {},
     "output_type": "execute_result"
    }
   ],
   "source": [
    "# Summary statistics about the conversation lengths for different airlines\n",
    "b=df.groupby('Airline')\n",
    "b.agg(['min','max','median','mean'])"
   ]
  },
  {
   "cell_type": "code",
   "execution_count": 214,
   "id": "d5764271",
   "metadata": {},
   "outputs": [
    {
     "data": {
      "text/plain": [
       "Text(0, 0.5, 'Length of conversations')"
      ]
     },
     "execution_count": 214,
     "metadata": {},
     "output_type": "execute_result"
    },
    {
     "data": {
      "image/png": "[encoded data removed]",
      "text/plain": [
       "<Figure size 800x800 with 1 Axes>"
      ]
     },
     "metadata": {},
     "output_type": "display_data"
    }
   ],
   "source": [
    "\n",
    "fig, ax = plt.subplots(figsize=(8,8))\n",
    "sns.boxplot(x=\"Airline\",y=\"Length\",data=df,palette='colorblind',ax=ax,showfliers=False)\n",
    "ax.set_title(\"Length of conversations based on airline\",fontsize=16,pad=20)\n",
    "ax.set_ylabel(\"Length of conversations\")\n"
   ]
  },
  {
   "cell_type": "code",
   "execution_count": 191,
   "id": "35d7de39",
   "metadata": {},
   "outputs": [],
   "source": [
    "onlyAmericanAir=df[df['Airline']=='AmericanAir']\n",
    "onlyAmericanAir.plot(kind='kde',title='Distribution of conversation length for American Airlines',xlim=(0,60),xlabel=\"Conversation Lengths\")"
   ]
  },
  {
   "cell_type": "code",
   "execution_count": null,
   "id": "33dc84aa",
   "metadata": {},
   "outputs": [],
   "source": []
  }
 ],
 "metadata": {
  "kernelspec": {
   "display_name": "Python 3 (ipykernel)",
   "language": "python",
   "name": "python3"
  },
  "language_info": {
   "codemirror_mode": {
    "name": "ipython",
    "version": 3
   },
   "file_extension": ".py",
   "mimetype": "text/x-python",
   "name": "python",
   "nbconvert_exporter": "python",
   "pygments_lexer": "ipython3",
   "version": "3.11.0"
  }
 },
 "nbformat": 4,
 "nbformat_minor": 5
}
