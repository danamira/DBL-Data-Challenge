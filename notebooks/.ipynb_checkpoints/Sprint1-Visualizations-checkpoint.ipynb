{
 "cells": [
  {
   "cell_type": "code",
   "execution_count": 1,
   "id": "c3366f2a",
   "metadata": {},
   "outputs": [],
   "source": [
    "import matplotlib.pyplot as plt\n",
    "import seaborn\n",
    "import mysql.connector\n",
    "import pandas as pd\n",
    "import config.env\n"
   ]
  },
  {
   "cell_type": "code",
   "execution_count": 2,
   "id": "eda8f378",
   "metadata": {},
   "outputs": [
    {
     "ename": "NameError",
     "evalue": "name 'config' is not defined",
     "output_type": "error",
     "traceback": [
      "\u001b[0;31m---------------------------------------------------------------------------\u001b[0m",
      "\u001b[0;31mNameError\u001b[0m                                 Traceback (most recent call last)",
      "Cell \u001b[0;32mIn[2], line 2\u001b[0m\n\u001b[1;32m      1\u001b[0m \u001b[39m# Setting up the database and the cursos\u001b[39;00m\n\u001b[0;32m----> 2\u001b[0m db \u001b[39m=\u001b[39m mysql\u001b[39m.\u001b[39mconnector\u001b[39m.\u001b[39mconnect(host\u001b[39m=\u001b[39mconfig\u001b[39m.\u001b[39menv\u001b[39m.\u001b[39mgetConfig(\u001b[39m'\u001b[39m\u001b[39mDB_HOST\u001b[39m\u001b[39m'\u001b[39m), user\u001b[39m=\u001b[39mconfig\u001b[39m.\u001b[39menv\u001b[39m.\u001b[39mgetConfig(\u001b[39m'\u001b[39m\u001b[39mDB_USERNAME\u001b[39m\u001b[39m'\u001b[39m),\n\u001b[1;32m      3\u001b[0m                                  password\u001b[39m=\u001b[39mconfig\u001b[39m.\u001b[39menv\u001b[39m.\u001b[39mgetConfig(\u001b[39m'\u001b[39m\u001b[39mDB_PASSWORD\u001b[39m\u001b[39m'\u001b[39m),database\u001b[39m=\u001b[39mconfig\u001b[39m.\u001b[39menv\u001b[39m.\u001b[39mgetConfig(\u001b[39m'\u001b[39m\u001b[39mDB_DATABASE\u001b[39m\u001b[39m'\u001b[39m))\n",
      "\u001b[0;31mNameError\u001b[0m: name 'config' is not defined"
     ]
    }
   ],
   "source": [
    "# Setting up the database and the cursos\n",
    "db = mysql.connector.connect(host=config.env.getConfig('DB_HOST'), user=config.env.getConfig('DB_USERNAME'),\n",
    "                                 password=config.env.getConfig('DB_PASSWORD'),database=config.env.getConfig('DB_DATABASE'))\n"
   ]
  },
  {
   "cell_type": "code",
   "execution_count": null,
   "id": "dd935e68",
   "metadata": {},
   "outputs": [],
   "source": []
  }
 ],
 "metadata": {
  "kernelspec": {
   "display_name": "Python 3 (ipykernel)",
   "language": "python",
   "name": "python3"
  },
  "language_info": {
   "codemirror_mode": {
    "name": "ipython",
    "version": 3
   },
   "file_extension": ".py",
   "mimetype": "text/x-python",
   "name": "python",
   "nbconvert_exporter": "python",
   "pygments_lexer": "ipython3",
   "version": "3.9.13"
  }
 },
 "nbformat": 4,
 "nbformat_minor": 5
}
