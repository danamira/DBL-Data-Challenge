{
 "cells": [
  {
   "cell_type": "markdown",
   "id": "f8468b34",
   "metadata": {},
   "source": [
    "<h2>Language Validation</h2>\n",
    "<p>This notebook is created in order to validate our language detection approach for tweets and assess the accuracy of the used model.</p>\n",
    "<p>An external set of data has been used which provides text with correctly labeled language. The dataset is available on Kaggle and can be accessed through <a href=\"https://www.kaggle.com/datasets/basilb2s/language-detection?resource=download\">this link</a>.</p>"
   ]
  },
  {
   "cell_type": "code",
   "execution_count": 1,
   "id": "41399436",
   "metadata": {},
   "outputs": [],
   "source": [
    "# Importing modules\n",
    "from langdetect import detect\n",
    "import pandas as pd\n",
    "from ISO6391 import languages"
   ]
  },
  {
   "cell_type": "markdown",
   "id": "485fd348",
   "metadata": {},
   "source": [
    "The module `ISO6391.py` provides a tuple of language names and their code in the ISO 639-1 standard. This tuple is available on GitHub an can be accessed via <a href=\"https://gist.github.com/alexanderjulo/4073388\"> this link</a>."
   ]
  },
  {
   "cell_type": "code",
   "execution_count": 2,
   "id": "48c863f7",
   "metadata": {},
   "outputs": [],
   "source": [
    "# Loading the test data\n",
    "df=pd.read_csv('data/lang_validation.csv')"
   ]
  },
  {
   "cell_type": "code",
   "execution_count": 3,
   "id": "24cb1d7a",
   "metadata": {},
   "outputs": [
    {
     "data": {
      "text/html": [
       "<div>\n",
       "<style scoped>\n",
       "    .dataframe tbody tr th:only-of-type {\n",
       "        vertical-align: middle;\n",
       "    }\n",
       "\n",
       "    .dataframe tbody tr th {\n",
       "        vertical-align: top;\n",
       "    }\n",
       "\n",
       "    .dataframe thead th {\n",
       "        text-align: right;\n",
       "    }\n",
       "</style>\n",
       "<table border=\"1\" class=\"dataframe\">\n",
       "  <thead>\n",
       "    <tr style=\"text-align: right;\">\n",
       "      <th></th>\n",
       "      <th>Text</th>\n",
       "      <th>Language</th>\n",
       "    </tr>\n",
       "  </thead>\n",
       "  <tbody>\n",
       "    <tr>\n",
       "      <th>0</th>\n",
       "      <td>Nature, in the broadest sense, is the natural...</td>\n",
       "      <td>English</td>\n",
       "    </tr>\n",
       "    <tr>\n",
       "      <th>1</th>\n",
       "      <td>\"Nature\" can refer to the phenomena of the phy...</td>\n",
       "      <td>English</td>\n",
       "    </tr>\n",
       "    <tr>\n",
       "      <th>2</th>\n",
       "      <td>The study of nature is a large, if not the onl...</td>\n",
       "      <td>English</td>\n",
       "    </tr>\n",
       "    <tr>\n",
       "      <th>3</th>\n",
       "      <td>Although humans are part of nature, human acti...</td>\n",
       "      <td>English</td>\n",
       "    </tr>\n",
       "    <tr>\n",
       "      <th>4</th>\n",
       "      <td>[1] The word nature is borrowed from the Old F...</td>\n",
       "      <td>English</td>\n",
       "    </tr>\n",
       "  </tbody>\n",
       "</table>\n",
       "</div>"
      ],
      "text/plain": [
       "                                                Text Language\n",
       "0   Nature, in the broadest sense, is the natural...  English\n",
       "1  \"Nature\" can refer to the phenomena of the phy...  English\n",
       "2  The study of nature is a large, if not the onl...  English\n",
       "3  Although humans are part of nature, human acti...  English\n",
       "4  [1] The word nature is borrowed from the Old F...  English"
      ]
     },
     "execution_count": 3,
     "metadata": {},
     "output_type": "execute_result"
    }
   ],
   "source": [
    "# Checking if the data has been loaded correctly\n",
    "df.head()"
   ]
  },
  {
   "cell_type": "markdown",
   "id": "57aec980",
   "metadata": {},
   "source": [
    "<h4>Checking if all of the language names match</h4>"
   ]
  },
  {
   "cell_type": "code",
   "execution_count": 4,
   "id": "e1f10ca2",
   "metadata": {},
   "outputs": [],
   "source": [
    "languagesInDataframe=df['Language'].unique()"
   ]
  },
  {
   "cell_type": "code",
   "execution_count": 5,
   "id": "a980d371",
   "metadata": {},
   "outputs": [],
   "source": [
    "languageNames=[i[1] for i in languages]"
   ]
  },
  {
   "cell_type": "code",
   "execution_count": 6,
   "id": "dcd8e65e",
   "metadata": {},
   "outputs": [],
   "source": [
    "# There are a couple of adjustments needed in the languageNames list: \n",
    "def adjustForLanguages(lang):\n",
    "    if lang==\"Spanish; Castilian\":\n",
    "        return \"Spanish\"\n",
    "    if lang==\"Dutch; Flemish\":\n",
    "        return \"Dutch\"\n",
    "    if lang==\"Greek, Modern (1453-)\":\n",
    "        return \"Greek\"\n",
    "    if lang==\"Swedish\":\n",
    "        # Sorry Alicia. The package was the one who misspelled it :(\n",
    "        return \"Sweedish\"\n",
    "    if lang==\"Portuguese\":\n",
    "        return \"Portugeese\"\n",
    "    return lang\n",
    "languageNames=list(map(adjustForLanguages,languageNames))"
   ]
  },
  {
   "cell_type": "code",
   "execution_count": 7,
   "id": "540b2769",
   "metadata": {},
   "outputs": [],
   "source": [
    "# Expecting nothing to be printed here\n",
    "for lang in languagesInDataframe:\n",
    "    if not lang in languageNames:\n",
    "        print(lang)"
   ]
  },
  {
   "cell_type": "code",
   "execution_count": 8,
   "id": "31b0324b",
   "metadata": {},
   "outputs": [],
   "source": [
    "langsDict={}\n",
    "for i in range(len(languages)):\n",
    "    langsDict[languageNames[i]]=languages[i][0]"
   ]
  },
  {
   "cell_type": "markdown",
   "id": "790ff1b8",
   "metadata": {},
   "source": [
    "<h3>Testing the accuracy</h3"
   ]
  },
  {
   "cell_type": "code",
   "execution_count": 35,
   "id": "ea5090b9",
   "metadata": {},
   "outputs": [],
   "source": [
    "correctDetections=0\n",
    "numberOfSamples=len(df.index)"
   ]
  },
  {
   "cell_type": "code",
   "execution_count": 36,
   "id": "316114db",
   "metadata": {},
   "outputs": [],
   "source": [
    "mistakes={}\n",
    "for i in list(langsDict.values()):\n",
    "    mistakes[i]=[]"
   ]
  },
  {
   "cell_type": "code",
   "execution_count": 37,
   "id": "1f01c00d",
   "metadata": {},
   "outputs": [
    {
     "name": "stdout",
     "output_type": "stream",
     "text": [
      "Text        (2008).\n",
      "Language    Spanish\n",
      "Name: 5087, dtype: object\n",
      "Text            3].\n",
      "Language    Russian\n",
      "Name: 6035, dtype: object\n",
      "Text           4]).\n",
      "Language    Russian\n",
      "Name: 6056, dtype: object\n",
      "Text             .\n",
      "Language    Arabic\n",
      "Name: 9109, dtype: object\n",
      "Text             .\n",
      "Language    Arabic\n",
      "Name: 9110, dtype: object\n"
     ]
    }
   ],
   "source": [
    "for index,row in df.iterrows():\n",
    "    try:\n",
    "        detection=detect(row[\"Text\"])\n",
    "        actualLanguage=langsDict[row[\"Language\"]]\n",
    "        if detection==actualLanguage:\n",
    "            correctDetections+=1\n",
    "        else:\n",
    "            mistakes[actualLanguage].append(detection)\n",
    "    except:\n",
    "        print(row)"
   ]
  },
  {
   "cell_type": "markdown",
   "id": "8ee8b3ba",
   "metadata": {},
   "source": [
    "<p> As seen in the previous block, there are four mis-labeled data points in our testing set which compared to it's size of 10337 is negligble.</p> <p>The accuracy of the model is as follows:</p>"
   ]
  },
  {
   "cell_type": "code",
   "execution_count": 38,
   "id": "b12feb6f",
   "metadata": {},
   "outputs": [
    {
     "name": "stdout",
     "output_type": "stream",
     "text": [
      "Accuracy:  0.9551127019444713\n"
     ]
    }
   ],
   "source": [
    "print(\"Accuracy: \",(correctDetections/numberOfSamples))\n",
    "print(\"Number of correct detections: \",correctDetections)"
   ]
  },
  {
   "cell_type": "markdown",
   "id": "2c75f18c",
   "metadata": {},
   "source": [
    "<h4>Model accuracy</h4>\n",
    "When running the code on June 20th The model provided correct detections on 9873 samples out of the 10337 data points in total.</p> "
   ]
  },
  {
   "cell_type": "markdown",
   "id": "7b4378ee",
   "metadata": {},
   "source": [
    "<h3>Likely Detection Errors</h3>"
   ]
  },
  {
   "cell_type": "markdown",
   "id": "17e8edb8",
   "metadata": {},
   "source": [
    "<p>In the list below you can see which languages are likely to be mistaken with what languages:</p>"
   ]
  },
  {
   "cell_type": "code",
   "execution_count": 42,
   "id": "d6aee3d8",
   "metadata": {},
   "outputs": [
    {
     "name": "stdout",
     "output_type": "stream",
     "text": [
      "ar\n",
      "1\n",
      "['fa']\n",
      "-------------------------\n",
      "da\n",
      "66\n",
      "['en', 'de', 'no', 'sq', 'no', 'no', 'no', 'no', 'no', 'no', 'sv', 'sv', 'no', 'no', 'no', 'no', 'no', 'no', 'so', 'no', 'nl', 'no', 'fr', 'hr', 'so', 'sv', 'no', 'no', 'no', 'no', 'sv', 'id', 'no', 'no', 'no', 'af', 'no', 'no', 'no', 'nl', 'no', 'no', 'no', 'no', 'no', 'no', 'no', 'no', 'no', 'no', 'no', 'no', 'no', 'no', 'no', 'no', 'no', 'af', 'et', 'hr', 'no', 'et', 'af', 'no', 'no', 'no']\n",
      "-------------------------\n",
      "de\n",
      "22\n",
      "['en', 'et', 'et', 'ca', 'fr', 'et', 'hu', 'af', 'af', 'no', 'af', 'en', 'af', 'da', 'pl', 'nl', 'et', 'sv', 'af', 'en', 'af', 'fr']\n",
      "-------------------------\n",
      "nl\n",
      "74\n",
      "['af', 'en', 'de', 'af', 'af', 'af', 'af', 'af', 'af', 'af', 'af', 'af', 'af', 'af', 'af', 'no', 'hr', 'af', 'af', 'fr', 'af', 'af', 'de', 'af', 'hr', 'hr', 'cs', 'af', 'af', 'ro', 'pl', 'af', 'af', 'sl', 'cy', 'af', 'en', 'af', 'af', 'es', 'af', 'af', 'da', 'af', 'af', 'da', 'af', 'so', 'af', 'af', 'af', 'af', 'af', 'af', 'af', 'sl', 'af', 'af', 'af', 'af', 'so', 'da', 'da', 'af', 'af', 'no', 'af', 'hr', 'af', 'af', 'af', 'af', 'af', 'af']\n",
      "-------------------------\n",
      "en\n",
      "58\n",
      "['fr', 'cy', 'fr', 'af', 'fr', 'vi', 'sv', 'so', 'so', 'sv', 'so', 'cy', 'sv', 'af', 'it', 'tl', 'cy', 'cs', 'hr', 'no', 'sq', 'pl', 'sv', 'ca', 'da', 'it', 'af', 'af', 'pt', 'tl', 'da', 'nl', 'fr', 'tl', 'af', 'cy', 'no', 'cy', 'fi', 'so', 'fr', 'sq', 'fr', 'tl', 'af', 'fi', 'fr', 'es', 'it', 'cy', 'cy', 'hr', 'cy', 'cy', 'cy', 'fr', 'tl', 'af']\n",
      "-------------------------\n",
      "fr\n",
      "30\n",
      "['id', 'lv', 'nl', 'ca', 'pt', 'af', 'tr', 'lv', 'af', 'cs', 'lt', 'lt', 'ca', 'it', 'tl', 'ca', 'es', 'es', 'da', 'es', 'id', 'it', 'ca', 'hu', 'de', 'sl', 'nl', 'it', 'sl', 'ca']\n",
      "-------------------------\n",
      "hi\n",
      "1\n",
      "['mr']\n",
      "-------------------------\n",
      "it\n",
      "30\n",
      "['ca', 'ro', 'no', 'lt', 'de', 'es', 'id', 'lt', 'ro', 'pt', 'es', 'fi', 'pt', 'pt', 'sq', 'tl', 'es', 'da', 'ro', 'hr', 'pt', 'es', 'lt', 'no', 'pt', 'en', 'pl', 'fr', 'pt', 'ca']\n",
      "-------------------------\n",
      "ml\n",
      "1\n",
      "['en']\n",
      "-------------------------\n",
      "pt\n",
      "29\n",
      "['en', 'es', 'ca', 'es', 'it', 'de', 'it', 'it', 'es', 'lt', 'de', 'sk', 'cy', 'it', 'it', 'es', 'it', 'nl', 'sq', 'et', 'ca', 'es', 'fr', 'ca', 'et', 'it', 'ro', 'en', 'sk']\n",
      "-------------------------\n",
      "ru\n",
      "29\n",
      "['bg', 'bg', 'bg', 'bg', 'et', 'bg', 'mk', 'mk', 'bg', 'mk', 'uk', 'bg', 'mk', 'mk', 'bg', 'uk', 'bg', 'mk', 'uk', 'bg', 'bg', 'uk', 'uk', 'bg', 'uk', 'uk', 'mk', 'bg', 'bg']\n",
      "-------------------------\n",
      "es\n",
      "60\n",
      "['pt', 'pt', 'ca', 'fr', 'fr', 'it', 'pt', 'pt', 'pt', 'pt', 'pt', 'it', 'it', 'pt', 'it', 'pt', 'pt', 'it', 'sv', 'pt', 'pt', 'cs', 'it', 'fr', 'it', 'ca', 'pt', 'hu', 'pt', 'tl', 'pt', 'ca', 'cs', 'no', 'nl', 'da', 'pt', 'pt', 'it', 'en', 'it', 'it', 'pt', 'ca', 'sq', 'it', 'pt', 'fr', 'it', 'ro', 'pt', 'sk', 'pt', 'ro', 'ro', 'ro', 'pt', 'pt', 'pt', 'it']\n",
      "-------------------------\n",
      "sv\n",
      "40\n",
      "['no', 'no', 'en', 'no', 'en', 'de', 'da', 'sq', 'id', 'da', 'no', 'id', 'no', 'no', 'da', 'no', 'no', 'et', 'ca', 'af', 'fr', 'no', 'da', 'no', 'no', 'no', 'da', 'da', 'no', 'no', 'sq', 'sk', 'da', 'nl', 'no', 'pl', 'tl', 'hu', 'sl', 'no']\n",
      "-------------------------\n",
      "tr\n",
      "18\n",
      "['id', 'so', 'so', 'de', 'id', 'da', 'da', 'de', 'da', 'et', 'so', 'sl', 'da', 'sl', 'hu', 'hr', 'id', 'cs']\n",
      "-------------------------\n"
     ]
    }
   ],
   "source": [
    "for lang in list(mistakes.keys()):\n",
    "    if len(mistakes[lang])>0 :\n",
    "        print(lang)\n",
    "        print(len(mistakes[lang]))\n",
    "        print(mistakes[lang])\n",
    "        print('-------------------------')"
   ]
  },
  {
   "cell_type": "markdown",
   "id": "853f56bf",
   "metadata": {},
   "source": [
    "<p>Dutch, Denish, Spanish and English (in order) are the languages which are most likely to be detected as another language.</p>\n",
    "<p>Dutch is usually detected as Afrikaans, Danish is usually detected as Norwegian, and Spanish is often detected as Portuguese.</p>"
   ]
  }
 ],
 "metadata": {
  "kernelspec": {
   "display_name": "Python 3 (ipykernel)",
   "language": "python",
   "name": "python3"
  },
  "language_info": {
   "codemirror_mode": {
    "name": "ipython",
    "version": 3
   },
   "file_extension": ".py",
   "mimetype": "text/x-python",
   "name": "python",
   "nbconvert_exporter": "python",
   "pygments_lexer": "ipython3",
   "version": "3.11.0"
  }
 },
 "nbformat": 4,
 "nbformat_minor": 5
}
