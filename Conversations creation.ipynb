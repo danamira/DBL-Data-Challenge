{
 "cells": [
  {
   "cell_type": "code",
   "execution_count": 1,
   "id": "75eb8809",
   "metadata": {},
   "outputs": [],
   "source": [
    " import mysql.connector "
   ]
  },
  {
   "cell_type": "code",
   "execution_count": 2,
   "id": "f2388b5b",
   "metadata": {},
   "outputs": [],
   "source": [
    "#create a list of all airline ids for later on\n",
    "airlines= [56377143, 106062176,18332190, 22536055,124476322,26223583,2182373406,38676903,1542862735,253340062,218730857,\n",
    "          45621423,20626359]"
   ]
  },
  {
   "cell_type": "code",
   "execution_count": 3,
   "id": "99df2d5c",
   "metadata": {
    "scrolled": true
   },
   "outputs": [],
   "source": [
    "db = mysql.connector.connect(host=\"127.0.0.1\", user=\"root\", password=\"\",database=\"dbl\")\n",
    "cursor=db.cursor()"
   ]
  },
  {
   "cell_type": "code",
   "execution_count": 4,
   "id": "c38b43c6",
   "metadata": {},
   "outputs": [
    {
     "ename": "ProgrammingError",
     "evalue": "1050 (42S01): Table 'dayone' already exists",
     "output_type": "error",
     "traceback": [
      "\u001b[1;31m---------------------------------------------------------------------------\u001b[0m",
      "\u001b[1;31mMySQLInterfaceError\u001b[0m                       Traceback (most recent call last)",
      "File \u001b[1;32m~\\AppData\\Local\\anaconda3\\lib\\site-packages\\mysql\\connector\\connection_cext.py:611\u001b[0m, in \u001b[0;36mCMySQLConnection.cmd_query\u001b[1;34m(self, query, raw, buffered, raw_as_string)\u001b[0m\n\u001b[0;32m    610\u001b[0m         query \u001b[38;5;241m=\u001b[39m query\u001b[38;5;241m.\u001b[39mencode(\u001b[38;5;124m\"\u001b[39m\u001b[38;5;124mutf-8\u001b[39m\u001b[38;5;124m\"\u001b[39m)\n\u001b[1;32m--> 611\u001b[0m     \u001b[38;5;28;43mself\u001b[39;49m\u001b[38;5;241;43m.\u001b[39;49m\u001b[43m_cmysql\u001b[49m\u001b[38;5;241;43m.\u001b[39;49m\u001b[43mquery\u001b[49m\u001b[43m(\u001b[49m\n\u001b[0;32m    612\u001b[0m \u001b[43m        \u001b[49m\u001b[43mquery\u001b[49m\u001b[43m,\u001b[49m\n\u001b[0;32m    613\u001b[0m \u001b[43m        \u001b[49m\u001b[43mraw\u001b[49m\u001b[38;5;241;43m=\u001b[39;49m\u001b[43mraw\u001b[49m\u001b[43m,\u001b[49m\n\u001b[0;32m    614\u001b[0m \u001b[43m        \u001b[49m\u001b[43mbuffered\u001b[49m\u001b[38;5;241;43m=\u001b[39;49m\u001b[43mbuffered\u001b[49m\u001b[43m,\u001b[49m\n\u001b[0;32m    615\u001b[0m \u001b[43m        \u001b[49m\u001b[43mraw_as_string\u001b[49m\u001b[38;5;241;43m=\u001b[39;49m\u001b[43mraw_as_string\u001b[49m\u001b[43m,\u001b[49m\n\u001b[0;32m    616\u001b[0m \u001b[43m        \u001b[49m\u001b[43mquery_attrs\u001b[49m\u001b[38;5;241;43m=\u001b[39;49m\u001b[38;5;28;43mself\u001b[39;49m\u001b[38;5;241;43m.\u001b[39;49m\u001b[43m_query_attrs\u001b[49m\u001b[43m,\u001b[49m\n\u001b[0;32m    617\u001b[0m \u001b[43m    \u001b[49m\u001b[43m)\u001b[49m\n\u001b[0;32m    618\u001b[0m \u001b[38;5;28;01mexcept\u001b[39;00m MySQLInterfaceError \u001b[38;5;28;01mas\u001b[39;00m err:\n",
      "\u001b[1;31mMySQLInterfaceError\u001b[0m: Table 'dayone' already exists",
      "\nThe above exception was the direct cause of the following exception:\n",
      "\u001b[1;31mProgrammingError\u001b[0m                          Traceback (most recent call last)",
      "Cell \u001b[1;32mIn[4], line 2\u001b[0m\n\u001b[0;32m      1\u001b[0m \u001b[38;5;66;03m#create the dayone view\u001b[39;00m\n\u001b[1;32m----> 2\u001b[0m \u001b[43mcursor\u001b[49m\u001b[38;5;241;43m.\u001b[39;49m\u001b[43mexecute\u001b[49m\u001b[43m(\u001b[49m\u001b[38;5;124;43m\"\u001b[39;49m\u001b[38;5;124;43mCREATE VIEW `dayone` AS SELECT * FROM `tweets` t WHERE t.timestamp < 1558606800000\u001b[39;49m\u001b[38;5;124;43m\"\u001b[39;49m\u001b[43m)\u001b[49m\n",
      "File \u001b[1;32m~\\AppData\\Local\\anaconda3\\lib\\site-packages\\mysql\\connector\\cursor_cext.py:330\u001b[0m, in \u001b[0;36mCMySQLCursor.execute\u001b[1;34m(self, operation, params, multi)\u001b[0m\n\u001b[0;32m    325\u001b[0m             \u001b[38;5;28;01mraise\u001b[39;00m ProgrammingError(\n\u001b[0;32m    326\u001b[0m                 \u001b[38;5;124m\"\u001b[39m\u001b[38;5;124mNot all parameters were used in the SQL statement\u001b[39m\u001b[38;5;124m\"\u001b[39m\n\u001b[0;32m    327\u001b[0m             )\n\u001b[0;32m    329\u001b[0m \u001b[38;5;28;01mtry\u001b[39;00m:\n\u001b[1;32m--> 330\u001b[0m     result \u001b[38;5;241m=\u001b[39m \u001b[38;5;28;43mself\u001b[39;49m\u001b[38;5;241;43m.\u001b[39;49m\u001b[43m_cnx\u001b[49m\u001b[38;5;241;43m.\u001b[39;49m\u001b[43mcmd_query\u001b[49m\u001b[43m(\u001b[49m\n\u001b[0;32m    331\u001b[0m \u001b[43m        \u001b[49m\u001b[43mstmt\u001b[49m\u001b[43m,\u001b[49m\n\u001b[0;32m    332\u001b[0m \u001b[43m        \u001b[49m\u001b[43mraw\u001b[49m\u001b[38;5;241;43m=\u001b[39;49m\u001b[38;5;28;43mself\u001b[39;49m\u001b[38;5;241;43m.\u001b[39;49m\u001b[43m_raw\u001b[49m\u001b[43m,\u001b[49m\n\u001b[0;32m    333\u001b[0m \u001b[43m        \u001b[49m\u001b[43mbuffered\u001b[49m\u001b[38;5;241;43m=\u001b[39;49m\u001b[38;5;28;43mself\u001b[39;49m\u001b[38;5;241;43m.\u001b[39;49m\u001b[43m_buffered\u001b[49m\u001b[43m,\u001b[49m\n\u001b[0;32m    334\u001b[0m \u001b[43m        \u001b[49m\u001b[43mraw_as_string\u001b[49m\u001b[38;5;241;43m=\u001b[39;49m\u001b[38;5;28;43mself\u001b[39;49m\u001b[38;5;241;43m.\u001b[39;49m\u001b[43m_raw_as_string\u001b[49m\u001b[43m,\u001b[49m\n\u001b[0;32m    335\u001b[0m \u001b[43m    \u001b[49m\u001b[43m)\u001b[49m\n\u001b[0;32m    336\u001b[0m \u001b[38;5;28;01mexcept\u001b[39;00m MySQLInterfaceError \u001b[38;5;28;01mas\u001b[39;00m err:\n\u001b[0;32m    337\u001b[0m     \u001b[38;5;28;01mraise\u001b[39;00m get_mysql_exception(\n\u001b[0;32m    338\u001b[0m         msg\u001b[38;5;241m=\u001b[39merr\u001b[38;5;241m.\u001b[39mmsg, errno\u001b[38;5;241m=\u001b[39merr\u001b[38;5;241m.\u001b[39merrno, sqlstate\u001b[38;5;241m=\u001b[39merr\u001b[38;5;241m.\u001b[39msqlstate\n\u001b[0;32m    339\u001b[0m     ) \u001b[38;5;28;01mfrom\u001b[39;00m \u001b[38;5;21;01merr\u001b[39;00m\n",
      "File \u001b[1;32m~\\AppData\\Local\\anaconda3\\lib\\site-packages\\mysql\\connector\\connection_cext.py:619\u001b[0m, in \u001b[0;36mCMySQLConnection.cmd_query\u001b[1;34m(self, query, raw, buffered, raw_as_string)\u001b[0m\n\u001b[0;32m    611\u001b[0m     \u001b[38;5;28mself\u001b[39m\u001b[38;5;241m.\u001b[39m_cmysql\u001b[38;5;241m.\u001b[39mquery(\n\u001b[0;32m    612\u001b[0m         query,\n\u001b[0;32m    613\u001b[0m         raw\u001b[38;5;241m=\u001b[39mraw,\n\u001b[1;32m   (...)\u001b[0m\n\u001b[0;32m    616\u001b[0m         query_attrs\u001b[38;5;241m=\u001b[39m\u001b[38;5;28mself\u001b[39m\u001b[38;5;241m.\u001b[39m_query_attrs,\n\u001b[0;32m    617\u001b[0m     )\n\u001b[0;32m    618\u001b[0m \u001b[38;5;28;01mexcept\u001b[39;00m MySQLInterfaceError \u001b[38;5;28;01mas\u001b[39;00m err:\n\u001b[1;32m--> 619\u001b[0m     \u001b[38;5;28;01mraise\u001b[39;00m get_mysql_exception(\n\u001b[0;32m    620\u001b[0m         err\u001b[38;5;241m.\u001b[39merrno, msg\u001b[38;5;241m=\u001b[39merr\u001b[38;5;241m.\u001b[39mmsg, sqlstate\u001b[38;5;241m=\u001b[39merr\u001b[38;5;241m.\u001b[39msqlstate\n\u001b[0;32m    621\u001b[0m     ) \u001b[38;5;28;01mfrom\u001b[39;00m \u001b[38;5;21;01merr\u001b[39;00m\n\u001b[0;32m    622\u001b[0m \u001b[38;5;28;01mexcept\u001b[39;00m \u001b[38;5;167;01mAttributeError\u001b[39;00m \u001b[38;5;28;01mas\u001b[39;00m err:\n\u001b[0;32m    623\u001b[0m     addr \u001b[38;5;241m=\u001b[39m (\n\u001b[0;32m    624\u001b[0m         \u001b[38;5;28mself\u001b[39m\u001b[38;5;241m.\u001b[39m_unix_socket \u001b[38;5;28;01mif\u001b[39;00m \u001b[38;5;28mself\u001b[39m\u001b[38;5;241m.\u001b[39m_unix_socket \u001b[38;5;28;01melse\u001b[39;00m \u001b[38;5;124mf\u001b[39m\u001b[38;5;124m\"\u001b[39m\u001b[38;5;132;01m{\u001b[39;00m\u001b[38;5;28mself\u001b[39m\u001b[38;5;241m.\u001b[39m_host\u001b[38;5;132;01m}\u001b[39;00m\u001b[38;5;124m:\u001b[39m\u001b[38;5;132;01m{\u001b[39;00m\u001b[38;5;28mself\u001b[39m\u001b[38;5;241m.\u001b[39m_port\u001b[38;5;132;01m}\u001b[39;00m\u001b[38;5;124m\"\u001b[39m\n\u001b[0;32m    625\u001b[0m     )\n",
      "\u001b[1;31mProgrammingError\u001b[0m: 1050 (42S01): Table 'dayone' already exists"
     ]
    }
   ],
   "source": [
    "#create the dayone view\n",
    "cursor.execute(\"CREATE VIEW `dayone` AS SELECT * FROM `tweets` t WHERE t.timestamp < 1558606800000\")"
   ]
  },
  {
   "cell_type": "code",
   "execution_count": 4,
   "id": "3d4ab5e0",
   "metadata": {},
   "outputs": [],
   "source": [
    "cursor.execute(\"SELECT * FROM `dayone` ORDER BY timestamp DESC\") \n",
    "dayone=cursor.fetchall() #store all tweets of one day from new to old in dayone"
   ]
  },
  {
   "cell_type": "code",
   "execution_count": 5,
   "id": "6beb6df5",
   "metadata": {},
   "outputs": [],
   "source": [
    "cursor.execute(\"SELECT * FROM `tweets` ORDER BY timestamp DESC\")\n",
    "total=cursor.fetchall() #store all tweets from new to old in total"
   ]
  },
  {
   "cell_type": "code",
   "execution_count": 6,
   "id": "fbff9797",
   "metadata": {},
   "outputs": [
    {
     "name": "stdout",
     "output_type": "stream",
     "text": [
      "6094135\n"
     ]
    }
   ],
   "source": [
    "cursor.execute(\"SELECT COUNT(*) FROM `tweets` t\")\n",
    "tot_numb=cursor.fetchall()[0][0]\n",
    "print(tot_numb) #return the total number of tweets"
   ]
  },
  {
   "cell_type": "markdown",
   "id": "51590be5",
   "metadata": {},
   "source": [
    "for all tweet_ids <br>\n",
    "&emsp; if id in dictionary <br>\n",
    "&emsp; &emsp; link this to those conversations in dictionary<br>\n",
    "&emsp; &emsp; update the info for those conversations<br>\n",
    "&emsp; else<br>\n",
    "&emsp; &emsp; create a new conversation with values from this tweet<br>\n",
    "&emsp; &emsp; create a tuple linking this tweet to this conversation<br>\n",
    "&emsp; if in_reply_to_id not zero<br>\n",
    "&emsp; &emsp; add conversation id from this tweet to that id's dictionary list<br>"
   ]
  },
  {
   "cell_type": "markdown",
   "id": "d4c719d1",
   "metadata": {},
   "source": [
    "CREATE TABLE table_name (<br>\n",
    "    column1 datatype,<br>\n",
    "    column2 datatype,<br>\n",
    "    column3 datatype,<br>\n",
    "   ....<br>\n",
    "); "
   ]
  },
  {
   "cell_type": "code",
   "execution_count": 7,
   "id": "f97f0286",
   "metadata": {},
   "outputs": [],
   "source": [
    "def create_tables():\n",
    "    \"\"\"This function will create a new table in the MySQL environment called conversations with the following attributes:\n",
    "    conversation ID, conversation start time, conversation end time, has an airline participated, length of conversations,\n",
    "    and the response time. Furthermore, also create a table that links tweets to conversations they are a part of.\"\"\"\n",
    "    \n",
    "    cursor.execute(\"\"\"CREATE TABLE `dbl`.`conversations`(id MEDIUMINT NOT NULL, Tstart BIGINT NOT NULL, Tend BIGINT NOT NULL,\n",
    "    Airline VARCHAR(50) NOT NULL DEFAULT '0',Length SMALLINT NOT NULL, PRIMARY KEY (id))\"\"\")\n",
    "    \n",
    "    cursor.execute(\"\"\"CREATE TABLE `dbl`.`part_of`(tID BIGINT NOT NULL, cID MEDIUMINT NOT NULL, PRIMARY KEY(tID, cID), \n",
    "    FOREIGN KEY (tID) REFERENCES `tweets`(id), FOREIGN KEY (cID) REFERENCES `conversations`(id))\"\"\")\n",
    "    return 'done'\n",
    "\n",
    "def drop_tables():\n",
    "    \"\"\"Drop the table called conversations and the one called part_of\"\"\"\n",
    "    cursor.execute(\"DROP TABLE `part_of`\")\n",
    "    cursor.execute(\"DROP TABLE `conversations`\")\n",
    "\n",
    "    return 'dropped'\n",
    "\n",
    "def clear_tables():\n",
    "    \"\"\"Clears all values from the tables part_off and conversations\"\"\"\n",
    "    cursor.execute(\"DELETE FROM `part_of`\")\n",
    "    cursor.execute(\"DELETE FROM`conversations`\")\n",
    "    return db.commit()"
   ]
  },
  {
   "cell_type": "code",
   "execution_count": 16,
   "id": "9e68a3d0",
   "metadata": {},
   "outputs": [
    {
     "data": {
      "text/plain": [
       "'dropped'"
      ]
     },
     "execution_count": 16,
     "metadata": {},
     "output_type": "execute_result"
    }
   ],
   "source": [
    "drop_tables()"
   ]
  },
  {
   "cell_type": "code",
   "execution_count": 18,
   "id": "cde5be6d",
   "metadata": {
    "scrolled": true
   },
   "outputs": [
    {
     "data": {
      "text/plain": [
       "'done'"
      ]
     },
     "execution_count": 18,
     "metadata": {},
     "output_type": "execute_result"
    }
   ],
   "source": [
    "create_tables()"
   ]
  },
  {
   "cell_type": "markdown",
   "id": "beb70f5e",
   "metadata": {},
   "source": [
    "INSERT INTO table(c1,c2,...) <br>\n",
    "VALUES <br>\n",
    "   (v11,v12,...), <br>\n",
    "   (v21,v22,...), <br>\n",
    "    ... <br>\n",
    "   (vnn,vn2,...); <br>"
   ]
  },
  {
   "cell_type": "code",
   "execution_count": 64,
   "id": "d5216522",
   "metadata": {},
   "outputs": [],
   "source": [
    "def fill_tables (tweets: list) -> None:\n",
    "    \"\"\"This function will insert into the tables 'part_of' and 'conversations' the correct information given an input\n",
    "        SQL table tweets.\n",
    "        \"\"\"\n",
    "    tracker = 0\n",
    "    \n",
    "    #store what conversations a certain tweet_id will have to become a member of, because a reply to it is in it, in this dict.\n",
    "    member_of = {}\n",
    "\n",
    "    #increment this whenever you create a new conversation, to ensure there are no duplicate ids, we start with cID=1\n",
    "    conv_id = 1\n",
    "    \n",
    "    for t in tweets:\n",
    "        tweet = t[0]\n",
    "        reply_id = t[2]\n",
    "        tstamp = t[3]\n",
    "        user_id = t[5]\n",
    "        if tweet in member_of: #we have found replies to this tweet before\n",
    "            convs = member_of.pop(tweet)\n",
    "            for conv in convs:\n",
    "                cursor.execute(f\"INSERT INTO `part_of`(tID,cID) VALUES ({tweet},{conv})\")\n",
    "                \n",
    "                cursor.execute(f\"SELECT * FROM `conversations` WHERE id={conv}\") \n",
    "                conv_info=cursor.fetchall() #store the information about the current conversation in conv_info\n",
    "                conv_air = conv_info[0][3] #the airlines that are participating in this conversation\n",
    "                length = conv_info[0][4] #the current length of this conversations\n",
    "                conv_air_lst = list(map(int,conv_air.split(\",\"))) #turn the string into a list of integers\n",
    "                \n",
    "                if user_id in airlines:    #checks if the user is an airline and, if yes, stores which airlines\n",
    "                                            #have participated.\n",
    "                    if conv_air_lst == [0]: #if or no airline has participated in this conversation.\n",
    "                        cursor.execute(f\"\"\"UPDATE `conversations` SET Tstart={tstamp}, Airline = {user_id}, length = {length+1}\n",
    "                        WHERE id={conv}\"\"\")\n",
    "                    \n",
    "                    elif user_id not in conv_air_lst:#if this airline has not yet participated, but another one has\n",
    "                        conv_air_new =  conv_air_lst+ [user_id] #store the airlines already participating\n",
    "                                                                #and the new one in a list\n",
    "                        for line in range(len(conv_air_new)): #Update the table with new list.\n",
    "                            if line == 0: #if its the first airlin, no space needed\n",
    "                                str_air=str(conv_air_new[line])\n",
    "                            else:\n",
    "                                str_air = str_air+ \",\" +str(conv_air_new[line])\n",
    "                                \n",
    "                        cursor.execute(f\"\"\"UPDATE `conversations` SET Tstart={tstamp}, Airline = '{str_air}',\n",
    "                        length = {length+1} WHERE id={conv}\"\"\")\n",
    "                        print(\"happened\")\n",
    "                else:\n",
    "                    cursor.execute(f\"UPDATE `conversations` SET Tstart={tstamp}, length = {length+1} WHERE id={conv}\")\n",
    "            tracker += 1\n",
    "            \n",
    "        else: #this is the last tweet of a conversation\n",
    "            convs=[conv_id] #used for later if statement.\n",
    "            \n",
    "            if user_id in airlines: #is the user_id of this tweet an airline\n",
    "                cursor.execute(f\"\"\"INSERT INTO `conversations`(id,Tstart, Tend, Airline, length)\n",
    "                VALUES ({conv_id}, {tstamp}, {tstamp}, {user_id}, 1)\"\"\") #create conversation in table\n",
    "            \n",
    "            else: #this tweet is not from an airline\n",
    "                cursor.execute(f\"\"\"INSERT INTO `conversations`(id,Tstart, Tend, length) \n",
    "                VALUES ({conv_id}, {tstamp}, {tstamp}, 1)\"\"\") #create conversation in table\n",
    "            \n",
    "            cursor.execute(f\"INSERT INTO `part_of`(tID,cID) VALUES ({tweet},{conv_id})\")\n",
    "            conv_id += 1 #increment the conversation id to ensure no duplicate conversation ids occur\n",
    "        \n",
    "        if reply_id != 0: #if this tweet replies to someone\n",
    "            \n",
    "            if reply_id in member_of:   #if the tweet this replies to already has another reply, add the new conversations to dict\n",
    "                                    #and keep old one.\n",
    "                member_of[reply_id] = member_of[reply_id] + convs\n",
    "                \n",
    "            else:\n",
    "                member_of[reply_id] = convs        \n",
    "    return db.commit()#conv_id, tracker#,member_of"
   ]
  },
  {
   "cell_type": "code",
   "execution_count": null,
   "id": "566f049c",
   "metadata": {},
   "outputs": [],
   "source": [
    "FT_tot = fill_tables(total)\n"
   ]
  },
  {
   "cell_type": "code",
   "execution_count": null,
   "id": "549fc4e3",
   "metadata": {},
   "outputs": [],
   "source": [
    "if sum(FT_tot) == tot_numb:\n",
    "    print(\"Everything worked correctly\")"
   ]
  },
  {
   "cell_type": "code",
   "execution_count": 65,
   "id": "5d601af8",
   "metadata": {},
   "outputs": [],
   "source": [
    "clear_tables()"
   ]
  },
  {
   "cell_type": "code",
   "execution_count": 66,
   "id": "908884bc",
   "metadata": {},
   "outputs": [],
   "source": [
    "#try to run the function for dayone only\n",
    "FT_dayone = fill_tables(dayone)\n",
    "db.commit()"
   ]
  },
  {
   "cell_type": "code",
   "execution_count": null,
   "id": "f8bd770b",
   "metadata": {},
   "outputs": [],
   "source": [
    "%%timeit\n",
    "fill_tables(total)\n",
    "clear_tables()\n",
    "print('done')"
   ]
  },
  {
   "cell_type": "markdown",
   "id": "ec94a395",
   "metadata": {},
   "source": [
    "total: <br>\n",
    "attempt 1:\n",
    "\n",
    "dayone: <br>\n",
    "attempt 1:The slowest run took 13.52 times longer than the fastest. This could mean that an intermediate result is being cached. 6min 45s ± 6min 58s per loop (mean ± std. dev. of 7 runs, 1 loop each) <br>\n",
    "attempt 2: 2.25 s ± 39.8 ms per loop (mean ± std. dev. of 7 runs, 1 loop each <br>\n",
    "attempt 3: 2.28 s ± 49.6 ms per loop (mean ± std. dev. of 7 runs, 1 loop each) <br>\n",
    "attempt 4: 2.37 s ± 70.2 ms per loop (mean ± std. dev. of 7 runs, 1 loop each) <br>\n",
    "attempt 5: 2.38 s ± 45.4 ms per loop (mean ± std. dev. of 7 runs, 1 loop each) <br>\n",
    "attempt 6: 2.38 s ± 53.9 ms per loop (mean ± std. dev. of 7 runs, 1 loop each)"
   ]
  },
  {
   "cell_type": "code",
   "execution_count": null,
   "id": "b31e16e6",
   "metadata": {},
   "outputs": [],
   "source": []
  }
 ],
 "metadata": {
  "kernelspec": {
   "display_name": "Python 3 (ipykernel)",
   "language": "python",
   "name": "python3"
  },
  "language_info": {
   "codemirror_mode": {
    "name": "ipython",
    "version": 3
   },
   "file_extension": ".py",
   "mimetype": "text/x-python",
   "name": "python",
   "nbconvert_exporter": "python",
   "pygments_lexer": "ipython3",
   "version": "3.10.11"
  }
 },
 "nbformat": 4,
 "nbformat_minor": 5
}
