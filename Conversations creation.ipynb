{
 "cells": [
  {
   "cell_type": "code",
   "execution_count": 1,
   "id": "75eb8809",
   "metadata": {},
   "outputs": [],
   "source": [
    " import mysql.connector "
   ]
  },
  {
   "cell_type": "code",
   "execution_count": 2,
   "id": "f2388b5b",
   "metadata": {},
   "outputs": [],
   "source": [
    "#create a list of all airline user_ids for later on\n",
    "airlines= [56377143, 106062176,18332190, 22536055,124476322,26223583,2182373406,38676903,1542862735,253340062,218730857,\n",
    "          45621423,20626359]"
   ]
  },
  {
   "cell_type": "code",
   "execution_count": 3,
   "id": "99df2d5c",
   "metadata": {
    "scrolled": true
   },
   "outputs": [],
   "source": [
    "db = mysql.connector.connect(host=\"127.0.0.1\", user=\"root\", password=\"\",database=\"dbl\")\n",
    "cursor=db.cursor() #initialize mysql to be able to query and edit the SQL tables."
   ]
  },
  {
   "cell_type": "code",
   "execution_count": 4,
   "id": "6beb6df5",
   "metadata": {},
   "outputs": [],
   "source": [
    "cursor.execute(\"SELECT * FROM `tweets` ORDER BY timestamp DESC\")\n",
    "total=cursor.fetchall() #store all tweets from new to old in the variable 'total'"
   ]
  },
  {
   "cell_type": "markdown",
   "id": "51590be5",
   "metadata": {},
   "source": [
    "Tables: <br>\n",
    "tweets: (id, text, in_reply_to, timestamp, user_mentions, user_id, user_verified, user_followers_count, user_tweets_count) <br>\n",
    "conversations: (id, Tstart, Tend, Airline, Length)<br>\n",
    "part_of: (tID, cID)"
   ]
  },
  {
   "cell_type": "code",
   "execution_count": 5,
   "id": "f97f0286",
   "metadata": {},
   "outputs": [],
   "source": [
    "def create_tables():\n",
    "    \"\"\"This function will create a new table in the MySQL environment called conversations with the following attributes:\n",
    "    conversation ID, conversation start time, conversation end time, has an airline participated, length of conversations,\n",
    "    and the response time. Furthermore, also create a table that links tweets to conversations they are a part of.\"\"\"\n",
    "    \n",
    "    cursor.execute(\"\"\"CREATE TABLE `dbl`.`conversations`(id MEDIUMINT NOT NULL, Tstart BIGINT NOT NULL, Tend BIGINT NOT NULL,\n",
    "    Airline VARCHAR(50) NOT NULL DEFAULT '0',Length SMALLINT NOT NULL, PRIMARY KEY (id))\"\"\")\n",
    "    \n",
    "    cursor.execute(\"\"\"CREATE TABLE `dbl`.`part_of`(tID BIGINT NOT NULL, cID MEDIUMINT NOT NULL, PRIMARY KEY(tID, cID), \n",
    "    FOREIGN KEY (tID) REFERENCES `tweets`(id), FOREIGN KEY (cID) REFERENCES `conversations`(id))\"\"\")\n",
    "    return 'done'\n",
    "\n",
    "def drop_tables():\n",
    "    \"\"\"Drop the table called conversations and the one called part_of\"\"\"\n",
    "    cursor.execute(\"DROP TABLE `part_of`\")\n",
    "    cursor.execute(\"DROP TABLE `conversations`\")\n",
    "\n",
    "    return 'dropped'\n",
    "\n",
    "def clear_tables():\n",
    "    \"\"\"Clears all values from the tables part_off and conversations\"\"\"\n",
    "    cursor.execute(\"DELETE FROM `part_of`\")\n",
    "    cursor.execute(\"DELETE FROM`conversations`\")\n",
    "    return db.commit()"
   ]
  },
  {
   "cell_type": "code",
   "execution_count": 18,
   "id": "cde5be6d",
   "metadata": {
    "scrolled": true
   },
   "outputs": [
    {
     "data": {
      "text/plain": [
       "'done'"
      ]
     },
     "execution_count": 18,
     "metadata": {},
     "output_type": "execute_result"
    }
   ],
   "source": [
    "create_tables() #here we create the extra tables that we need to store the information about our conversations."
   ]
  },
  {
   "cell_type": "code",
   "execution_count": 30,
   "id": "d5216522",
   "metadata": {},
   "outputs": [],
   "source": [
    "def fill_tables (tweets: list) -> None:\n",
    "    \"\"\"This function will insert into the tables 'part_of' and 'conversations' the correct information given an input\n",
    "        SQL table tweets.\n",
    "        \"\"\"\n",
    "    \n",
    "    #store what conversations a certain tweet_id will have to become a member of,\n",
    "    member_of = {} #because a reply to it is in it, in this dict.\n",
    "\n",
    "    #increment this whenever you create a new conversation, to ensure there are no duplicate ids, we start with cID=1\n",
    "    conv_id = 1\n",
    "    \n",
    "    n = len(tweets) #the number of rows in the tweets table\n",
    "    run = 0 #keep track of how many runs have been done.\n",
    "    for t in tweets:\n",
    "        tweet = t[0]\n",
    "        reply_id = t[2]\n",
    "        tstamp = t[3]\n",
    "        user_id = t[5]\n",
    "        if tweet in member_of: #If we have found replies to this tweet\n",
    "            convs = member_of.pop(tweet)\n",
    "            for conv in convs:\n",
    "                cursor.execute(f\"INSERT INTO `part_of`(tID,cID) VALUES ({tweet},{conv})\")\n",
    "                \n",
    "                cursor.execute(f\"SELECT * FROM `conversations` WHERE id={conv}\") \n",
    "                \n",
    "                conv_info=cursor.fetchall() #store the information about the current conversation in conv_info\n",
    "                \n",
    "                conv_airline = conv_info[0][3] #the airlines that are participating in this conversation\n",
    "                length = 1+conv_info[0][4] #the current length of this conversations\n",
    "                conv_airline_lst = list(map(int,conv_airline.split(\",\"))) #turn the string into a list of integers\n",
    "                \n",
    "                if user_id in airlines:    #if the user is an airline\n",
    "                    \n",
    "                    if conv_airline_lst == [0]: #if no airline has participated in this conversation.\n",
    "                        cursor.execute(f\"\"\"UPDATE `conversations` SET Tstart={tstamp}, Airline = {user_id}, length = {length}\n",
    "                        WHERE id={conv}\"\"\") #update the table and keep track of what airline has participated\n",
    "                    \n",
    "                    elif user_id not in conv_airline_lst:#if this airline has not yet participated, but another one has\n",
    "                        conv_airline_new =  conv_airline_lst+ [user_id] #store the airlines already participating\n",
    "                                                                #and the new one in a list\n",
    "                        for line in range(len(conv_airline_new)): #Create list of airlines that have participated.\n",
    "                            \n",
    "                            if line == 0: #if its the first airline, no space needed\n",
    "                                str_airline=str(conv_airline_new[line])\n",
    "                                \n",
    "                            else:\n",
    "                                str_airline = str_airline+ \",\" +str(conv_airline_new[line])\n",
    "                                \n",
    "                        cursor.execute(f\"\"\"UPDATE `conversations` SET Tstart={tstamp}, Airline = '{str_airline}',\n",
    "                        length = {length} WHERE id={conv}\"\"\")\n",
    "                        \n",
    "                    else: #if the airline has already participated\n",
    "                        cursor.execute(f\"UPDATE `conversations` SET Tstart={tstamp}, length = {length} WHERE id={conv}\")\n",
    "\n",
    "                else: #If the user is not an airline\n",
    "                    cursor.execute(f\"UPDATE `conversations` SET Tstart={tstamp}, length = {length} WHERE id={conv}\")\n",
    "            \n",
    "        else: #this is the last tweet of a conversation (it has no replies)\n",
    "            convs=[conv_id] #used for later if statement.\n",
    "            \n",
    "            if user_id in airlines: #if the user is an airline\n",
    "                cursor.execute(f\"\"\"INSERT INTO `conversations`(id,Tstart, Tend, Airline, length)\n",
    "                VALUES ({conv_id}, {tstamp}, {tstamp}, {user_id}, 1)\"\"\") #create conversation in table\n",
    "            \n",
    "            else: #The tweet is not from an airline\n",
    "                cursor.execute(f\"\"\"INSERT INTO `conversations`(id,Tstart, Tend, length) \n",
    "                VALUES ({conv_id}, {tstamp}, {tstamp}, 1)\"\"\") #create conversation in table\n",
    "            \n",
    "            cursor.execute(f\"INSERT INTO `part_of`(tID,cID) VALUES ({tweet},{conv_id})\") #update the part_of table\n",
    "            conv_id += 1 #increment the conversation id to ensure no duplicate conversation ids occur\n",
    "        \n",
    "        if reply_id != 0: #if this tweet replies to someone\n",
    "            \n",
    "            if reply_id in member_of:   #if the tweet this replies to already has another reply, add the new conversations to \n",
    "                                        #dict and keep old one\n",
    "                member_of[reply_id] = member_of[reply_id] + convs\n",
    "                \n",
    "            else:\n",
    "                member_of[reply_id] = convs #If there is not yet another reply to this tweet, store what conversation it\n",
    "                                            #is now a part of.\n",
    "        if run% round(n/10)==0: #run is a multiple of n/10 rounded to an integer\n",
    "            db.commit() #commit the database to ensure it does not run into an error\n",
    "        run += 1\n",
    "    return None #db.commit()"
   ]
  },
  {
   "cell_type": "code",
   "execution_count": 31,
   "id": "566f049c",
   "metadata": {},
   "outputs": [],
   "source": [
    "FT_tot = fill_tables(total)"
   ]
  }
 ],
 "metadata": {
  "kernelspec": {
   "display_name": "Python 3 (ipykernel)",
   "language": "python",
   "name": "python3"
  },
  "language_info": {
   "codemirror_mode": {
    "name": "ipython",
    "version": 3
   },
   "file_extension": ".py",
   "mimetype": "text/x-python",
   "name": "python",
   "nbconvert_exporter": "python",
   "pygments_lexer": "ipython3",
   "version": "3.10.11"
  }
 },
 "nbformat": 4,
 "nbformat_minor": 5
}
