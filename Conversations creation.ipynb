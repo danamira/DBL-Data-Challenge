{
 "cells": [
  {
   "cell_type": "markdown",
   "id": "0d5d6764",
   "metadata": {
    "scrolled": true
   },
   "source": [
    "• KLM 56377143\n",
    "• AirFrance 106062176\n",
    "• British_Airways 18332190\n",
    "• AmericanAir 22536055\n",
    "• Lufthansa 124476322\n",
    "• AirBerlin 26223583\n",
    "• AirBerlin assist 2182373406\n",
    "• easyJet 38676903\n",
    "• RyanAir 1542862735\n",
    "• SingaporeAir 253340062\n",
    "• Qantas 218730857\n",
    "• EtihadAirways 45621423\n",
    "• VirginAtlantic 20626359"
   ]
  },
  {
   "cell_type": "code",
   "execution_count": 1,
   "id": "75eb8809",
   "metadata": {},
   "outputs": [],
   "source": [
    " import mysql.connector "
   ]
  },
  {
   "cell_type": "code",
   "execution_count": 2,
   "id": "99df2d5c",
   "metadata": {},
   "outputs": [],
   "source": [
    "db = mysql.connector.connect(host=\"127.0.0.1\", user=\"root\", password=\"\",database=\"dbl\")\n",
    "cursor=db.cursor()"
   ]
  },
  {
   "cell_type": "code",
   "execution_count": 3,
   "id": "3d4ab5e0",
   "metadata": {},
   "outputs": [],
   "source": [
    "cursor.execute(\"SELECT * FROM `dayone` ORDER BY timestamp DESC\") \n",
    "dayone=cursor.fetchall() #store all tweets of one day from new to old in dayone"
   ]
  },
  {
   "cell_type": "code",
   "execution_count": 4,
   "id": "6beb6df5",
   "metadata": {},
   "outputs": [],
   "source": [
    "cursor.execute(\"SELECT * FROM `tweets` ORDER BY timestamp DESC\")\n",
    "total=cursor.fetchall() #store all tweets from new to old in total"
   ]
  },
  {
   "cell_type": "code",
   "execution_count": 5,
   "id": "fbff9797",
   "metadata": {},
   "outputs": [
    {
     "name": "stdout",
     "output_type": "stream",
     "text": [
      "6094135\n"
     ]
    }
   ],
   "source": [
    "cursor.execute(\"SELECT COUNT(*) FROM `tweets` t\")\n",
    "tot_numb=cursor.fetchall()[0][0]\n",
    "print(tot_numb) #return the total number of tweets"
   ]
  },
  {
   "cell_type": "markdown",
   "id": "95f2089e",
   "metadata": {},
   "source": [
    "# Ideas for conversations implementation\n",
    "loop over SQL table and store what messages are in what conversations in either SQL or dictionaries\n",
    "Use the attributes id, conversation start timestamp (which keeps getting updated when adding new values), conversation end timestamp(which will stay constant after creating it, since we start with its final tweet), has an airline participated (when adding a tweet to a conversation check if it is from an airline or not if the conversation does not already have a participating airline), length of conversation (increment by 1 every time a tweet is added to a conversation)."
   ]
  },
  {
   "cell_type": "markdown",
   "id": "51590be5",
   "metadata": {},
   "source": [
    "for all tweet_ids <br>\n",
    "&emsp; if id in dictionary <br>\n",
    "&emsp; &emsp; link this to those conversations in dictionary<br>\n",
    "&emsp; &emsp; update the info for those conversations<br>\n",
    "&emsp; else<br>\n",
    "&emsp; &emsp; create a new conversation with values from this tweet<br>\n",
    "&emsp; &emsp; create a tuple linking this tweet to this conversation<br>\n",
    "&emsp; if in_reply_to_id not zero<br>\n",
    "&emsp; &emsp; add conversation id from this tweet to that id's dictionary list<br>"
   ]
  },
  {
   "cell_type": "code",
   "execution_count": 6,
   "id": "d5216522",
   "metadata": {},
   "outputs": [],
   "source": [
    "def fill_tables (tweets: list) -> None:\n",
    "    \"\"\"This function will insert into the tables 'part of' and 'conversations' the correct information given an input\n",
    "        SQL table tweets.\n",
    "        \"\"\"\n",
    "    tracker = 0\n",
    "    #store what conversations a certain tweet_id will have to become a member of, because a reply to it is in it, in this dict.\n",
    "\n",
    "    member_of = dict()\n",
    "\n",
    "    #increment this whenever you create a new conversation, to ensure there are no duplicate ids.\n",
    "    conv_id = 0\n",
    "    \n",
    "    for i in tweets:\n",
    "        \n",
    "        if i[0] in member_of:\n",
    "            convs = member_of[i[0]]\n",
    "            member_of.pop(i[0])\n",
    "            #link i[0] to all cIds in the convs list in part of table \n",
    "            #update information about conversation in member_of2\n",
    "            tracker += 1\n",
    "        else:\n",
    "            convs = [conv_id] #store what conversations tweet i has become a part of\n",
    "            #create a new conversation in the conversations table with the information from tweet i\n",
    "            #link i[0] to the newly created conversation with conv_id in part of table.\n",
    "            conv_id += 1 #increment the conversation id to ensure no duplicate conversation ids occur\n",
    "            \n",
    "        if i[2] != 0: #if this tweet replies to someone\n",
    "            if i[2] in member_of:   #if the tweet this replies to already has another reply, add the new conversations to dict\n",
    "                                    #and keep old one.\n",
    "                member_of[i[2]] = member_of[i[2]] + convs\n",
    "                \n",
    "            else:\n",
    "                member_of[i[2]] = convs\n",
    "                \n",
    "    return conv_id, tracker#,member_of)"
   ]
  },
  {
   "cell_type": "code",
   "execution_count": 7,
   "id": "4612db21",
   "metadata": {},
   "outputs": [],
   "source": [
    "def temp_fill_tables (tweets: list) -> None:\n",
    "    \"\"\"This function will insert into the tables 'part of' and 'conversations' the correct information given an input\n",
    "        SQL table tweets.\n",
    "        \"\"\"\n",
    "    tracker = 0\n",
    "    part_of = []\n",
    "    #store what conversations a certain tweet_id will have to become a member of, because a reply to it is in it, in this dict.\n",
    "\n",
    "    member_of = {}\n",
    "\n",
    "    #increment this whenever you create a new conversation, to ensure there are no duplicate ids.\n",
    "    conv_id = 0\n",
    "    \n",
    "    for i in tweets:\n",
    "        \n",
    "        if i[0] in member_of:\n",
    "            convs = member_of[i[0]]\n",
    "            member_of.pop(i[0])\n",
    "            for conv in convs:\n",
    "                part_of = part_of + [[i[0]]+ [conv]]\n",
    "            #update information about conversation in member_of2\n",
    "            tracker += 1\n",
    "        else:\n",
    "            convs = [conv_id] #store what conversations tweet i has become a part of\n",
    "            #create a new conversation in the conversations table with the information from tweet i\n",
    "            part_of = part_of + [[i[0]]+convs]\n",
    "            conv_id += 1 #increment the conversation id to ensure no duplicate conversation ids occur\n",
    "            \n",
    "        if i[2] != 0: #if this tweet replies to someone\n",
    "            if i[2] in member_of:   #if the tweet this replies to already has another reply, add the new conversations to dict\n",
    "                                    #and keep old one.\n",
    "                member_of[i[2]] = member_of[i[2]] + convs\n",
    "            else:\n",
    "                member_of[i[2]] = convs\n",
    "                \n",
    "    return conv_id, tracker"
   ]
  },
  {
   "cell_type": "code",
   "execution_count": 8,
   "id": "566f049c",
   "metadata": {},
   "outputs": [
    {
     "name": "stdout",
     "output_type": "stream",
     "text": [
      "(5137867, 956268)\n"
     ]
    }
   ],
   "source": [
    "FT_tot = fill_tables(total)\n",
    "print(FT_tot)"
   ]
  },
  {
   "cell_type": "code",
   "execution_count": 9,
   "id": "549fc4e3",
   "metadata": {},
   "outputs": [
    {
     "name": "stdout",
     "output_type": "stream",
     "text": [
      "Everything worked correctly\n"
     ]
    }
   ],
   "source": [
    "if sum(FT_tot) == tot_numb:\n",
    "    print(\"Everything worked correctly\")"
   ]
  },
  {
   "cell_type": "code",
   "execution_count": 10,
   "id": "1cd3b769",
   "metadata": {},
   "outputs": [
    {
     "name": "stdout",
     "output_type": "stream",
     "text": [
      "(3, 5)\n"
     ]
    }
   ],
   "source": [
    "FT_ex = fill_tables([[0,1,1],[1,2,2],[2,3,3],[3,4,4],[4,5,5],[7,1,4235],[5,1,0],[9,1,0]])\n",
    "print(FT_ex)"
   ]
  },
  {
   "cell_type": "code",
   "execution_count": 11,
   "id": "908884bc",
   "metadata": {},
   "outputs": [
    {
     "name": "stdout",
     "output_type": "stream",
     "text": [
      "(10690, 2307)\n"
     ]
    }
   ],
   "source": [
    "FT_dayone = fill_tables(dayone)\n",
    "print(FT_dayone)"
   ]
  },
  {
   "cell_type": "code",
   "execution_count": 12,
   "id": "f8bd770b",
   "metadata": {},
   "outputs": [],
   "source": [
    "#%%timeit\n",
    "#fill_tables(total)"
   ]
  },
  {
   "cell_type": "markdown",
   "id": "ec94a395",
   "metadata": {},
   "source": [
    "Temp: <br>\n",
    "1k: 1.4 ms  <br>\n",
    "10k: 183 ms  <br>\n",
    "100k: 23s ?<br>\n",
    "Normal: <br>\n",
    "1k: 215 microseconds <br>\n",
    "10k: 2.86 ms <br>\n",
    "100k: 32.3 ms <br>\n",
    "6 million (all): 3.19 s"
   ]
  },
  {
   "cell_type": "code",
   "execution_count": 13,
   "id": "8b0761a9",
   "metadata": {},
   "outputs": [],
   "source": [
    "repliers = 0\n",
    "for i in total:\n",
    "    if i[2] != 0:\n",
    "        repliers += 1"
   ]
  },
  {
   "cell_type": "code",
   "execution_count": 14,
   "id": "9aeec5dc",
   "metadata": {},
   "outputs": [
    {
     "name": "stdout",
     "output_type": "stream",
     "text": [
      "We have 1788039 replying tweets and we have 956268 tweets that are replied to\n"
     ]
    }
   ],
   "source": [
    "print(f\"We have {repliers} replying tweets and we have {956268} tweets that are replied to\")"
   ]
  },
  {
   "cell_type": "code",
   "execution_count": null,
   "id": "b632f0ef",
   "metadata": {},
   "outputs": [],
   "source": []
  }
 ],
 "metadata": {
  "kernelspec": {
   "display_name": "Python 3 (ipykernel)",
   "language": "python",
   "name": "python3"
  },
  "language_info": {
   "codemirror_mode": {
    "name": "ipython",
    "version": 3
   },
   "file_extension": ".py",
   "mimetype": "text/x-python",
   "name": "python",
   "nbconvert_exporter": "python",
   "pygments_lexer": "ipython3",
   "version": "3.10.11"
  }
 },
 "nbformat": 4,
 "nbformat_minor": 5
}
