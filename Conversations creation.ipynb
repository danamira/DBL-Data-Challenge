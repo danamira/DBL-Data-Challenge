{
 "cells": [
  {
   "cell_type": "code",
   "execution_count": 1,
   "id": "75eb8809",
   "metadata": {},
   "outputs": [],
   "source": [
    "import mysql.connector \n",
    "from database.connect import getConnection\n",
    "import config.env"
   ]
  },
  {
   "cell_type": "code",
   "execution_count": 7,
   "id": "f2388b5b",
   "metadata": {},
   "outputs": [],
   "source": [
    "#create a dictionary of all airline user_ids for later on\n",
    "airlines= {56377143 : 'KLM', 106062176:'AirFrance',18332190:\"British_Airways\", 22536055:\"AmericanAir\",\n",
    "           124476322:\"Lufthansa\",26223583:'AirBerlin',2182373406:'AirBerlin assist',38676903:\"easyJet\",1542862735:\"RyanAir\",\n",
    "           253340062:\"SingaporeAir\",218730857:\"Qantas\",45621423:\"EtihadAirways\",20626359:\"VirginAtlantic\"}"
   ]
  },
  {
   "cell_type": "code",
   "execution_count": 14,
   "id": "99df2d5c",
   "metadata": {
    "scrolled": true
   },
   "outputs": [],
   "source": [
    "db = getConnection()\n",
    "cursor=db.cursor() #initialize mysql to be able to query and edit the SQL tables."
   ]
  },
  {
   "cell_type": "code",
   "execution_count": 4,
   "id": "6beb6df5",
   "metadata": {},
   "outputs": [],
   "source": [
    "cursor.execute(\"SELECT * FROM `tweets` ORDER BY timestamp_ms DESC\")\n",
    "total=cursor.fetchall() #store all tweets from new to old in the variable 'total'"
   ]
  },
  {
   "attachments": {},
   "cell_type": "markdown",
   "id": "51590be5",
   "metadata": {},
   "source": [
    "Tables: <br>\n",
    "tweets: (id, text, in_reply_to_status_id, coordinates, timestamp_ms, verified, followers_count, statuses_count, user_id, language, mentions, airlines, sentiment) <br>\n",
    "conversations: (id, Tstart, Tend, Airline, Length)<br>\n",
    "part_of: (tID, cID, Position)"
   ]
  },
  {
   "cell_type": "code",
   "execution_count": 5,
   "id": "f97f0286",
   "metadata": {},
   "outputs": [],
   "source": [
    "def create_tables() -> str:\n",
    "    \"\"\"This function will create a new table in the MySQL environment called conversations with the following attributes:\n",
    "    conversation ID, conversation start time, conversation end time, has an airline participated, length of conversations,\n",
    "    and the response time. Furthermore, also create a table that links tweets to conversations they are a part of.\"\"\"\n",
    "    database = config.env.getConfig('DB_DATABASE')\n",
    "        \n",
    "    cursor.execute(f\"\"\"CREATE TABLE `{database}`.`conversations`(id MEDIUMINT NOT NULL, Tstart BIGINT NOT NULL,\n",
    "    Tend BIGINT NOT NULL, Airline VARCHAR(50) NOT NULL DEFAULT '0',Length SMALLINT NOT NULL, PRIMARY KEY (id))\"\"\")\n",
    "    \n",
    "    cursor.execute(f\"\"\"CREATE TABLE `{database}`.`part_of`(tID BIGINT NOT NULL, cID MEDIUMINT NOT NULL,\n",
    "    Position SMALLINT NOT NULL, PRIMARY KEY(tID, cID),FOREIGN KEY (tID) REFERENCES `tweets`(id), FOREIGN KEY (cID) REFERENCES `conversations`(id))\"\"\")\n",
    "    return 'done'\n",
    "\n",
    "def drop_tables() -> str:\n",
    "    \"\"\"Drop the table called conversations and the one called part_of\"\"\"\n",
    "    cursor.execute(\"DROP TABLE `part_of`\")\n",
    "    cursor.execute(\"DROP TABLE `conversations`\")\n",
    "    db.commit()\n",
    "    return 'dropped'\n",
    "\n",
    "def clear_tables() -> str:\n",
    "    \"\"\"Clears all values from the tables part_off and conversations\"\"\"\n",
    "    cursor.execute(\"DELETE FROM `part_of`\")\n",
    "    db.commit()\n",
    "    cursor.execute(\"DELETE FROM`conversations`\")\n",
    "    db.commit()\n",
    "    return 'cleared'"
   ]
  },
  {
   "cell_type": "code",
   "execution_count": null,
   "id": "f3d366a5",
   "metadata": {},
   "outputs": [],
   "source": [
    "create_tables() #here we create the extra tables that we need to store the information about our conversations."
   ]
  },
  {
   "cell_type": "code",
   "execution_count": 6,
   "id": "d5216522",
   "metadata": {},
   "outputs": [],
   "source": [
    "def fill_tables (tweets: list) -> None:\n",
    "    \"\"\"This function will insert into the tables 'part_of' and 'conversations' the correct information given an input\n",
    "        SQL table tweets.\n",
    "        input: the tweets table from SQL imported as a list with cursor.\n",
    "        output: None\n",
    "        \"\"\"\n",
    "    \n",
    "    #store what conversations a certain tweet_id will have to become a member of,\n",
    "    member_of = {} #because a reply to it is in it, in this dict.\n",
    "\n",
    "    #increment this whenever you create a new conversation, to ensure there are no duplicate ids, we start with cID=1\n",
    "    conv_id = 1\n",
    "    \n",
    "    n = len(tweets) #the number of rows in the tweets table\n",
    "    run = 0 #keep track of how many runs have been done.\n",
    "    for t in tweets:\n",
    "        tweet = t[0] #id\n",
    "        reply_id = t[2] #reply_to_status_id\n",
    "        tstamp = t[4] #timestamp_ms\n",
    "        user_id = t[8] #user_id\n",
    "        if tweet in member_of: #If we have found replies to this tweet\n",
    "            convs = member_of.pop(tweet)\n",
    "            for conv in convs:\n",
    "                \n",
    "                cursor.execute(f\"SELECT * FROM `conversations` WHERE id={conv}\") \n",
    "                \n",
    "                conv_info=cursor.fetchall() #store the information about the current conversation in conv_info\n",
    "                \n",
    "                conv_airline = conv_info[0][3] #the airlines that are participating in this conversation\n",
    "                length = 1+conv_info[0][4] #the current length of this conversations\n",
    "                \n",
    "                cursor.execute(f\"INSERT INTO `part_of`(tID,cID, Position) VALUES ({tweet},{conv},{length})\") \n",
    "                #add the values to the part_of table, so we can find what conversation this tweet is a part of and where\n",
    "                #in the conversation it appears.\n",
    "                \n",
    "                if user_id in airlines:    #if the user is an airline\n",
    "                    if conv_airline == '0': #if no airline has participated in this conversation.\n",
    "                        cursor.execute(f\"\"\"UPDATE `conversations` SET Tstart={tstamp}, Airline = '[{airlines[user_id]}]',\n",
    "                        length = {length} WHERE id={conv}\"\"\") \n",
    "                        #update the table and keep track of what airline has participated\n",
    "                    \n",
    "                    elif f\"{airlines[user_id]}\" not in conv_airline:#if this airline has not yet participated, but another one has\n",
    "                        conv_airline_new =  conv_airline.replace(']',f\",{airlines[user_id]}]\")\n",
    "                                                                #store the airlines already participating\n",
    "                                                                #and the new one in a list\n",
    "                        cursor.execute(f\"\"\"UPDATE `conversations` SET Tstart={tstamp}, Airline = '{conv_airline_new}',\n",
    "                        length = {length} WHERE id={conv}\"\"\")\n",
    "                        \n",
    "                    else: #if the airline has already participated\n",
    "                        cursor.execute(f\"UPDATE `conversations` SET Tstart={tstamp}, length = {length} WHERE id={conv}\")\n",
    "\n",
    "                else: #If the user is not an airline\n",
    "                    cursor.execute(f\"UPDATE `conversations` SET Tstart={tstamp}, length = {length} WHERE id={conv}\")\n",
    "        else: #this is the last tweet of a conversation (it has no replies)\n",
    "            convs=[conv_id] #used for later if statement.\n",
    "            if reply_id != 0: #don't create a conversation if this is the only tweet in it.\n",
    "                if user_id in airlines: #if the user is an airline\n",
    "                    cursor.execute(f\"\"\"INSERT INTO `conversations`(id,Tstart, Tend, Airline, length)\n",
    "                    VALUES ({conv_id}, {tstamp}, {tstamp}, '[{airlines[user_id]}]', 1)\"\"\") #create conversation in table\n",
    "                else: #The tweet is not from an airline\n",
    "                    cursor.execute(f\"\"\"INSERT INTO `conversations`(id,Tstart, Tend, length) \n",
    "                    VALUES ({conv_id}, {tstamp}, {tstamp}, 1)\"\"\") #create conversation in table\n",
    "                cursor.execute(f\"INSERT INTO `part_of`(tID,cID,Position) VALUES ({tweet},{conv_id},1)\") \n",
    "                #update the part_of table\n",
    "                conv_id += 1 #increment the conversation id to ensure no duplicate conversation ids occur\n",
    "        \n",
    "        if reply_id != 0: #if this tweet replies to someone\n",
    "            \n",
    "            if reply_id in member_of:   #if the tweet this replies to already has another reply, add the new conversations to \n",
    "                                        #dict and keep old one\n",
    "                member_of[reply_id] = member_of[reply_id] + convs\n",
    "                \n",
    "            else:\n",
    "                member_of[reply_id] = convs #If there is not yet another reply to this tweet, store what conversation it\n",
    "                                            #is now a part of.\n",
    "        if run% round(n/10)==0: #run is a multiple of n/10 rounded to an integer\n",
    "            db.commit() #commit the database to ensure it does not run into an error\n",
    "        run += 1\n",
    "    return None #db.commit()"
   ]
  },
  {
   "cell_type": "code",
   "execution_count": 10,
   "id": "0f92c97b",
   "metadata": {},
   "outputs": [],
   "source": [
    "FT_tot = fill_tables(total)"
   ]
  },
  {
   "cell_type": "code",
   "execution_count": 7,
   "id": "9216cc57",
   "metadata": {},
   "outputs": [],
   "source": [
    "def drop_singles (conversations: list) -> None:\n",
    "    \"\"\"This function will drop all the information about conversations where the conversation has a length of 1 tweet.\n",
    "    input: the conversations table imported as a list with cursor.\n",
    "    output: None.\n",
    "    \"\"\"\n",
    "\n",
    "    for c in conversations:\n",
    "        conv_id = c[0] #define the conversation id\n",
    "        conv_length = c[4] #define the length of the conversation\n",
    "        \n",
    "        if conv_length == 1: #If this conversation only includes 1 tweet.\n",
    "            cursor.execute(f\"DELETE FROM part_of WHERE cID = {conv_id}\") #delete the linked tweets and conversation\n",
    "                                                                            #from the table.\n",
    "\n",
    "            cursor.execute(f\"DELETE FROM conversations WHERE id = {conv_id}\") #delete the conversation from the table.\n",
    "        db.commit() #commit the changes to the database files.\n",
    "    return None    \n"
   ]
  },
  {
   "cell_type": "code",
   "execution_count": 8,
   "id": "5a066c0b",
   "metadata": {},
   "outputs": [],
   "source": [
    "cursor.execute(\"SELECT * FROM `conversations`\")\n",
    "conversations = cursor.fetchall()"
   ]
  },
  {
   "cell_type": "code",
   "execution_count": null,
   "id": "18d79ab5",
   "metadata": {},
   "outputs": [],
   "source": [
    "drop_singles(conversations)"
   ]
  },
  {
   "cell_type": "code",
   "execution_count": 8,
   "id": "e7f310bd",
   "metadata": {},
   "outputs": [],
   "source": [
    "def invert_positions(conversations: list) -> None:\n",
    "    \"\"\"This function will invert the numbers placed at position in the part_of table to be more intuitive and easy to compare\n",
    "    now making all root tweets have position 1 instead of the leaf tweets.\n",
    "    Input: conversations list\"\"\"\n",
    "    run = 0\n",
    "    n = len(conversations)\n",
    "    for conv in conversations: #for every conversation that exists\n",
    "        \n",
    "        conv_id = conv[0] \n",
    "        conv_length = conv[4] #define variables\n",
    "        \n",
    "        cursor.execute(f\"SELECT * FROM `part_of` WHERE cID = {conv_id}\") #take the part of the table applicable to current conv.\n",
    "        tweets_conv = cursor.fetchall() #define tweets_conv as all currently interesting rows of part_of\n",
    "        \n",
    "        for tweet in tweets_conv: #for all tweets in this conversation\n",
    "            \n",
    "            tweet_id = tweet[0]\n",
    "            tweet_position = tweet[2] -1 #the old position of the tweet in the conversation.\n",
    "            \n",
    "            cursor.execute(f\"\"\"UPDATE `part_of` SET Position = {conv_length - tweet_position} WHERE tID ={tweet_id}\n",
    "                           AND cID = {conv_id}\"\"\")\n",
    "            #This flips the order, and gives all root nodes Position values of 1 and all root nodes values equal to the\n",
    "            #conversation length.\n",
    "        \n",
    "        run += 1\n",
    "        if run% round(n/10) == 0:\n",
    "            db.commit()\n",
    "    return None"
   ]
  },
  {
   "cell_type": "code",
   "execution_count": 9,
   "id": "4f1b3c93",
   "metadata": {},
   "outputs": [],
   "source": [
    "cursor.execute(\"SELECT * FROM `conversations`\")\n",
    "conversations = cursor.fetchall()"
   ]
  },
  {
   "cell_type": "code",
   "execution_count": 10,
   "id": "303cd685",
   "metadata": {},
   "outputs": [],
   "source": [
    "invert_positions(conversations)"
   ]
  }
 ],
 "metadata": {
  "kernelspec": {
   "display_name": "Python 3 (ipykernel)",
   "language": "python",
   "name": "python3"
  },
  "language_info": {
   "codemirror_mode": {
    "name": "ipython",
    "version": 3
   },
   "file_extension": ".py",
   "mimetype": "text/x-python",
   "name": "python",
   "nbconvert_exporter": "python",
   "pygments_lexer": "ipython3",
   "version": "3.10.11"
  }
 },
 "nbformat": 4,
 "nbformat_minor": 5
}
